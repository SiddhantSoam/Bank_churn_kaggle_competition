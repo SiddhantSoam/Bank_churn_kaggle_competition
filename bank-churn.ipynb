{
 "cells": [
  {
   "cell_type": "code",
   "execution_count": 1,
   "id": "bac53d1e",
   "metadata": {
    "_cell_guid": "b1076dfc-b9ad-4769-8c92-a6c4dae69d19",
    "_uuid": "8f2839f25d086af736a60e9eeb907d3b93b6e0e5",
    "execution": {
     "iopub.execute_input": "2024-01-07T06:06:47.025910Z",
     "iopub.status.busy": "2024-01-07T06:06:47.024906Z",
     "iopub.status.idle": "2024-01-07T06:06:47.491877Z",
     "shell.execute_reply": "2024-01-07T06:06:47.490169Z"
    },
    "papermill": {
     "duration": 0.491181,
     "end_time": "2024-01-07T06:06:47.494767",
     "exception": false,
     "start_time": "2024-01-07T06:06:47.003586",
     "status": "completed"
    },
    "tags": []
   },
   "outputs": [
    {
     "name": "stdout",
     "output_type": "stream",
     "text": [
      "/kaggle/input/bank-customer-churn-prediction/Churn_Modelling.csv\n",
      "/kaggle/input/playground-series-s4e1/sample_submission.csv\n",
      "/kaggle/input/playground-series-s4e1/train.csv\n",
      "/kaggle/input/playground-series-s4e1/test.csv\n"
     ]
    }
   ],
   "source": [
    "# This Python 3 environment comes with many helpful analytics libraries installed\n",
    "# It is defined by the kaggle/python Docker image: https://github.com/kaggle/docker-python\n",
    "# For example, here's several helpful packages to load\n",
    "\n",
    "import numpy as np # linear algebra\n",
    "import pandas as pd # data processing, CSV file I/O (e.g. pd.read_csv)\n",
    "\n",
    "# Input data files are available in the read-only \"../input/\" directory\n",
    "# For example, running this (by clicking run or pressing Shift+Enter) will list all files under the input directory\n",
    "\n",
    "import os\n",
    "for dirname, _, filenames in os.walk('/kaggle/input'):\n",
    "    for filename in filenames:\n",
    "        print(os.path.join(dirname, filename))\n",
    "\n",
    "# You can write up to 20GB to the current directory (/kaggle/working/) that gets preserved as output when you create a version using \"Save & Run All\" \n",
    "# You can also write temporary files to /kaggle/temp/, but they won't be saved outside of the current session"
   ]
  },
  {
   "cell_type": "markdown",
   "id": "7628a89e",
   "metadata": {
    "papermill": {
     "duration": 0.01902,
     "end_time": "2024-01-07T06:06:47.534213",
     "exception": false,
     "start_time": "2024-01-07T06:06:47.515193",
     "status": "completed"
    },
    "tags": []
   },
   "source": [
    "## Importing libraries"
   ]
  },
  {
   "cell_type": "code",
   "execution_count": 2,
   "id": "1cc0211e",
   "metadata": {
    "execution": {
     "iopub.execute_input": "2024-01-07T06:06:47.575119Z",
     "iopub.status.busy": "2024-01-07T06:06:47.574491Z",
     "iopub.status.idle": "2024-01-07T06:06:51.345667Z",
     "shell.execute_reply": "2024-01-07T06:06:51.344376Z"
    },
    "papermill": {
     "duration": 3.795248,
     "end_time": "2024-01-07T06:06:51.348686",
     "exception": false,
     "start_time": "2024-01-07T06:06:47.553438",
     "status": "completed"
    },
    "tags": []
   },
   "outputs": [],
   "source": [
    "import seaborn as sns\n",
    "from sklearn.model_selection import train_test_split \n",
    "from sklearn.metrics import roc_auc_score, roc_curve\n",
    "from sklearn.linear_model import LogisticRegression\n",
    "from sklearn.pipeline import make_pipeline\n",
    "from sklearn.preprocessing import StandardScaler\n",
    "from sklearn.ensemble import RandomForestClassifier\n",
    "from lightgbm import LGBMClassifier\n",
    "import matplotlib.pyplot as plt"
   ]
  },
  {
   "cell_type": "code",
   "execution_count": 3,
   "id": "b2d36959",
   "metadata": {
    "execution": {
     "iopub.execute_input": "2024-01-07T06:06:51.397349Z",
     "iopub.status.busy": "2024-01-07T06:06:51.396754Z",
     "iopub.status.idle": "2024-01-07T06:06:51.959047Z",
     "shell.execute_reply": "2024-01-07T06:06:51.957579Z"
    },
    "papermill": {
     "duration": 0.591957,
     "end_time": "2024-01-07T06:06:51.962042",
     "exception": false,
     "start_time": "2024-01-07T06:06:51.370085",
     "status": "completed"
    },
    "tags": []
   },
   "outputs": [],
   "source": [
    "df_train = pd.read_csv(\"/kaggle/input/playground-series-s4e1/train.csv\")\n",
    "df_org = pd.read_csv(\"/kaggle/input/bank-customer-churn-prediction/Churn_Modelling.csv\")"
   ]
  },
  {
   "cell_type": "code",
   "execution_count": 4,
   "id": "f0e71768",
   "metadata": {
    "execution": {
     "iopub.execute_input": "2024-01-07T06:06:52.004641Z",
     "iopub.status.busy": "2024-01-07T06:06:52.004174Z",
     "iopub.status.idle": "2024-01-07T06:06:52.113570Z",
     "shell.execute_reply": "2024-01-07T06:06:52.112505Z"
    },
    "papermill": {
     "duration": 0.133919,
     "end_time": "2024-01-07T06:06:52.116090",
     "exception": false,
     "start_time": "2024-01-07T06:06:51.982171",
     "status": "completed"
    },
    "tags": []
   },
   "outputs": [
    {
     "name": "stdout",
     "output_type": "stream",
     "text": [
      "<class 'pandas.core.frame.DataFrame'>\n",
      "RangeIndex: 165034 entries, 0 to 165033\n",
      "Data columns (total 14 columns):\n",
      " #   Column           Non-Null Count   Dtype  \n",
      "---  ------           --------------   -----  \n",
      " 0   id               165034 non-null  int64  \n",
      " 1   CustomerId       165034 non-null  int64  \n",
      " 2   Surname          165034 non-null  object \n",
      " 3   CreditScore      165034 non-null  int64  \n",
      " 4   Geography        165034 non-null  object \n",
      " 5   Gender           165034 non-null  object \n",
      " 6   Age              165034 non-null  float64\n",
      " 7   Tenure           165034 non-null  int64  \n",
      " 8   Balance          165034 non-null  float64\n",
      " 9   NumOfProducts    165034 non-null  int64  \n",
      " 10  HasCrCard        165034 non-null  float64\n",
      " 11  IsActiveMember   165034 non-null  float64\n",
      " 12  EstimatedSalary  165034 non-null  float64\n",
      " 13  Exited           165034 non-null  int64  \n",
      "dtypes: float64(5), int64(6), object(3)\n",
      "memory usage: 17.6+ MB\n",
      "None\n"
     ]
    },
    {
     "data": {
      "text/html": [
       "<div>\n",
       "<style scoped>\n",
       "    .dataframe tbody tr th:only-of-type {\n",
       "        vertical-align: middle;\n",
       "    }\n",
       "\n",
       "    .dataframe tbody tr th {\n",
       "        vertical-align: top;\n",
       "    }\n",
       "\n",
       "    .dataframe thead th {\n",
       "        text-align: right;\n",
       "    }\n",
       "</style>\n",
       "<table border=\"1\" class=\"dataframe\">\n",
       "  <thead>\n",
       "    <tr style=\"text-align: right;\">\n",
       "      <th></th>\n",
       "      <th>id</th>\n",
       "      <th>CustomerId</th>\n",
       "      <th>Surname</th>\n",
       "      <th>CreditScore</th>\n",
       "      <th>Geography</th>\n",
       "      <th>Gender</th>\n",
       "      <th>Age</th>\n",
       "      <th>Tenure</th>\n",
       "      <th>Balance</th>\n",
       "      <th>NumOfProducts</th>\n",
       "      <th>HasCrCard</th>\n",
       "      <th>IsActiveMember</th>\n",
       "      <th>EstimatedSalary</th>\n",
       "      <th>Exited</th>\n",
       "    </tr>\n",
       "  </thead>\n",
       "  <tbody>\n",
       "    <tr>\n",
       "      <th>0</th>\n",
       "      <td>0</td>\n",
       "      <td>15674932</td>\n",
       "      <td>Okwudilichukwu</td>\n",
       "      <td>668</td>\n",
       "      <td>France</td>\n",
       "      <td>Male</td>\n",
       "      <td>33.0</td>\n",
       "      <td>3</td>\n",
       "      <td>0.00</td>\n",
       "      <td>2</td>\n",
       "      <td>1.0</td>\n",
       "      <td>0.0</td>\n",
       "      <td>181449.97</td>\n",
       "      <td>0</td>\n",
       "    </tr>\n",
       "    <tr>\n",
       "      <th>1</th>\n",
       "      <td>1</td>\n",
       "      <td>15749177</td>\n",
       "      <td>Okwudiliolisa</td>\n",
       "      <td>627</td>\n",
       "      <td>France</td>\n",
       "      <td>Male</td>\n",
       "      <td>33.0</td>\n",
       "      <td>1</td>\n",
       "      <td>0.00</td>\n",
       "      <td>2</td>\n",
       "      <td>1.0</td>\n",
       "      <td>1.0</td>\n",
       "      <td>49503.50</td>\n",
       "      <td>0</td>\n",
       "    </tr>\n",
       "    <tr>\n",
       "      <th>2</th>\n",
       "      <td>2</td>\n",
       "      <td>15694510</td>\n",
       "      <td>Hsueh</td>\n",
       "      <td>678</td>\n",
       "      <td>France</td>\n",
       "      <td>Male</td>\n",
       "      <td>40.0</td>\n",
       "      <td>10</td>\n",
       "      <td>0.00</td>\n",
       "      <td>2</td>\n",
       "      <td>1.0</td>\n",
       "      <td>0.0</td>\n",
       "      <td>184866.69</td>\n",
       "      <td>0</td>\n",
       "    </tr>\n",
       "    <tr>\n",
       "      <th>3</th>\n",
       "      <td>3</td>\n",
       "      <td>15741417</td>\n",
       "      <td>Kao</td>\n",
       "      <td>581</td>\n",
       "      <td>France</td>\n",
       "      <td>Male</td>\n",
       "      <td>34.0</td>\n",
       "      <td>2</td>\n",
       "      <td>148882.54</td>\n",
       "      <td>1</td>\n",
       "      <td>1.0</td>\n",
       "      <td>1.0</td>\n",
       "      <td>84560.88</td>\n",
       "      <td>0</td>\n",
       "    </tr>\n",
       "    <tr>\n",
       "      <th>4</th>\n",
       "      <td>4</td>\n",
       "      <td>15766172</td>\n",
       "      <td>Chiemenam</td>\n",
       "      <td>716</td>\n",
       "      <td>Spain</td>\n",
       "      <td>Male</td>\n",
       "      <td>33.0</td>\n",
       "      <td>5</td>\n",
       "      <td>0.00</td>\n",
       "      <td>2</td>\n",
       "      <td>1.0</td>\n",
       "      <td>1.0</td>\n",
       "      <td>15068.83</td>\n",
       "      <td>0</td>\n",
       "    </tr>\n",
       "  </tbody>\n",
       "</table>\n",
       "</div>"
      ],
      "text/plain": [
       "   id  CustomerId         Surname  CreditScore Geography Gender   Age  Tenure  \\\n",
       "0   0    15674932  Okwudilichukwu          668    France   Male  33.0       3   \n",
       "1   1    15749177   Okwudiliolisa          627    France   Male  33.0       1   \n",
       "2   2    15694510           Hsueh          678    France   Male  40.0      10   \n",
       "3   3    15741417             Kao          581    France   Male  34.0       2   \n",
       "4   4    15766172       Chiemenam          716     Spain   Male  33.0       5   \n",
       "\n",
       "     Balance  NumOfProducts  HasCrCard  IsActiveMember  EstimatedSalary  \\\n",
       "0       0.00              2        1.0             0.0        181449.97   \n",
       "1       0.00              2        1.0             1.0         49503.50   \n",
       "2       0.00              2        1.0             0.0        184866.69   \n",
       "3  148882.54              1        1.0             1.0         84560.88   \n",
       "4       0.00              2        1.0             1.0         15068.83   \n",
       "\n",
       "   Exited  \n",
       "0       0  \n",
       "1       0  \n",
       "2       0  \n",
       "3       0  \n",
       "4       0  "
      ]
     },
     "execution_count": 4,
     "metadata": {},
     "output_type": "execute_result"
    }
   ],
   "source": [
    "print(df_train.info())\n",
    "df_train.head()"
   ]
  },
  {
   "cell_type": "code",
   "execution_count": 5,
   "id": "a04b2d26",
   "metadata": {
    "execution": {
     "iopub.execute_input": "2024-01-07T06:06:52.159765Z",
     "iopub.status.busy": "2024-01-07T06:06:52.158987Z",
     "iopub.status.idle": "2024-01-07T06:06:52.194900Z",
     "shell.execute_reply": "2024-01-07T06:06:52.193574Z"
    },
    "papermill": {
     "duration": 0.060558,
     "end_time": "2024-01-07T06:06:52.197598",
     "exception": false,
     "start_time": "2024-01-07T06:06:52.137040",
     "status": "completed"
    },
    "tags": []
   },
   "outputs": [
    {
     "name": "stdout",
     "output_type": "stream",
     "text": [
      "<class 'pandas.core.frame.DataFrame'>\n",
      "RangeIndex: 10002 entries, 0 to 10001\n",
      "Data columns (total 14 columns):\n",
      " #   Column           Non-Null Count  Dtype  \n",
      "---  ------           --------------  -----  \n",
      " 0   RowNumber        10002 non-null  int64  \n",
      " 1   CustomerId       10002 non-null  int64  \n",
      " 2   Surname          10002 non-null  object \n",
      " 3   CreditScore      10002 non-null  int64  \n",
      " 4   Geography        10001 non-null  object \n",
      " 5   Gender           10002 non-null  object \n",
      " 6   Age              10001 non-null  float64\n",
      " 7   Tenure           10002 non-null  int64  \n",
      " 8   Balance          10002 non-null  float64\n",
      " 9   NumOfProducts    10002 non-null  int64  \n",
      " 10  HasCrCard        10001 non-null  float64\n",
      " 11  IsActiveMember   10001 non-null  float64\n",
      " 12  EstimatedSalary  10002 non-null  float64\n",
      " 13  Exited           10002 non-null  int64  \n",
      "dtypes: float64(5), int64(6), object(3)\n",
      "memory usage: 1.1+ MB\n",
      "None\n"
     ]
    },
    {
     "data": {
      "text/html": [
       "<div>\n",
       "<style scoped>\n",
       "    .dataframe tbody tr th:only-of-type {\n",
       "        vertical-align: middle;\n",
       "    }\n",
       "\n",
       "    .dataframe tbody tr th {\n",
       "        vertical-align: top;\n",
       "    }\n",
       "\n",
       "    .dataframe thead th {\n",
       "        text-align: right;\n",
       "    }\n",
       "</style>\n",
       "<table border=\"1\" class=\"dataframe\">\n",
       "  <thead>\n",
       "    <tr style=\"text-align: right;\">\n",
       "      <th></th>\n",
       "      <th>RowNumber</th>\n",
       "      <th>CustomerId</th>\n",
       "      <th>Surname</th>\n",
       "      <th>CreditScore</th>\n",
       "      <th>Geography</th>\n",
       "      <th>Gender</th>\n",
       "      <th>Age</th>\n",
       "      <th>Tenure</th>\n",
       "      <th>Balance</th>\n",
       "      <th>NumOfProducts</th>\n",
       "      <th>HasCrCard</th>\n",
       "      <th>IsActiveMember</th>\n",
       "      <th>EstimatedSalary</th>\n",
       "      <th>Exited</th>\n",
       "    </tr>\n",
       "  </thead>\n",
       "  <tbody>\n",
       "    <tr>\n",
       "      <th>0</th>\n",
       "      <td>1</td>\n",
       "      <td>15634602</td>\n",
       "      <td>Hargrave</td>\n",
       "      <td>619</td>\n",
       "      <td>France</td>\n",
       "      <td>Female</td>\n",
       "      <td>42.0</td>\n",
       "      <td>2</td>\n",
       "      <td>0.00</td>\n",
       "      <td>1</td>\n",
       "      <td>1.0</td>\n",
       "      <td>1.0</td>\n",
       "      <td>101348.88</td>\n",
       "      <td>1</td>\n",
       "    </tr>\n",
       "    <tr>\n",
       "      <th>1</th>\n",
       "      <td>2</td>\n",
       "      <td>15647311</td>\n",
       "      <td>Hill</td>\n",
       "      <td>608</td>\n",
       "      <td>Spain</td>\n",
       "      <td>Female</td>\n",
       "      <td>41.0</td>\n",
       "      <td>1</td>\n",
       "      <td>83807.86</td>\n",
       "      <td>1</td>\n",
       "      <td>0.0</td>\n",
       "      <td>1.0</td>\n",
       "      <td>112542.58</td>\n",
       "      <td>0</td>\n",
       "    </tr>\n",
       "    <tr>\n",
       "      <th>2</th>\n",
       "      <td>3</td>\n",
       "      <td>15619304</td>\n",
       "      <td>Onio</td>\n",
       "      <td>502</td>\n",
       "      <td>France</td>\n",
       "      <td>Female</td>\n",
       "      <td>42.0</td>\n",
       "      <td>8</td>\n",
       "      <td>159660.80</td>\n",
       "      <td>3</td>\n",
       "      <td>1.0</td>\n",
       "      <td>0.0</td>\n",
       "      <td>113931.57</td>\n",
       "      <td>1</td>\n",
       "    </tr>\n",
       "    <tr>\n",
       "      <th>3</th>\n",
       "      <td>4</td>\n",
       "      <td>15701354</td>\n",
       "      <td>Boni</td>\n",
       "      <td>699</td>\n",
       "      <td>France</td>\n",
       "      <td>Female</td>\n",
       "      <td>39.0</td>\n",
       "      <td>1</td>\n",
       "      <td>0.00</td>\n",
       "      <td>2</td>\n",
       "      <td>0.0</td>\n",
       "      <td>0.0</td>\n",
       "      <td>93826.63</td>\n",
       "      <td>0</td>\n",
       "    </tr>\n",
       "    <tr>\n",
       "      <th>4</th>\n",
       "      <td>5</td>\n",
       "      <td>15737888</td>\n",
       "      <td>Mitchell</td>\n",
       "      <td>850</td>\n",
       "      <td>Spain</td>\n",
       "      <td>Female</td>\n",
       "      <td>43.0</td>\n",
       "      <td>2</td>\n",
       "      <td>125510.82</td>\n",
       "      <td>1</td>\n",
       "      <td>NaN</td>\n",
       "      <td>1.0</td>\n",
       "      <td>79084.10</td>\n",
       "      <td>0</td>\n",
       "    </tr>\n",
       "  </tbody>\n",
       "</table>\n",
       "</div>"
      ],
      "text/plain": [
       "   RowNumber  CustomerId   Surname  CreditScore Geography  Gender   Age  \\\n",
       "0          1    15634602  Hargrave          619    France  Female  42.0   \n",
       "1          2    15647311      Hill          608     Spain  Female  41.0   \n",
       "2          3    15619304      Onio          502    France  Female  42.0   \n",
       "3          4    15701354      Boni          699    France  Female  39.0   \n",
       "4          5    15737888  Mitchell          850     Spain  Female  43.0   \n",
       "\n",
       "   Tenure    Balance  NumOfProducts  HasCrCard  IsActiveMember  \\\n",
       "0       2       0.00              1        1.0             1.0   \n",
       "1       1   83807.86              1        0.0             1.0   \n",
       "2       8  159660.80              3        1.0             0.0   \n",
       "3       1       0.00              2        0.0             0.0   \n",
       "4       2  125510.82              1        NaN             1.0   \n",
       "\n",
       "   EstimatedSalary  Exited  \n",
       "0        101348.88       1  \n",
       "1        112542.58       0  \n",
       "2        113931.57       1  \n",
       "3         93826.63       0  \n",
       "4         79084.10       0  "
      ]
     },
     "execution_count": 5,
     "metadata": {},
     "output_type": "execute_result"
    }
   ],
   "source": [
    "print(df_org.info())\n",
    "df_org.head()"
   ]
  },
  {
   "cell_type": "code",
   "execution_count": 6,
   "id": "a4929bd1",
   "metadata": {
    "execution": {
     "iopub.execute_input": "2024-01-07T06:06:52.240573Z",
     "iopub.status.busy": "2024-01-07T06:06:52.240173Z",
     "iopub.status.idle": "2024-01-07T06:06:52.260837Z",
     "shell.execute_reply": "2024-01-07T06:06:52.259467Z"
    },
    "papermill": {
     "duration": 0.046048,
     "end_time": "2024-01-07T06:06:52.264102",
     "exception": false,
     "start_time": "2024-01-07T06:06:52.218054",
     "status": "completed"
    },
    "tags": []
   },
   "outputs": [],
   "source": [
    "df_org.drop(columns=[\"RowNumber\"], inplace=True)\n",
    "df_train.drop(columns=[\"id\"], inplace=True)"
   ]
  },
  {
   "cell_type": "markdown",
   "id": "88f78073",
   "metadata": {
    "papermill": {
     "duration": 0.020806,
     "end_time": "2024-01-07T06:06:52.307314",
     "exception": false,
     "start_time": "2024-01-07T06:06:52.286508",
     "status": "completed"
    },
    "tags": []
   },
   "source": [
    "#### Filling the Null value present in \"HasCrCard\""
   ]
  },
  {
   "cell_type": "code",
   "execution_count": 7,
   "id": "3a6c8c33",
   "metadata": {
    "execution": {
     "iopub.execute_input": "2024-01-07T06:06:52.350028Z",
     "iopub.status.busy": "2024-01-07T06:06:52.349516Z",
     "iopub.status.idle": "2024-01-07T06:06:52.364517Z",
     "shell.execute_reply": "2024-01-07T06:06:52.363180Z"
    },
    "papermill": {
     "duration": 0.039624,
     "end_time": "2024-01-07T06:06:52.367189",
     "exception": false,
     "start_time": "2024-01-07T06:06:52.327565",
     "status": "completed"
    },
    "tags": []
   },
   "outputs": [
    {
     "name": "stdout",
     "output_type": "stream",
     "text": [
      "Peope who exited and DONT own a credit card 0.292817679558011\n",
      "Peope who exited and OWN a credit card 0.7070567553992968\n"
     ]
    }
   ],
   "source": [
    "print(\"Peope who exited and DONT own a credit card\",(df_org[(df_org[\"Exited\"]==0) & (df_org[\"HasCrCard\"]==0)].shape[0] / df_org[df_org[\"Exited\"]==0].shape[0]))\n",
    "print(\"Peope who exited and OWN a credit card\",(df_org[(df_org[\"Exited\"]==0) & (df_org[\"HasCrCard\"]==1)].shape[0] / df_org[df_org[\"Exited\"]==0].shape[0]))"
   ]
  },
  {
   "cell_type": "code",
   "execution_count": 8,
   "id": "25eb2027",
   "metadata": {
    "execution": {
     "iopub.execute_input": "2024-01-07T06:06:52.412505Z",
     "iopub.status.busy": "2024-01-07T06:06:52.412079Z",
     "iopub.status.idle": "2024-01-07T06:06:52.423435Z",
     "shell.execute_reply": "2024-01-07T06:06:52.422591Z"
    },
    "papermill": {
     "duration": 0.036734,
     "end_time": "2024-01-07T06:06:52.425802",
     "exception": false,
     "start_time": "2024-01-07T06:06:52.389068",
     "status": "completed"
    },
    "tags": []
   },
   "outputs": [
    {
     "data": {
      "text/plain": [
       "0        1.0\n",
       "1        0.0\n",
       "2        1.0\n",
       "3        0.0\n",
       "4        1.0\n",
       "        ... \n",
       "9997     0.0\n",
       "9998     1.0\n",
       "9999     1.0\n",
       "10000    1.0\n",
       "10001    1.0\n",
       "Name: HasCrCard, Length: 10002, dtype: float64"
      ]
     },
     "execution_count": 8,
     "metadata": {},
     "output_type": "execute_result"
    }
   ],
   "source": [
    "df_org[\"HasCrCard\"].fillna(1.0)"
   ]
  },
  {
   "cell_type": "code",
   "execution_count": 9,
   "id": "8f4c38bc",
   "metadata": {
    "execution": {
     "iopub.execute_input": "2024-01-07T06:06:52.468799Z",
     "iopub.status.busy": "2024-01-07T06:06:52.468307Z",
     "iopub.status.idle": "2024-01-07T06:06:52.491975Z",
     "shell.execute_reply": "2024-01-07T06:06:52.490319Z"
    },
    "papermill": {
     "duration": 0.048456,
     "end_time": "2024-01-07T06:06:52.494900",
     "exception": false,
     "start_time": "2024-01-07T06:06:52.446444",
     "status": "completed"
    },
    "tags": []
   },
   "outputs": [
    {
     "name": "stdout",
     "output_type": "stream",
     "text": [
      "<class 'pandas.core.frame.DataFrame'>\n",
      "Index: 9998 entries, 0 to 10001\n",
      "Data columns (total 13 columns):\n",
      " #   Column           Non-Null Count  Dtype  \n",
      "---  ------           --------------  -----  \n",
      " 0   CustomerId       9998 non-null   int64  \n",
      " 1   Surname          9998 non-null   object \n",
      " 2   CreditScore      9998 non-null   int64  \n",
      " 3   Geography        9998 non-null   object \n",
      " 4   Gender           9998 non-null   object \n",
      " 5   Age              9998 non-null   float64\n",
      " 6   Tenure           9998 non-null   int64  \n",
      " 7   Balance          9998 non-null   float64\n",
      " 8   NumOfProducts    9998 non-null   int64  \n",
      " 9   HasCrCard        9998 non-null   float64\n",
      " 10  IsActiveMember   9998 non-null   float64\n",
      " 11  EstimatedSalary  9998 non-null   float64\n",
      " 12  Exited           9998 non-null   int64  \n",
      "dtypes: float64(5), int64(5), object(3)\n",
      "memory usage: 1.1+ MB\n"
     ]
    }
   ],
   "source": [
    "df_org.dropna(inplace=True)\n",
    "df_org.info()"
   ]
  },
  {
   "cell_type": "code",
   "execution_count": 10,
   "id": "02d9260d",
   "metadata": {
    "execution": {
     "iopub.execute_input": "2024-01-07T06:06:52.604901Z",
     "iopub.status.busy": "2024-01-07T06:06:52.604414Z",
     "iopub.status.idle": "2024-01-07T06:06:52.635851Z",
     "shell.execute_reply": "2024-01-07T06:06:52.634655Z"
    },
    "papermill": {
     "duration": 0.056917,
     "end_time": "2024-01-07T06:06:52.638724",
     "exception": false,
     "start_time": "2024-01-07T06:06:52.581807",
     "status": "completed"
    },
    "tags": []
   },
   "outputs": [
    {
     "data": {
      "text/plain": [
       "(175032, 13)"
      ]
     },
     "execution_count": 10,
     "metadata": {},
     "output_type": "execute_result"
    }
   ],
   "source": [
    "#clean original data\n",
    "#concatenate the datasets\n",
    "df = pd.concat([df_train, df_org], ignore_index=False)\n",
    "df.shape"
   ]
  },
  {
   "cell_type": "code",
   "execution_count": 11,
   "id": "9bdd140a",
   "metadata": {
    "execution": {
     "iopub.execute_input": "2024-01-07T06:06:52.685350Z",
     "iopub.status.busy": "2024-01-07T06:06:52.684938Z",
     "iopub.status.idle": "2024-01-07T06:06:52.707415Z",
     "shell.execute_reply": "2024-01-07T06:06:52.706161Z"
    },
    "papermill": {
     "duration": 0.050037,
     "end_time": "2024-01-07T06:06:52.710230",
     "exception": false,
     "start_time": "2024-01-07T06:06:52.660193",
     "status": "completed"
    },
    "tags": []
   },
   "outputs": [
    {
     "data": {
      "text/html": [
       "<div>\n",
       "<style scoped>\n",
       "    .dataframe tbody tr th:only-of-type {\n",
       "        vertical-align: middle;\n",
       "    }\n",
       "\n",
       "    .dataframe tbody tr th {\n",
       "        vertical-align: top;\n",
       "    }\n",
       "\n",
       "    .dataframe thead th {\n",
       "        text-align: right;\n",
       "    }\n",
       "</style>\n",
       "<table border=\"1\" class=\"dataframe\">\n",
       "  <thead>\n",
       "    <tr style=\"text-align: right;\">\n",
       "      <th></th>\n",
       "      <th>CustomerId</th>\n",
       "      <th>Surname</th>\n",
       "      <th>CreditScore</th>\n",
       "      <th>Geography</th>\n",
       "      <th>Gender</th>\n",
       "      <th>Age</th>\n",
       "      <th>Tenure</th>\n",
       "      <th>Balance</th>\n",
       "      <th>NumOfProducts</th>\n",
       "      <th>HasCrCard</th>\n",
       "      <th>IsActiveMember</th>\n",
       "      <th>EstimatedSalary</th>\n",
       "      <th>Exited</th>\n",
       "    </tr>\n",
       "  </thead>\n",
       "  <tbody>\n",
       "    <tr>\n",
       "      <th>0</th>\n",
       "      <td>15674932</td>\n",
       "      <td>Okwudilichukwu</td>\n",
       "      <td>668</td>\n",
       "      <td>France</td>\n",
       "      <td>Male</td>\n",
       "      <td>33.0</td>\n",
       "      <td>3</td>\n",
       "      <td>0.00</td>\n",
       "      <td>2</td>\n",
       "      <td>1.0</td>\n",
       "      <td>0.0</td>\n",
       "      <td>181449.97</td>\n",
       "      <td>0</td>\n",
       "    </tr>\n",
       "    <tr>\n",
       "      <th>1</th>\n",
       "      <td>15749177</td>\n",
       "      <td>Okwudiliolisa</td>\n",
       "      <td>627</td>\n",
       "      <td>France</td>\n",
       "      <td>Male</td>\n",
       "      <td>33.0</td>\n",
       "      <td>1</td>\n",
       "      <td>0.00</td>\n",
       "      <td>2</td>\n",
       "      <td>1.0</td>\n",
       "      <td>1.0</td>\n",
       "      <td>49503.50</td>\n",
       "      <td>0</td>\n",
       "    </tr>\n",
       "    <tr>\n",
       "      <th>2</th>\n",
       "      <td>15694510</td>\n",
       "      <td>Hsueh</td>\n",
       "      <td>678</td>\n",
       "      <td>France</td>\n",
       "      <td>Male</td>\n",
       "      <td>40.0</td>\n",
       "      <td>10</td>\n",
       "      <td>0.00</td>\n",
       "      <td>2</td>\n",
       "      <td>1.0</td>\n",
       "      <td>0.0</td>\n",
       "      <td>184866.69</td>\n",
       "      <td>0</td>\n",
       "    </tr>\n",
       "    <tr>\n",
       "      <th>3</th>\n",
       "      <td>15741417</td>\n",
       "      <td>Kao</td>\n",
       "      <td>581</td>\n",
       "      <td>France</td>\n",
       "      <td>Male</td>\n",
       "      <td>34.0</td>\n",
       "      <td>2</td>\n",
       "      <td>148882.54</td>\n",
       "      <td>1</td>\n",
       "      <td>1.0</td>\n",
       "      <td>1.0</td>\n",
       "      <td>84560.88</td>\n",
       "      <td>0</td>\n",
       "    </tr>\n",
       "    <tr>\n",
       "      <th>4</th>\n",
       "      <td>15766172</td>\n",
       "      <td>Chiemenam</td>\n",
       "      <td>716</td>\n",
       "      <td>Spain</td>\n",
       "      <td>Male</td>\n",
       "      <td>33.0</td>\n",
       "      <td>5</td>\n",
       "      <td>0.00</td>\n",
       "      <td>2</td>\n",
       "      <td>1.0</td>\n",
       "      <td>1.0</td>\n",
       "      <td>15068.83</td>\n",
       "      <td>0</td>\n",
       "    </tr>\n",
       "  </tbody>\n",
       "</table>\n",
       "</div>"
      ],
      "text/plain": [
       "   CustomerId         Surname  CreditScore Geography Gender   Age  Tenure  \\\n",
       "0    15674932  Okwudilichukwu          668    France   Male  33.0       3   \n",
       "1    15749177   Okwudiliolisa          627    France   Male  33.0       1   \n",
       "2    15694510           Hsueh          678    France   Male  40.0      10   \n",
       "3    15741417             Kao          581    France   Male  34.0       2   \n",
       "4    15766172       Chiemenam          716     Spain   Male  33.0       5   \n",
       "\n",
       "     Balance  NumOfProducts  HasCrCard  IsActiveMember  EstimatedSalary  \\\n",
       "0       0.00              2        1.0             0.0        181449.97   \n",
       "1       0.00              2        1.0             1.0         49503.50   \n",
       "2       0.00              2        1.0             0.0        184866.69   \n",
       "3  148882.54              1        1.0             1.0         84560.88   \n",
       "4       0.00              2        1.0             1.0         15068.83   \n",
       "\n",
       "   Exited  \n",
       "0       0  \n",
       "1       0  \n",
       "2       0  \n",
       "3       0  \n",
       "4       0  "
      ]
     },
     "execution_count": 11,
     "metadata": {},
     "output_type": "execute_result"
    }
   ],
   "source": [
    "df.head()"
   ]
  },
  {
   "cell_type": "code",
   "execution_count": 12,
   "id": "b8a6c961",
   "metadata": {
    "execution": {
     "iopub.execute_input": "2024-01-07T06:06:52.756401Z",
     "iopub.status.busy": "2024-01-07T06:06:52.756004Z",
     "iopub.status.idle": "2024-01-07T06:06:52.843232Z",
     "shell.execute_reply": "2024-01-07T06:06:52.842062Z"
    },
    "papermill": {
     "duration": 0.112991,
     "end_time": "2024-01-07T06:06:52.845963",
     "exception": false,
     "start_time": "2024-01-07T06:06:52.732972",
     "status": "completed"
    },
    "tags": []
   },
   "outputs": [
    {
     "data": {
      "text/plain": [
       "Surname      2932\n",
       "Geography       3\n",
       "Gender          2\n",
       "dtype: int64"
      ]
     },
     "execution_count": 12,
     "metadata": {},
     "output_type": "execute_result"
    }
   ],
   "source": [
    "df.select_dtypes(\"object\").nunique()"
   ]
  },
  {
   "cell_type": "markdown",
   "id": "04360545",
   "metadata": {
    "papermill": {
     "duration": 0.022954,
     "end_time": "2024-01-07T06:06:52.891287",
     "exception": false,
     "start_time": "2024-01-07T06:06:52.868333",
     "status": "completed"
    },
    "tags": []
   },
   "source": [
    "### EDA on gender"
   ]
  },
  {
   "cell_type": "code",
   "execution_count": 13,
   "id": "f393536d",
   "metadata": {
    "execution": {
     "iopub.execute_input": "2024-01-07T06:06:52.937329Z",
     "iopub.status.busy": "2024-01-07T06:06:52.936873Z",
     "iopub.status.idle": "2024-01-07T06:06:53.030389Z",
     "shell.execute_reply": "2024-01-07T06:06:53.028957Z"
    },
    "papermill": {
     "duration": 0.120253,
     "end_time": "2024-01-07T06:06:53.033341",
     "exception": false,
     "start_time": "2024-01-07T06:06:52.913088",
     "status": "completed"
    },
    "tags": []
   },
   "outputs": [
    {
     "name": "stdout",
     "output_type": "stream",
     "text": [
      "Percentage of females :  43.66458704693999\n",
      "Percentage of males :  56.335412953060015\n"
     ]
    }
   ],
   "source": [
    "females = (df[df[\"Gender\"] == \"Female\"].shape[0]/df.shape[0])*100\n",
    "print(\"Percentage of females : \", females)\n",
    "males = (df[df[\"Gender\"] == \"Male\"].shape[0]/df.shape[0])*100\n",
    "print(\"Percentage of males : \", males)"
   ]
  },
  {
   "cell_type": "code",
   "execution_count": 14,
   "id": "660c7481",
   "metadata": {
    "execution": {
     "iopub.execute_input": "2024-01-07T06:06:53.079317Z",
     "iopub.status.busy": "2024-01-07T06:06:53.078906Z",
     "iopub.status.idle": "2024-01-07T06:06:53.171419Z",
     "shell.execute_reply": "2024-01-07T06:06:53.169557Z"
    },
    "papermill": {
     "duration": 0.119224,
     "end_time": "2024-01-07T06:06:53.174349",
     "exception": false,
     "start_time": "2024-01-07T06:06:53.055125",
     "status": "completed"
    },
    "tags": []
   },
   "outputs": [
    {
     "name": "stdout",
     "output_type": "stream",
     "text": [
      "76427\n",
      "98605\n"
     ]
    }
   ],
   "source": [
    "print(df[df[\"Gender\"]==\"Female\"].shape[0])\n",
    "print(df[df[\"Gender\"]==\"Male\"].shape[0])"
   ]
  },
  {
   "cell_type": "code",
   "execution_count": 15,
   "id": "c9cee696",
   "metadata": {
    "execution": {
     "iopub.execute_input": "2024-01-07T06:06:53.222344Z",
     "iopub.status.busy": "2024-01-07T06:06:53.221901Z",
     "iopub.status.idle": "2024-01-07T06:06:53.396025Z",
     "shell.execute_reply": "2024-01-07T06:06:53.394665Z"
    },
    "papermill": {
     "duration": 0.200795,
     "end_time": "2024-01-07T06:06:53.399064",
     "exception": false,
     "start_time": "2024-01-07T06:06:53.198269",
     "status": "completed"
    },
    "tags": []
   },
   "outputs": [
    {
     "name": "stdout",
     "output_type": "stream",
     "text": [
      "27.79645936645426\n",
      "15.937325693423254\n"
     ]
    }
   ],
   "source": [
    "print((df[(df[\"Gender\"]==\"Female\") & (df[\"Exited\"]==1)].shape[0] / (df[df[\"Gender\"]==\"Female\"].shape[0]))*100)\n",
    "print((df[(df[\"Gender\"]==\"Male\") & (df[\"Exited\"]==1)].shape[0] / (df[df[\"Gender\"]==\"Male\"].shape[0]))*100)"
   ]
  },
  {
   "cell_type": "markdown",
   "id": "98ca10e1",
   "metadata": {
    "papermill": {
     "duration": 0.021787,
     "end_time": "2024-01-07T06:06:53.445775",
     "exception": false,
     "start_time": "2024-01-07T06:06:53.423988",
     "status": "completed"
    },
    "tags": []
   },
   "source": [
    "### EDA on geography"
   ]
  },
  {
   "cell_type": "code",
   "execution_count": 16,
   "id": "f0828447",
   "metadata": {
    "execution": {
     "iopub.execute_input": "2024-01-07T06:06:53.493111Z",
     "iopub.status.busy": "2024-01-07T06:06:53.492653Z",
     "iopub.status.idle": "2024-01-07T06:06:53.516971Z",
     "shell.execute_reply": "2024-01-07T06:06:53.515616Z"
    },
    "papermill": {
     "duration": 0.050784,
     "end_time": "2024-01-07T06:06:53.519643",
     "exception": false,
     "start_time": "2024-01-07T06:06:53.468859",
     "status": "completed"
    },
    "tags": []
   },
   "outputs": [
    {
     "data": {
      "text/plain": [
       "array(['France', 'Spain', 'Germany'], dtype=object)"
      ]
     },
     "execution_count": 16,
     "metadata": {},
     "output_type": "execute_result"
    }
   ],
   "source": [
    "df[\"Geography\"].unique()"
   ]
  },
  {
   "cell_type": "code",
   "execution_count": 17,
   "id": "48ae8f3f",
   "metadata": {
    "execution": {
     "iopub.execute_input": "2024-01-07T06:06:53.565946Z",
     "iopub.status.busy": "2024-01-07T06:06:53.565494Z",
     "iopub.status.idle": "2024-01-07T06:06:53.624760Z",
     "shell.execute_reply": "2024-01-07T06:06:53.622875Z"
    },
    "papermill": {
     "duration": 0.085687,
     "end_time": "2024-01-07T06:06:53.627589",
     "exception": false,
     "start_time": "2024-01-07T06:06:53.541902",
     "status": "completed"
    },
    "tags": []
   },
   "outputs": [
    {
     "name": "stdout",
     "output_type": "stream",
     "text": [
      "France_people:  99227\n",
      "France_people exited:  16382\n",
      "Percentage of France_people exited:  16.509619357634513\n"
     ]
    }
   ],
   "source": [
    "# Total people in france and how many exited\n",
    "france = df[\"Geography\"] == \"France\"\n",
    "exit = df[\"Exited\"] == 1\n",
    "\n",
    "France_people = df[france].shape[0]\n",
    "France_people_exited = df[france & exit].shape[0]\n",
    "\n",
    "print(\"France_people: \",France_people)\n",
    "print(\"France_people exited: \",France_people_exited)\n",
    "print(\"Percentage of France_people exited: \", (France_people_exited/France_people)*100)"
   ]
  },
  {
   "cell_type": "code",
   "execution_count": 18,
   "id": "6648ac35",
   "metadata": {
    "execution": {
     "iopub.execute_input": "2024-01-07T06:06:53.675899Z",
     "iopub.status.busy": "2024-01-07T06:06:53.674659Z",
     "iopub.status.idle": "2024-01-07T06:06:53.725006Z",
     "shell.execute_reply": "2024-01-07T06:06:53.723537Z"
    },
    "papermill": {
     "duration": 0.077605,
     "end_time": "2024-01-07T06:06:53.727606",
     "exception": false,
     "start_time": "2024-01-07T06:06:53.650001",
     "status": "completed"
    },
    "tags": []
   },
   "outputs": [
    {
     "name": "stdout",
     "output_type": "stream",
     "text": [
      "spain_people:  38689\n",
      "spain_people exited:  6648\n",
      "Percentage of spain_people exited:  17.183178681278914\n"
     ]
    }
   ],
   "source": [
    "# Total people in Spain and how many exited\n",
    "spain = df[\"Geography\"] == \"Spain\"\n",
    "exit = df[\"Exited\"] == 1\n",
    "\n",
    "spain_people = df[spain].shape[0]\n",
    "spain_people_exited = df[spain & exit].shape[0]\n",
    "\n",
    "print(\"spain_people: \",spain_people)\n",
    "print(\"spain_people exited: \",spain_people_exited)\n",
    "print(\"Percentage of spain_people exited: \", (spain_people_exited/spain_people)*100)"
   ]
  },
  {
   "cell_type": "code",
   "execution_count": 19,
   "id": "bfc93f3a",
   "metadata": {
    "execution": {
     "iopub.execute_input": "2024-01-07T06:06:53.775995Z",
     "iopub.status.busy": "2024-01-07T06:06:53.775555Z",
     "iopub.status.idle": "2024-01-07T06:06:53.826347Z",
     "shell.execute_reply": "2024-01-07T06:06:53.824690Z"
    },
    "papermill": {
     "duration": 0.078121,
     "end_time": "2024-01-07T06:06:53.829085",
     "exception": false,
     "start_time": "2024-01-07T06:06:53.750964",
     "status": "completed"
    },
    "tags": []
   },
   "outputs": [
    {
     "name": "stdout",
     "output_type": "stream",
     "text": [
      "Germany_people:  37116\n",
      "Germany_people exited:  13929\n",
      "Percentage of Germany_people exited:  37.528289686388625\n"
     ]
    }
   ],
   "source": [
    "# Total people in Spain and how many exited\n",
    "Germany = df[\"Geography\"] == \"Germany\"\n",
    "exit = df[\"Exited\"] == 1\n",
    "\n",
    "Germany_people = df[Germany].shape[0]\n",
    "Germany_people_exited = df[Germany & exit].shape[0]\n",
    "\n",
    "print(\"Germany_people: \",Germany_people)\n",
    "print(\"Germany_people exited: \",Germany_people_exited)\n",
    "print(\"Percentage of Germany_people exited: \", (Germany_people_exited/Germany_people)*100)"
   ]
  },
  {
   "cell_type": "markdown",
   "id": "4bea30f2",
   "metadata": {
    "papermill": {
     "duration": 0.022755,
     "end_time": "2024-01-07T06:06:53.875328",
     "exception": false,
     "start_time": "2024-01-07T06:06:53.852573",
     "status": "completed"
    },
    "tags": []
   },
   "source": [
    "### Not a very significant feature so we will drop it as well"
   ]
  },
  {
   "cell_type": "code",
   "execution_count": 20,
   "id": "6f9d102d",
   "metadata": {
    "execution": {
     "iopub.execute_input": "2024-01-07T06:06:53.923090Z",
     "iopub.status.busy": "2024-01-07T06:06:53.922677Z",
     "iopub.status.idle": "2024-01-07T06:06:53.928287Z",
     "shell.execute_reply": "2024-01-07T06:06:53.927145Z"
    },
    "papermill": {
     "duration": 0.033335,
     "end_time": "2024-01-07T06:06:53.930958",
     "exception": false,
     "start_time": "2024-01-07T06:06:53.897623",
     "status": "completed"
    },
    "tags": []
   },
   "outputs": [],
   "source": [
    "## features to drop\n",
    "features_to_drop = [\"Surname\", \"CustomerId\", \"Gender\", \"Geography\"]"
   ]
  },
  {
   "cell_type": "code",
   "execution_count": 21,
   "id": "43aab5fb",
   "metadata": {
    "execution": {
     "iopub.execute_input": "2024-01-07T06:06:53.978371Z",
     "iopub.status.busy": "2024-01-07T06:06:53.977962Z",
     "iopub.status.idle": "2024-01-07T06:06:54.003261Z",
     "shell.execute_reply": "2024-01-07T06:06:54.001430Z"
    },
    "papermill": {
     "duration": 0.052257,
     "end_time": "2024-01-07T06:06:54.006226",
     "exception": false,
     "start_time": "2024-01-07T06:06:53.953969",
     "status": "completed"
    },
    "tags": []
   },
   "outputs": [
    {
     "data": {
      "text/html": [
       "<div>\n",
       "<style scoped>\n",
       "    .dataframe tbody tr th:only-of-type {\n",
       "        vertical-align: middle;\n",
       "    }\n",
       "\n",
       "    .dataframe tbody tr th {\n",
       "        vertical-align: top;\n",
       "    }\n",
       "\n",
       "    .dataframe thead th {\n",
       "        text-align: right;\n",
       "    }\n",
       "</style>\n",
       "<table border=\"1\" class=\"dataframe\">\n",
       "  <thead>\n",
       "    <tr style=\"text-align: right;\">\n",
       "      <th></th>\n",
       "      <th>CreditScore</th>\n",
       "      <th>Age</th>\n",
       "      <th>Tenure</th>\n",
       "      <th>Balance</th>\n",
       "      <th>NumOfProducts</th>\n",
       "      <th>HasCrCard</th>\n",
       "      <th>IsActiveMember</th>\n",
       "      <th>EstimatedSalary</th>\n",
       "      <th>Exited</th>\n",
       "    </tr>\n",
       "  </thead>\n",
       "  <tbody>\n",
       "    <tr>\n",
       "      <th>0</th>\n",
       "      <td>668</td>\n",
       "      <td>33.0</td>\n",
       "      <td>3</td>\n",
       "      <td>0.00</td>\n",
       "      <td>2</td>\n",
       "      <td>1.0</td>\n",
       "      <td>0.0</td>\n",
       "      <td>181449.97</td>\n",
       "      <td>0</td>\n",
       "    </tr>\n",
       "    <tr>\n",
       "      <th>1</th>\n",
       "      <td>627</td>\n",
       "      <td>33.0</td>\n",
       "      <td>1</td>\n",
       "      <td>0.00</td>\n",
       "      <td>2</td>\n",
       "      <td>1.0</td>\n",
       "      <td>1.0</td>\n",
       "      <td>49503.50</td>\n",
       "      <td>0</td>\n",
       "    </tr>\n",
       "    <tr>\n",
       "      <th>2</th>\n",
       "      <td>678</td>\n",
       "      <td>40.0</td>\n",
       "      <td>10</td>\n",
       "      <td>0.00</td>\n",
       "      <td>2</td>\n",
       "      <td>1.0</td>\n",
       "      <td>0.0</td>\n",
       "      <td>184866.69</td>\n",
       "      <td>0</td>\n",
       "    </tr>\n",
       "    <tr>\n",
       "      <th>3</th>\n",
       "      <td>581</td>\n",
       "      <td>34.0</td>\n",
       "      <td>2</td>\n",
       "      <td>148882.54</td>\n",
       "      <td>1</td>\n",
       "      <td>1.0</td>\n",
       "      <td>1.0</td>\n",
       "      <td>84560.88</td>\n",
       "      <td>0</td>\n",
       "    </tr>\n",
       "    <tr>\n",
       "      <th>4</th>\n",
       "      <td>716</td>\n",
       "      <td>33.0</td>\n",
       "      <td>5</td>\n",
       "      <td>0.00</td>\n",
       "      <td>2</td>\n",
       "      <td>1.0</td>\n",
       "      <td>1.0</td>\n",
       "      <td>15068.83</td>\n",
       "      <td>0</td>\n",
       "    </tr>\n",
       "  </tbody>\n",
       "</table>\n",
       "</div>"
      ],
      "text/plain": [
       "   CreditScore   Age  Tenure    Balance  NumOfProducts  HasCrCard  \\\n",
       "0          668  33.0       3       0.00              2        1.0   \n",
       "1          627  33.0       1       0.00              2        1.0   \n",
       "2          678  40.0      10       0.00              2        1.0   \n",
       "3          581  34.0       2  148882.54              1        1.0   \n",
       "4          716  33.0       5       0.00              2        1.0   \n",
       "\n",
       "   IsActiveMember  EstimatedSalary  Exited  \n",
       "0             0.0        181449.97       0  \n",
       "1             1.0         49503.50       0  \n",
       "2             0.0        184866.69       0  \n",
       "3             1.0         84560.88       0  \n",
       "4             1.0         15068.83       0  "
      ]
     },
     "execution_count": 21,
     "metadata": {},
     "output_type": "execute_result"
    }
   ],
   "source": [
    "df.drop(columns = features_to_drop, inplace=True)\n",
    "df.head()"
   ]
  },
  {
   "cell_type": "markdown",
   "id": "be626535",
   "metadata": {
    "papermill": {
     "duration": 0.022927,
     "end_time": "2024-01-07T06:06:54.051930",
     "exception": false,
     "start_time": "2024-01-07T06:06:54.029003",
     "status": "completed"
    },
    "tags": []
   },
   "source": [
    "#### EDA on AGE"
   ]
  },
  {
   "cell_type": "code",
   "execution_count": 22,
   "id": "d6753adc",
   "metadata": {
    "execution": {
     "iopub.execute_input": "2024-01-07T06:06:54.100775Z",
     "iopub.status.busy": "2024-01-07T06:06:54.100377Z",
     "iopub.status.idle": "2024-01-07T06:06:54.128749Z",
     "shell.execute_reply": "2024-01-07T06:06:54.127156Z"
    },
    "papermill": {
     "duration": 0.056987,
     "end_time": "2024-01-07T06:06:54.131834",
     "exception": false,
     "start_time": "2024-01-07T06:06:54.074847",
     "status": "completed"
    },
    "tags": []
   },
   "outputs": [
    {
     "data": {
      "text/plain": [
       "count    175032.000000\n",
       "mean         38.171265\n",
       "std           8.969537\n",
       "min          18.000000\n",
       "25%          32.000000\n",
       "50%          37.000000\n",
       "75%          42.000000\n",
       "max          92.000000\n",
       "Name: Age, dtype: float64"
      ]
     },
     "execution_count": 22,
     "metadata": {},
     "output_type": "execute_result"
    }
   ],
   "source": [
    "df[\"Age\"].describe()"
   ]
  },
  {
   "cell_type": "code",
   "execution_count": 23,
   "id": "6ca2e19c",
   "metadata": {
    "execution": {
     "iopub.execute_input": "2024-01-07T06:06:54.183142Z",
     "iopub.status.busy": "2024-01-07T06:06:54.182702Z",
     "iopub.status.idle": "2024-01-07T06:06:54.198980Z",
     "shell.execute_reply": "2024-01-07T06:06:54.197752Z"
    },
    "papermill": {
     "duration": 0.044683,
     "end_time": "2024-01-07T06:06:54.201514",
     "exception": false,
     "start_time": "2024-01-07T06:06:54.156831",
     "status": "completed"
    },
    "tags": []
   },
   "outputs": [
    {
     "name": "stdout",
     "output_type": "stream",
     "text": [
      "Youngsters:  46463\n",
      "Youngsters exited:  3783\n",
      "Percentage of youngsters exited:  8.1419624217119\n"
     ]
    }
   ],
   "source": [
    "young = df[\"Age\"].between(18, 32)\n",
    "exit = df[\"Exited\"] == 1\n",
    "\n",
    "youngsters = df[young].shape[0]\n",
    "youngsters_exited = df[young & exit].shape[0]\n",
    "\n",
    "print(\"Youngsters: \",youngsters)\n",
    "print(\"Youngsters exited: \",youngsters_exited)\n",
    "print(\"Percentage of youngsters exited: \", (youngsters_exited/youngsters)*100)"
   ]
  },
  {
   "cell_type": "code",
   "execution_count": 24,
   "id": "75e28e36",
   "metadata": {
    "execution": {
     "iopub.execute_input": "2024-01-07T06:06:54.251831Z",
     "iopub.status.busy": "2024-01-07T06:06:54.250537Z",
     "iopub.status.idle": "2024-01-07T06:06:54.274906Z",
     "shell.execute_reply": "2024-01-07T06:06:54.273723Z"
    },
    "papermill": {
     "duration": 0.052335,
     "end_time": "2024-01-07T06:06:54.277483",
     "exception": false,
     "start_time": "2024-01-07T06:06:54.225148",
     "status": "completed"
    },
    "tags": []
   },
   "outputs": [
    {
     "name": "stdout",
     "output_type": "stream",
     "text": [
      "adults:  113403\n",
      "adults exited:  21261\n",
      "Percentage of adults exited:  18.7481812650459\n"
     ]
    }
   ],
   "source": [
    "adult = df[\"Age\"].between(32, 47)\n",
    "exit = df[\"Exited\"] == 1\n",
    "\n",
    "adults = df[adult].shape[0]\n",
    "adults_exited = df[adult & exit].shape[0]\n",
    "\n",
    "print(\"adults: \",adults)\n",
    "print(\"adults exited: \",adults_exited)\n",
    "print(\"Percentage of adults exited: \", (adults_exited/adults)*100)"
   ]
  },
  {
   "cell_type": "code",
   "execution_count": 25,
   "id": "81e7c44f",
   "metadata": {
    "execution": {
     "iopub.execute_input": "2024-01-07T06:06:54.330435Z",
     "iopub.status.busy": "2024-01-07T06:06:54.330008Z",
     "iopub.status.idle": "2024-01-07T06:06:54.349613Z",
     "shell.execute_reply": "2024-01-07T06:06:54.347339Z"
    },
    "papermill": {
     "duration": 0.050248,
     "end_time": "2024-01-07T06:06:54.352461",
     "exception": false,
     "start_time": "2024-01-07T06:06:54.302213",
     "status": "completed"
    },
    "tags": []
   },
   "outputs": [
    {
     "name": "stdout",
     "output_type": "stream",
     "text": [
      "Olders:  26204\n",
      "Olders exited:  13993\n",
      "Percentage of Olders exited:  53.40024423752099\n"
     ]
    }
   ],
   "source": [
    "Older = df[\"Age\"].between(47, 100)\n",
    "exit = df[\"Exited\"] == 1\n",
    "\n",
    "Olders = df[Older].shape[0]\n",
    "Olders_exited = df[Older & exit].shape[0]\n",
    "\n",
    "print(\"Olders: \",Olders)\n",
    "print(\"Olders exited: \",Olders_exited)\n",
    "print(\"Percentage of Olders exited: \", (Olders_exited/Olders)*100)"
   ]
  },
  {
   "cell_type": "markdown",
   "id": "a15738ce",
   "metadata": {
    "papermill": {
     "duration": 0.023665,
     "end_time": "2024-01-07T06:06:54.399570",
     "exception": false,
     "start_time": "2024-01-07T06:06:54.375905",
     "status": "completed"
    },
    "tags": []
   },
   "source": [
    "Age seems to be an interesting feature as the younger people hardly exited the bank, so we can make 3 different categories in a new columns and drop the age feature, that way our model may learn the pattern better"
   ]
  },
  {
   "cell_type": "code",
   "execution_count": 26,
   "id": "c57324d6",
   "metadata": {
    "execution": {
     "iopub.execute_input": "2024-01-07T06:06:54.452332Z",
     "iopub.status.busy": "2024-01-07T06:06:54.451901Z",
     "iopub.status.idle": "2024-01-07T06:07:05.976444Z",
     "shell.execute_reply": "2024-01-07T06:07:05.975087Z"
    },
    "papermill": {
     "duration": 11.55238,
     "end_time": "2024-01-07T06:07:05.979433",
     "exception": false,
     "start_time": "2024-01-07T06:06:54.427053",
     "status": "completed"
    },
    "tags": []
   },
   "outputs": [
    {
     "data": {
      "text/plain": [
       "[1, 1, 1, 1, 1]"
      ]
     },
     "execution_count": 26,
     "metadata": {},
     "output_type": "execute_result"
    }
   ],
   "source": [
    "#replace age with categories, young=0, adult=1, old = 2\n",
    "age_list = []\n",
    "for i in range (df.shape[0]):\n",
    "    if df[\"Age\"].iloc[i]>=18 and df[\"Age\"].iloc[i]<32:\n",
    "        age_list.append(0)\n",
    "    elif df[\"Age\"].iloc[i]>=32 and df[\"Age\"].iloc[i]<47:\n",
    "        age_list.append(1)\n",
    "    else:\n",
    "        age_list.append(2)\n",
    "        \n",
    "age_list[:5]"
   ]
  },
  {
   "cell_type": "code",
   "execution_count": 27,
   "id": "200fe35b",
   "metadata": {
    "execution": {
     "iopub.execute_input": "2024-01-07T06:07:06.028046Z",
     "iopub.status.busy": "2024-01-07T06:07:06.027545Z",
     "iopub.status.idle": "2024-01-07T06:07:06.047015Z",
     "shell.execute_reply": "2024-01-07T06:07:06.045885Z"
    },
    "papermill": {
     "duration": 0.046559,
     "end_time": "2024-01-07T06:07:06.049464",
     "exception": false,
     "start_time": "2024-01-07T06:07:06.002905",
     "status": "completed"
    },
    "tags": []
   },
   "outputs": [
    {
     "data": {
      "text/html": [
       "<div>\n",
       "<style scoped>\n",
       "    .dataframe tbody tr th:only-of-type {\n",
       "        vertical-align: middle;\n",
       "    }\n",
       "\n",
       "    .dataframe tbody tr th {\n",
       "        vertical-align: top;\n",
       "    }\n",
       "\n",
       "    .dataframe thead th {\n",
       "        text-align: right;\n",
       "    }\n",
       "</style>\n",
       "<table border=\"1\" class=\"dataframe\">\n",
       "  <thead>\n",
       "    <tr style=\"text-align: right;\">\n",
       "      <th></th>\n",
       "      <th>CreditScore</th>\n",
       "      <th>Age</th>\n",
       "      <th>Tenure</th>\n",
       "      <th>Balance</th>\n",
       "      <th>NumOfProducts</th>\n",
       "      <th>HasCrCard</th>\n",
       "      <th>IsActiveMember</th>\n",
       "      <th>EstimatedSalary</th>\n",
       "      <th>Exited</th>\n",
       "    </tr>\n",
       "  </thead>\n",
       "  <tbody>\n",
       "    <tr>\n",
       "      <th>0</th>\n",
       "      <td>668</td>\n",
       "      <td>33.0</td>\n",
       "      <td>3</td>\n",
       "      <td>0.00</td>\n",
       "      <td>2</td>\n",
       "      <td>1.0</td>\n",
       "      <td>0.0</td>\n",
       "      <td>181449.97</td>\n",
       "      <td>0</td>\n",
       "    </tr>\n",
       "    <tr>\n",
       "      <th>1</th>\n",
       "      <td>627</td>\n",
       "      <td>33.0</td>\n",
       "      <td>1</td>\n",
       "      <td>0.00</td>\n",
       "      <td>2</td>\n",
       "      <td>1.0</td>\n",
       "      <td>1.0</td>\n",
       "      <td>49503.50</td>\n",
       "      <td>0</td>\n",
       "    </tr>\n",
       "    <tr>\n",
       "      <th>2</th>\n",
       "      <td>678</td>\n",
       "      <td>40.0</td>\n",
       "      <td>10</td>\n",
       "      <td>0.00</td>\n",
       "      <td>2</td>\n",
       "      <td>1.0</td>\n",
       "      <td>0.0</td>\n",
       "      <td>184866.69</td>\n",
       "      <td>0</td>\n",
       "    </tr>\n",
       "    <tr>\n",
       "      <th>3</th>\n",
       "      <td>581</td>\n",
       "      <td>34.0</td>\n",
       "      <td>2</td>\n",
       "      <td>148882.54</td>\n",
       "      <td>1</td>\n",
       "      <td>1.0</td>\n",
       "      <td>1.0</td>\n",
       "      <td>84560.88</td>\n",
       "      <td>0</td>\n",
       "    </tr>\n",
       "    <tr>\n",
       "      <th>4</th>\n",
       "      <td>716</td>\n",
       "      <td>33.0</td>\n",
       "      <td>5</td>\n",
       "      <td>0.00</td>\n",
       "      <td>2</td>\n",
       "      <td>1.0</td>\n",
       "      <td>1.0</td>\n",
       "      <td>15068.83</td>\n",
       "      <td>0</td>\n",
       "    </tr>\n",
       "  </tbody>\n",
       "</table>\n",
       "</div>"
      ],
      "text/plain": [
       "   CreditScore   Age  Tenure    Balance  NumOfProducts  HasCrCard  \\\n",
       "0          668  33.0       3       0.00              2        1.0   \n",
       "1          627  33.0       1       0.00              2        1.0   \n",
       "2          678  40.0      10       0.00              2        1.0   \n",
       "3          581  34.0       2  148882.54              1        1.0   \n",
       "4          716  33.0       5       0.00              2        1.0   \n",
       "\n",
       "   IsActiveMember  EstimatedSalary  Exited  \n",
       "0             0.0        181449.97       0  \n",
       "1             1.0         49503.50       0  \n",
       "2             0.0        184866.69       0  \n",
       "3             1.0         84560.88       0  \n",
       "4             1.0         15068.83       0  "
      ]
     },
     "execution_count": 27,
     "metadata": {},
     "output_type": "execute_result"
    }
   ],
   "source": [
    "# df[\"Age\"] = age_list\n",
    "df.head()"
   ]
  },
  {
   "cell_type": "markdown",
   "id": "99916ba7",
   "metadata": {
    "papermill": {
     "duration": 0.02342,
     "end_time": "2024-01-07T06:07:06.098185",
     "exception": false,
     "start_time": "2024-01-07T06:07:06.074765",
     "status": "completed"
    },
    "tags": []
   },
   "source": [
    "### Checking correlation"
   ]
  },
  {
   "cell_type": "code",
   "execution_count": 28,
   "id": "aad4a872",
   "metadata": {
    "execution": {
     "iopub.execute_input": "2024-01-07T06:07:06.148594Z",
     "iopub.status.busy": "2024-01-07T06:07:06.148178Z",
     "iopub.status.idle": "2024-01-07T06:07:06.698339Z",
     "shell.execute_reply": "2024-01-07T06:07:06.697424Z"
    },
    "papermill": {
     "duration": 0.578445,
     "end_time": "2024-01-07T06:07:06.701356",
     "exception": false,
     "start_time": "2024-01-07T06:07:06.122911",
     "status": "completed"
    },
    "tags": []
   },
   "outputs": [
    {
     "data": {
      "text/plain": [
       "<Axes: >"
      ]
     },
     "execution_count": 28,
     "metadata": {},
     "output_type": "execute_result"
    },
    {
     "data": {
      "image/png": "[encoded data removed]",
      "text/plain": [
       "<Figure size 640x480 with 2 Axes>"
      ]
     },
     "metadata": {},
     "output_type": "display_data"
    }
   ],
   "source": [
    "#checking heatmap\n",
    "corr = df.drop(columns=[\"Exited\"]).corr()\n",
    "sns.heatmap(corr)"
   ]
  },
  {
   "cell_type": "markdown",
   "id": "c5689944",
   "metadata": {
    "papermill": {
     "duration": 0.028469,
     "end_time": "2024-01-07T06:07:06.760792",
     "exception": false,
     "start_time": "2024-01-07T06:07:06.732323",
     "status": "completed"
    },
    "tags": []
   },
   "source": [
    "## Split"
   ]
  },
  {
   "cell_type": "code",
   "execution_count": 29,
   "id": "89be95f0",
   "metadata": {
    "execution": {
     "iopub.execute_input": "2024-01-07T06:07:06.817982Z",
     "iopub.status.busy": "2024-01-07T06:07:06.816663Z",
     "iopub.status.idle": "2024-01-07T06:07:06.828685Z",
     "shell.execute_reply": "2024-01-07T06:07:06.827292Z"
    },
    "papermill": {
     "duration": 0.044877,
     "end_time": "2024-01-07T06:07:06.831427",
     "exception": false,
     "start_time": "2024-01-07T06:07:06.786550",
     "status": "completed"
    },
    "tags": []
   },
   "outputs": [],
   "source": [
    "target = \"Exited\"\n",
    "y = df[target]\n",
    "X = df.drop(columns = [target])"
   ]
  },
  {
   "cell_type": "code",
   "execution_count": 30,
   "id": "344b3d87",
   "metadata": {
    "execution": {
     "iopub.execute_input": "2024-01-07T06:07:06.886896Z",
     "iopub.status.busy": "2024-01-07T06:07:06.885594Z",
     "iopub.status.idle": "2024-01-07T06:07:06.962592Z",
     "shell.execute_reply": "2024-01-07T06:07:06.961392Z"
    },
    "papermill": {
     "duration": 0.107954,
     "end_time": "2024-01-07T06:07:06.965314",
     "exception": false,
     "start_time": "2024-01-07T06:07:06.857360",
     "status": "completed"
    },
    "tags": []
   },
   "outputs": [
    {
     "name": "stdout",
     "output_type": "stream",
     "text": [
      "(140025, 8)\n",
      "(35007, 8)\n",
      "(140025,)\n",
      "(35007,)\n"
     ]
    }
   ],
   "source": [
    "X_train, X_test, y_train, y_test = train_test_split(X,y,test_size=0.2, random_state=42)\n",
    "\n",
    "print(X_train.shape)\n",
    "print(X_test.shape)\n",
    "print(y_train.shape)\n",
    "print(y_test.shape)"
   ]
  },
  {
   "cell_type": "code",
   "execution_count": 31,
   "id": "c7d3b09f",
   "metadata": {
    "execution": {
     "iopub.execute_input": "2024-01-07T06:07:07.024395Z",
     "iopub.status.busy": "2024-01-07T06:07:07.023377Z",
     "iopub.status.idle": "2024-01-07T06:07:07.029167Z",
     "shell.execute_reply": "2024-01-07T06:07:07.028096Z"
    },
    "papermill": {
     "duration": 0.035694,
     "end_time": "2024-01-07T06:07:07.031676",
     "exception": false,
     "start_time": "2024-01-07T06:07:06.995982",
     "status": "completed"
    },
    "tags": []
   },
   "outputs": [],
   "source": [
    "#Make Loistic Regression pipeline\n",
    "model_lr = make_pipeline(\n",
    "    StandardScaler(),\n",
    "    LogisticRegression()\n",
    ")"
   ]
  },
  {
   "cell_type": "markdown",
   "id": "1942a99e",
   "metadata": {
    "papermill": {
     "duration": 0.025603,
     "end_time": "2024-01-07T06:07:07.082811",
     "exception": false,
     "start_time": "2024-01-07T06:07:07.057208",
     "status": "completed"
    },
    "tags": []
   },
   "source": [
    "## Logistic model"
   ]
  },
  {
   "cell_type": "code",
   "execution_count": 32,
   "id": "80c0642b",
   "metadata": {
    "execution": {
     "iopub.execute_input": "2024-01-07T06:07:07.137947Z",
     "iopub.status.busy": "2024-01-07T06:07:07.136855Z",
     "iopub.status.idle": "2024-01-07T06:07:07.412086Z",
     "shell.execute_reply": "2024-01-07T06:07:07.410844Z"
    },
    "papermill": {
     "duration": 0.337664,
     "end_time": "2024-01-07T06:07:07.446398",
     "exception": false,
     "start_time": "2024-01-07T06:07:07.108734",
     "status": "completed"
    },
    "tags": []
   },
   "outputs": [
    {
     "data": {
      "text/html": [
       "<style>#sk-container-id-1 {color: black;background-color: white;}#sk-container-id-1 pre{padding: 0;}#sk-container-id-1 div.sk-toggleable {background-color: white;}#sk-container-id-1 label.sk-toggleable__label {cursor: pointer;display: block;width: 100%;margin-bottom: 0;padding: 0.3em;box-sizing: border-box;text-align: center;}#sk-container-id-1 label.sk-toggleable__label-arrow:before {content: \"▸\";float: left;margin-right: 0.25em;color: #696969;}#sk-container-id-1 label.sk-toggleable__label-arrow:hover:before {color: black;}#sk-container-id-1 div.sk-estimator:hover label.sk-toggleable__label-arrow:before {color: black;}#sk-container-id-1 div.sk-toggleable__content {max-height: 0;max-width: 0;overflow: hidden;text-align: left;background-color: #f0f8ff;}#sk-container-id-1 div.sk-toggleable__content pre {margin: 0.2em;color: black;border-radius: 0.25em;background-color: #f0f8ff;}#sk-container-id-1 input.sk-toggleable__control:checked~div.sk-toggleable__content {max-height: 200px;max-width: 100%;overflow: auto;}#sk-container-id-1 input.sk-toggleable__control:checked~label.sk-toggleable__label-arrow:before {content: \"▾\";}#sk-container-id-1 div.sk-estimator input.sk-toggleable__control:checked~label.sk-toggleable__label {background-color: #d4ebff;}#sk-container-id-1 div.sk-label input.sk-toggleable__control:checked~label.sk-toggleable__label {background-color: #d4ebff;}#sk-container-id-1 input.sk-hidden--visually {border: 0;clip: rect(1px 1px 1px 1px);clip: rect(1px, 1px, 1px, 1px);height: 1px;margin: -1px;overflow: hidden;padding: 0;position: absolute;width: 1px;}#sk-container-id-1 div.sk-estimator {font-family: monospace;background-color: #f0f8ff;border: 1px dotted black;border-radius: 0.25em;box-sizing: border-box;margin-bottom: 0.5em;}#sk-container-id-1 div.sk-estimator:hover {background-color: #d4ebff;}#sk-container-id-1 div.sk-parallel-item::after {content: \"\";width: 100%;border-bottom: 1px solid gray;flex-grow: 1;}#sk-container-id-1 div.sk-label:hover label.sk-toggleable__label {background-color: #d4ebff;}#sk-container-id-1 div.sk-serial::before {content: \"\";position: absolute;border-left: 1px solid gray;box-sizing: border-box;top: 0;bottom: 0;left: 50%;z-index: 0;}#sk-container-id-1 div.sk-serial {display: flex;flex-direction: column;align-items: center;background-color: white;padding-right: 0.2em;padding-left: 0.2em;position: relative;}#sk-container-id-1 div.sk-item {position: relative;z-index: 1;}#sk-container-id-1 div.sk-parallel {display: flex;align-items: stretch;justify-content: center;background-color: white;position: relative;}#sk-container-id-1 div.sk-item::before, #sk-container-id-1 div.sk-parallel-item::before {content: \"\";position: absolute;border-left: 1px solid gray;box-sizing: border-box;top: 0;bottom: 0;left: 50%;z-index: -1;}#sk-container-id-1 div.sk-parallel-item {display: flex;flex-direction: column;z-index: 1;position: relative;background-color: white;}#sk-container-id-1 div.sk-parallel-item:first-child::after {align-self: flex-end;width: 50%;}#sk-container-id-1 div.sk-parallel-item:last-child::after {align-self: flex-start;width: 50%;}#sk-container-id-1 div.sk-parallel-item:only-child::after {width: 0;}#sk-container-id-1 div.sk-dashed-wrapped {border: 1px dashed gray;margin: 0 0.4em 0.5em 0.4em;box-sizing: border-box;padding-bottom: 0.4em;background-color: white;}#sk-container-id-1 div.sk-label label {font-family: monospace;font-weight: bold;display: inline-block;line-height: 1.2em;}#sk-container-id-1 div.sk-label-container {text-align: center;}#sk-container-id-1 div.sk-container {/* jupyter's `normalize.less` sets `[hidden] { display: none; }` but bootstrap.min.css set `[hidden] { display: none !important; }` so we also need the `!important` here to be able to override the default hidden behavior on the sphinx rendered scikit-learn.org. See: https://github.com/scikit-learn/scikit-learn/issues/21755 */display: inline-block !important;position: relative;}#sk-container-id-1 div.sk-text-repr-fallback {display: none;}</style><div id=\"sk-container-id-1\" class=\"sk-top-container\"><div class=\"sk-text-repr-fallback\"><pre>Pipeline(steps=[(&#x27;standardscaler&#x27;, StandardScaler()),\n",
       "                (&#x27;logisticregression&#x27;, LogisticRegression())])</pre><b>In a Jupyter environment, please rerun this cell to show the HTML representation or trust the notebook. <br />On GitHub, the HTML representation is unable to render, please try loading this page with nbviewer.org.</b></div><div class=\"sk-container\" hidden><div class=\"sk-item sk-dashed-wrapped\"><div class=\"sk-label-container\"><div class=\"sk-label sk-toggleable\"><input class=\"sk-toggleable__control sk-hidden--visually\" id=\"sk-estimator-id-1\" type=\"checkbox\" ><label for=\"sk-estimator-id-1\" class=\"sk-toggleable__label sk-toggleable__label-arrow\">Pipeline</label><div class=\"sk-toggleable__content\"><pre>Pipeline(steps=[(&#x27;standardscaler&#x27;, StandardScaler()),\n",
       "                (&#x27;logisticregression&#x27;, LogisticRegression())])</pre></div></div></div><div class=\"sk-serial\"><div class=\"sk-item\"><div class=\"sk-estimator sk-toggleable\"><input class=\"sk-toggleable__control sk-hidden--visually\" id=\"sk-estimator-id-2\" type=\"checkbox\" ><label for=\"sk-estimator-id-2\" class=\"sk-toggleable__label sk-toggleable__label-arrow\">StandardScaler</label><div class=\"sk-toggleable__content\"><pre>StandardScaler()</pre></div></div></div><div class=\"sk-item\"><div class=\"sk-estimator sk-toggleable\"><input class=\"sk-toggleable__control sk-hidden--visually\" id=\"sk-estimator-id-3\" type=\"checkbox\" ><label for=\"sk-estimator-id-3\" class=\"sk-toggleable__label sk-toggleable__label-arrow\">LogisticRegression</label><div class=\"sk-toggleable__content\"><pre>LogisticRegression()</pre></div></div></div></div></div></div></div>"
      ],
      "text/plain": [
       "Pipeline(steps=[('standardscaler', StandardScaler()),\n",
       "                ('logisticregression', LogisticRegression())])"
      ]
     },
     "execution_count": 32,
     "metadata": {},
     "output_type": "execute_result"
    }
   ],
   "source": [
    "model_lr.fit(X_train, y_train)"
   ]
  },
  {
   "cell_type": "code",
   "execution_count": 33,
   "id": "fef6dc8c",
   "metadata": {
    "execution": {
     "iopub.execute_input": "2024-01-07T06:07:07.539475Z",
     "iopub.status.busy": "2024-01-07T06:07:07.538944Z",
     "iopub.status.idle": "2024-01-07T06:07:07.624546Z",
     "shell.execute_reply": "2024-01-07T06:07:07.622928Z"
    },
    "papermill": {
     "duration": 0.118902,
     "end_time": "2024-01-07T06:07:07.630133",
     "exception": false,
     "start_time": "2024-01-07T06:07:07.511231",
     "status": "completed"
    },
    "tags": []
   },
   "outputs": [
    {
     "data": {
      "text/plain": [
       "0.7899681448965132"
      ]
     },
     "execution_count": 33,
     "metadata": {},
     "output_type": "execute_result"
    }
   ],
   "source": [
    "y_pred_lr = model_lr.predict_proba(X_test)[:,1]\n",
    "roc = roc_auc_score(y_test, y_pred_lr)\n",
    "fpr,tpr,thresholds = roc_curve(y_test, y_pred_lr)\n",
    "roc"
   ]
  },
  {
   "cell_type": "markdown",
   "id": "bc0cb17c",
   "metadata": {
    "papermill": {
     "duration": 0.028273,
     "end_time": "2024-01-07T06:07:07.714097",
     "exception": false,
     "start_time": "2024-01-07T06:07:07.685824",
     "status": "completed"
    },
    "tags": []
   },
   "source": [
    "## Plot the curve"
   ]
  },
  {
   "cell_type": "code",
   "execution_count": 34,
   "id": "476fc42f",
   "metadata": {
    "execution": {
     "iopub.execute_input": "2024-01-07T06:07:07.771601Z",
     "iopub.status.busy": "2024-01-07T06:07:07.771191Z",
     "iopub.status.idle": "2024-01-07T06:07:08.116436Z",
     "shell.execute_reply": "2024-01-07T06:07:08.115294Z"
    },
    "papermill": {
     "duration": 0.378104,
     "end_time": "2024-01-07T06:07:08.119166",
     "exception": false,
     "start_time": "2024-01-07T06:07:07.741062",
     "status": "completed"
    },
    "tags": []
   },
   "outputs": [
    {
     "data": {
      "image/png": "[encoded data removed]",
      "text/plain": [
       "<Figure size 500x500 with 1 Axes>"
      ]
     },
     "metadata": {},
     "output_type": "display_data"
    }
   ],
   "source": [
    "plt.figure(figsize=(5, 5))\n",
    "plt.plot(fpr, tpr, label=f'AUC = {roc:.2f}')\n",
    "plt.plot([0, 1], [0, 1], linestyle='--', color='gray', label='Random')\n",
    "plt.xlabel('False Positive Rate (FPR)')\n",
    "plt.ylabel('True Positive Rate (TPR)')\n",
    "plt.title('ROC Curve - Logistic Regression')\n",
    "plt.legend()\n",
    "plt.show()"
   ]
  },
  {
   "cell_type": "code",
   "execution_count": 35,
   "id": "9da2a9dd",
   "metadata": {
    "execution": {
     "iopub.execute_input": "2024-01-07T06:07:08.175198Z",
     "iopub.status.busy": "2024-01-07T06:07:08.174289Z",
     "iopub.status.idle": "2024-01-07T06:09:33.351920Z",
     "shell.execute_reply": "2024-01-07T06:09:33.350420Z"
    },
    "papermill": {
     "duration": 145.237147,
     "end_time": "2024-01-07T06:09:33.382332",
     "exception": false,
     "start_time": "2024-01-07T06:07:08.145185",
     "status": "completed"
    },
    "tags": []
   },
   "outputs": [
    {
     "data": {
      "text/html": [
       "<style>#sk-container-id-2 {color: black;background-color: white;}#sk-container-id-2 pre{padding: 0;}#sk-container-id-2 div.sk-toggleable {background-color: white;}#sk-container-id-2 label.sk-toggleable__label {cursor: pointer;display: block;width: 100%;margin-bottom: 0;padding: 0.3em;box-sizing: border-box;text-align: center;}#sk-container-id-2 label.sk-toggleable__label-arrow:before {content: \"▸\";float: left;margin-right: 0.25em;color: #696969;}#sk-container-id-2 label.sk-toggleable__label-arrow:hover:before {color: black;}#sk-container-id-2 div.sk-estimator:hover label.sk-toggleable__label-arrow:before {color: black;}#sk-container-id-2 div.sk-toggleable__content {max-height: 0;max-width: 0;overflow: hidden;text-align: left;background-color: #f0f8ff;}#sk-container-id-2 div.sk-toggleable__content pre {margin: 0.2em;color: black;border-radius: 0.25em;background-color: #f0f8ff;}#sk-container-id-2 input.sk-toggleable__control:checked~div.sk-toggleable__content {max-height: 200px;max-width: 100%;overflow: auto;}#sk-container-id-2 input.sk-toggleable__control:checked~label.sk-toggleable__label-arrow:before {content: \"▾\";}#sk-container-id-2 div.sk-estimator input.sk-toggleable__control:checked~label.sk-toggleable__label {background-color: #d4ebff;}#sk-container-id-2 div.sk-label input.sk-toggleable__control:checked~label.sk-toggleable__label {background-color: #d4ebff;}#sk-container-id-2 input.sk-hidden--visually {border: 0;clip: rect(1px 1px 1px 1px);clip: rect(1px, 1px, 1px, 1px);height: 1px;margin: -1px;overflow: hidden;padding: 0;position: absolute;width: 1px;}#sk-container-id-2 div.sk-estimator {font-family: monospace;background-color: #f0f8ff;border: 1px dotted black;border-radius: 0.25em;box-sizing: border-box;margin-bottom: 0.5em;}#sk-container-id-2 div.sk-estimator:hover {background-color: #d4ebff;}#sk-container-id-2 div.sk-parallel-item::after {content: \"\";width: 100%;border-bottom: 1px solid gray;flex-grow: 1;}#sk-container-id-2 div.sk-label:hover label.sk-toggleable__label {background-color: #d4ebff;}#sk-container-id-2 div.sk-serial::before {content: \"\";position: absolute;border-left: 1px solid gray;box-sizing: border-box;top: 0;bottom: 0;left: 50%;z-index: 0;}#sk-container-id-2 div.sk-serial {display: flex;flex-direction: column;align-items: center;background-color: white;padding-right: 0.2em;padding-left: 0.2em;position: relative;}#sk-container-id-2 div.sk-item {position: relative;z-index: 1;}#sk-container-id-2 div.sk-parallel {display: flex;align-items: stretch;justify-content: center;background-color: white;position: relative;}#sk-container-id-2 div.sk-item::before, #sk-container-id-2 div.sk-parallel-item::before {content: \"\";position: absolute;border-left: 1px solid gray;box-sizing: border-box;top: 0;bottom: 0;left: 50%;z-index: -1;}#sk-container-id-2 div.sk-parallel-item {display: flex;flex-direction: column;z-index: 1;position: relative;background-color: white;}#sk-container-id-2 div.sk-parallel-item:first-child::after {align-self: flex-end;width: 50%;}#sk-container-id-2 div.sk-parallel-item:last-child::after {align-self: flex-start;width: 50%;}#sk-container-id-2 div.sk-parallel-item:only-child::after {width: 0;}#sk-container-id-2 div.sk-dashed-wrapped {border: 1px dashed gray;margin: 0 0.4em 0.5em 0.4em;box-sizing: border-box;padding-bottom: 0.4em;background-color: white;}#sk-container-id-2 div.sk-label label {font-family: monospace;font-weight: bold;display: inline-block;line-height: 1.2em;}#sk-container-id-2 div.sk-label-container {text-align: center;}#sk-container-id-2 div.sk-container {/* jupyter's `normalize.less` sets `[hidden] { display: none; }` but bootstrap.min.css set `[hidden] { display: none !important; }` so we also need the `!important` here to be able to override the default hidden behavior on the sphinx rendered scikit-learn.org. See: https://github.com/scikit-learn/scikit-learn/issues/21755 */display: inline-block !important;position: relative;}#sk-container-id-2 div.sk-text-repr-fallback {display: none;}</style><div id=\"sk-container-id-2\" class=\"sk-top-container\"><div class=\"sk-text-repr-fallback\"><pre>Pipeline(steps=[(&#x27;randomforestclassifier&#x27;,\n",
       "                 RandomForestClassifier(n_estimators=500, random_state=42))])</pre><b>In a Jupyter environment, please rerun this cell to show the HTML representation or trust the notebook. <br />On GitHub, the HTML representation is unable to render, please try loading this page with nbviewer.org.</b></div><div class=\"sk-container\" hidden><div class=\"sk-item sk-dashed-wrapped\"><div class=\"sk-label-container\"><div class=\"sk-label sk-toggleable\"><input class=\"sk-toggleable__control sk-hidden--visually\" id=\"sk-estimator-id-4\" type=\"checkbox\" ><label for=\"sk-estimator-id-4\" class=\"sk-toggleable__label sk-toggleable__label-arrow\">Pipeline</label><div class=\"sk-toggleable__content\"><pre>Pipeline(steps=[(&#x27;randomforestclassifier&#x27;,\n",
       "                 RandomForestClassifier(n_estimators=500, random_state=42))])</pre></div></div></div><div class=\"sk-serial\"><div class=\"sk-item\"><div class=\"sk-estimator sk-toggleable\"><input class=\"sk-toggleable__control sk-hidden--visually\" id=\"sk-estimator-id-5\" type=\"checkbox\" ><label for=\"sk-estimator-id-5\" class=\"sk-toggleable__label sk-toggleable__label-arrow\">RandomForestClassifier</label><div class=\"sk-toggleable__content\"><pre>RandomForestClassifier(n_estimators=500, random_state=42)</pre></div></div></div></div></div></div></div>"
      ],
      "text/plain": [
       "Pipeline(steps=[('randomforestclassifier',\n",
       "                 RandomForestClassifier(n_estimators=500, random_state=42))])"
      ]
     },
     "execution_count": 35,
     "metadata": {},
     "output_type": "execute_result"
    }
   ],
   "source": [
    "# Random Forest Model\n",
    "model_rf = make_pipeline(RandomForestClassifier(n_estimators=500,random_state = 42))\n",
    "model_rf.fit(X_train, y_train)"
   ]
  },
  {
   "cell_type": "code",
   "execution_count": 36,
   "id": "7f3026a7",
   "metadata": {
    "execution": {
     "iopub.execute_input": "2024-01-07T06:09:33.438276Z",
     "iopub.status.busy": "2024-01-07T06:09:33.437868Z",
     "iopub.status.idle": "2024-01-07T06:09:39.446486Z",
     "shell.execute_reply": "2024-01-07T06:09:39.445341Z"
    },
    "papermill": {
     "duration": 6.040184,
     "end_time": "2024-01-07T06:09:39.449374",
     "exception": false,
     "start_time": "2024-01-07T06:09:33.409190",
     "status": "completed"
    },
    "tags": []
   },
   "outputs": [
    {
     "data": {
      "text/plain": [
       "0.8553918012524159"
      ]
     },
     "execution_count": 36,
     "metadata": {},
     "output_type": "execute_result"
    }
   ],
   "source": [
    "y_pred_rf = model_rf.predict_proba(X_test)[:,1]\n",
    "roc_rf = roc_auc_score(y_test, y_pred_rf)\n",
    "fpr,tpr,thresholds = roc_curve(y_test, y_pred_rf)\n",
    "roc_rf"
   ]
  },
  {
   "cell_type": "code",
   "execution_count": 37,
   "id": "203e6725",
   "metadata": {
    "execution": {
     "iopub.execute_input": "2024-01-07T06:09:39.507475Z",
     "iopub.status.busy": "2024-01-07T06:09:39.506600Z",
     "iopub.status.idle": "2024-01-07T06:09:39.842672Z",
     "shell.execute_reply": "2024-01-07T06:09:39.841335Z"
    },
    "papermill": {
     "duration": 0.367024,
     "end_time": "2024-01-07T06:09:39.845809",
     "exception": false,
     "start_time": "2024-01-07T06:09:39.478785",
     "status": "completed"
    },
    "tags": []
   },
   "outputs": [
    {
     "data": {
      "image/png": "[encoded data removed]",
      "text/plain": [
       "<Figure size 500x500 with 1 Axes>"
      ]
     },
     "metadata": {},
     "output_type": "display_data"
    }
   ],
   "source": [
    "plt.figure(figsize=(5, 5))\n",
    "plt.plot(fpr, tpr, label=f'AUC = {roc_rf:.2f}')\n",
    "plt.plot([0, 1], [0, 1], linestyle='--', color='gray', label='Random')\n",
    "plt.xlabel('False Positive Rate (FPR)')\n",
    "plt.ylabel('True Positive Rate (TPR)')\n",
    "plt.title('ROC Curve - Random Forest')\n",
    "plt.legend()\n",
    "plt.show()"
   ]
  },
  {
   "cell_type": "markdown",
   "id": "4620b624",
   "metadata": {
    "papermill": {
     "duration": 0.028277,
     "end_time": "2024-01-07T06:09:39.901352",
     "exception": false,
     "start_time": "2024-01-07T06:09:39.873075",
     "status": "completed"
    },
    "tags": []
   },
   "source": [
    "### LGBM"
   ]
  },
  {
   "cell_type": "code",
   "execution_count": 38,
   "id": "df15e8b7",
   "metadata": {
    "execution": {
     "iopub.execute_input": "2024-01-07T06:09:39.960911Z",
     "iopub.status.busy": "2024-01-07T06:09:39.960433Z",
     "iopub.status.idle": "2024-01-07T06:09:42.651837Z",
     "shell.execute_reply": "2024-01-07T06:09:42.649574Z"
    },
    "papermill": {
     "duration": 2.725137,
     "end_time": "2024-01-07T06:09:42.654992",
     "exception": false,
     "start_time": "2024-01-07T06:09:39.929855",
     "status": "completed"
    },
    "tags": []
   },
   "outputs": [
    {
     "data": {
      "text/html": [
       "<style>#sk-container-id-3 {color: black;background-color: white;}#sk-container-id-3 pre{padding: 0;}#sk-container-id-3 div.sk-toggleable {background-color: white;}#sk-container-id-3 label.sk-toggleable__label {cursor: pointer;display: block;width: 100%;margin-bottom: 0;padding: 0.3em;box-sizing: border-box;text-align: center;}#sk-container-id-3 label.sk-toggleable__label-arrow:before {content: \"▸\";float: left;margin-right: 0.25em;color: #696969;}#sk-container-id-3 label.sk-toggleable__label-arrow:hover:before {color: black;}#sk-container-id-3 div.sk-estimator:hover label.sk-toggleable__label-arrow:before {color: black;}#sk-container-id-3 div.sk-toggleable__content {max-height: 0;max-width: 0;overflow: hidden;text-align: left;background-color: #f0f8ff;}#sk-container-id-3 div.sk-toggleable__content pre {margin: 0.2em;color: black;border-radius: 0.25em;background-color: #f0f8ff;}#sk-container-id-3 input.sk-toggleable__control:checked~div.sk-toggleable__content {max-height: 200px;max-width: 100%;overflow: auto;}#sk-container-id-3 input.sk-toggleable__control:checked~label.sk-toggleable__label-arrow:before {content: \"▾\";}#sk-container-id-3 div.sk-estimator input.sk-toggleable__control:checked~label.sk-toggleable__label {background-color: #d4ebff;}#sk-container-id-3 div.sk-label input.sk-toggleable__control:checked~label.sk-toggleable__label {background-color: #d4ebff;}#sk-container-id-3 input.sk-hidden--visually {border: 0;clip: rect(1px 1px 1px 1px);clip: rect(1px, 1px, 1px, 1px);height: 1px;margin: -1px;overflow: hidden;padding: 0;position: absolute;width: 1px;}#sk-container-id-3 div.sk-estimator {font-family: monospace;background-color: #f0f8ff;border: 1px dotted black;border-radius: 0.25em;box-sizing: border-box;margin-bottom: 0.5em;}#sk-container-id-3 div.sk-estimator:hover {background-color: #d4ebff;}#sk-container-id-3 div.sk-parallel-item::after {content: \"\";width: 100%;border-bottom: 1px solid gray;flex-grow: 1;}#sk-container-id-3 div.sk-label:hover label.sk-toggleable__label {background-color: #d4ebff;}#sk-container-id-3 div.sk-serial::before {content: \"\";position: absolute;border-left: 1px solid gray;box-sizing: border-box;top: 0;bottom: 0;left: 50%;z-index: 0;}#sk-container-id-3 div.sk-serial {display: flex;flex-direction: column;align-items: center;background-color: white;padding-right: 0.2em;padding-left: 0.2em;position: relative;}#sk-container-id-3 div.sk-item {position: relative;z-index: 1;}#sk-container-id-3 div.sk-parallel {display: flex;align-items: stretch;justify-content: center;background-color: white;position: relative;}#sk-container-id-3 div.sk-item::before, #sk-container-id-3 div.sk-parallel-item::before {content: \"\";position: absolute;border-left: 1px solid gray;box-sizing: border-box;top: 0;bottom: 0;left: 50%;z-index: -1;}#sk-container-id-3 div.sk-parallel-item {display: flex;flex-direction: column;z-index: 1;position: relative;background-color: white;}#sk-container-id-3 div.sk-parallel-item:first-child::after {align-self: flex-end;width: 50%;}#sk-container-id-3 div.sk-parallel-item:last-child::after {align-self: flex-start;width: 50%;}#sk-container-id-3 div.sk-parallel-item:only-child::after {width: 0;}#sk-container-id-3 div.sk-dashed-wrapped {border: 1px dashed gray;margin: 0 0.4em 0.5em 0.4em;box-sizing: border-box;padding-bottom: 0.4em;background-color: white;}#sk-container-id-3 div.sk-label label {font-family: monospace;font-weight: bold;display: inline-block;line-height: 1.2em;}#sk-container-id-3 div.sk-label-container {text-align: center;}#sk-container-id-3 div.sk-container {/* jupyter's `normalize.less` sets `[hidden] { display: none; }` but bootstrap.min.css set `[hidden] { display: none !important; }` so we also need the `!important` here to be able to override the default hidden behavior on the sphinx rendered scikit-learn.org. See: https://github.com/scikit-learn/scikit-learn/issues/21755 */display: inline-block !important;position: relative;}#sk-container-id-3 div.sk-text-repr-fallback {display: none;}</style><div id=\"sk-container-id-3\" class=\"sk-top-container\"><div class=\"sk-text-repr-fallback\"><pre>LGBMClassifier(n_estimators=150, random_state=42)</pre><b>In a Jupyter environment, please rerun this cell to show the HTML representation or trust the notebook. <br />On GitHub, the HTML representation is unable to render, please try loading this page with nbviewer.org.</b></div><div class=\"sk-container\" hidden><div class=\"sk-item\"><div class=\"sk-estimator sk-toggleable\"><input class=\"sk-toggleable__control sk-hidden--visually\" id=\"sk-estimator-id-6\" type=\"checkbox\" checked><label for=\"sk-estimator-id-6\" class=\"sk-toggleable__label sk-toggleable__label-arrow\">LGBMClassifier</label><div class=\"sk-toggleable__content\"><pre>LGBMClassifier(n_estimators=150, random_state=42)</pre></div></div></div></div></div>"
      ],
      "text/plain": [
       "LGBMClassifier(n_estimators=150, random_state=42)"
      ]
     },
     "execution_count": 38,
     "metadata": {},
     "output_type": "execute_result"
    }
   ],
   "source": [
    "model_lgbm = LGBMClassifier(n_estimators = 150, random_state=42)\n",
    "model_lgbm.fit(X_train, y_train)"
   ]
  },
  {
   "cell_type": "code",
   "execution_count": 39,
   "id": "a08d5f76",
   "metadata": {
    "execution": {
     "iopub.execute_input": "2024-01-07T06:09:42.715882Z",
     "iopub.status.busy": "2024-01-07T06:09:42.714458Z",
     "iopub.status.idle": "2024-01-07T06:09:42.849455Z",
     "shell.execute_reply": "2024-01-07T06:09:42.848234Z"
    },
    "papermill": {
     "duration": 0.169796,
     "end_time": "2024-01-07T06:09:42.852235",
     "exception": false,
     "start_time": "2024-01-07T06:09:42.682439",
     "status": "completed"
    },
    "tags": []
   },
   "outputs": [
    {
     "data": {
      "text/plain": [
       "0.8735885828906551"
      ]
     },
     "execution_count": 39,
     "metadata": {},
     "output_type": "execute_result"
    }
   ],
   "source": [
    "y_pred_lgbm = model_lgbm.predict_proba(X_test)[:,1]\n",
    "roc_lgbm = roc_auc_score(y_test, y_pred_lgbm)\n",
    "fpr,tpr,thresholds = roc_curve(y_test, y_pred_lgbm)\n",
    "roc_lgbm"
   ]
  },
  {
   "cell_type": "code",
   "execution_count": 40,
   "id": "d15c08b3",
   "metadata": {
    "execution": {
     "iopub.execute_input": "2024-01-07T06:09:42.914427Z",
     "iopub.status.busy": "2024-01-07T06:09:42.913956Z",
     "iopub.status.idle": "2024-01-07T06:09:43.274821Z",
     "shell.execute_reply": "2024-01-07T06:09:43.273701Z"
    },
    "papermill": {
     "duration": 0.397335,
     "end_time": "2024-01-07T06:09:43.278750",
     "exception": false,
     "start_time": "2024-01-07T06:09:42.881415",
     "status": "completed"
    },
    "tags": []
   },
   "outputs": [
    {
     "data": {
      "image/png": "[encoded data removed]",
      "text/plain": [
       "<Figure size 500x500 with 1 Axes>"
      ]
     },
     "metadata": {},
     "output_type": "display_data"
    }
   ],
   "source": [
    "plt.figure(figsize=(5, 5))\n",
    "plt.plot(fpr, tpr, label=f'AUC = {roc_lgbm:.2f}')\n",
    "plt.plot([0, 1], [0, 1], linestyle='--', color='gray', label='Random')\n",
    "plt.xlabel('False Positive Rate (FPR)')\n",
    "plt.ylabel('True Positive Rate (TPR)')\n",
    "plt.title('ROC Curve - LGBM')\n",
    "plt.legend()\n",
    "plt.show()"
   ]
  },
  {
   "cell_type": "markdown",
   "id": "296fe061",
   "metadata": {
    "papermill": {
     "duration": 0.030798,
     "end_time": "2024-01-07T06:09:43.340850",
     "exception": false,
     "start_time": "2024-01-07T06:09:43.310052",
     "status": "completed"
    },
    "tags": []
   },
   "source": [
    "### Mean prediction"
   ]
  },
  {
   "cell_type": "code",
   "execution_count": 41,
   "id": "ecec91bc",
   "metadata": {
    "execution": {
     "iopub.execute_input": "2024-01-07T06:09:43.404377Z",
     "iopub.status.busy": "2024-01-07T06:09:43.403952Z",
     "iopub.status.idle": "2024-01-07T06:09:43.432711Z",
     "shell.execute_reply": "2024-01-07T06:09:43.431745Z"
    },
    "papermill": {
     "duration": 0.064693,
     "end_time": "2024-01-07T06:09:43.435176",
     "exception": false,
     "start_time": "2024-01-07T06:09:43.370483",
     "status": "completed"
    },
    "tags": []
   },
   "outputs": [
    {
     "data": {
      "text/plain": [
       "0.8658900626803885"
      ]
     },
     "execution_count": 41,
     "metadata": {},
     "output_type": "execute_result"
    }
   ],
   "source": [
    "y_pred_mean = (y_pred_lr + y_pred_rf + y_pred_lgbm)/3\n",
    "roc_mean = roc_auc_score(y_test, y_pred_mean)\n",
    "fpr,tpr,thresholds = roc_curve(y_test, y_pred_mean)\n",
    "roc_mean"
   ]
  },
  {
   "cell_type": "code",
   "execution_count": 42,
   "id": "753eb33c",
   "metadata": {
    "execution": {
     "iopub.execute_input": "2024-01-07T06:09:43.494505Z",
     "iopub.status.busy": "2024-01-07T06:09:43.493712Z",
     "iopub.status.idle": "2024-01-07T06:09:43.832338Z",
     "shell.execute_reply": "2024-01-07T06:09:43.830563Z"
    },
    "papermill": {
     "duration": 0.372547,
     "end_time": "2024-01-07T06:09:43.836203",
     "exception": false,
     "start_time": "2024-01-07T06:09:43.463656",
     "status": "completed"
    },
    "tags": []
   },
   "outputs": [
    {
     "data": {
      "image/png": "[encoded data removed]",
      "text/plain": [
       "<Figure size 500x500 with 1 Axes>"
      ]
     },
     "metadata": {},
     "output_type": "display_data"
    }
   ],
   "source": [
    "plt.figure(figsize=(5, 5))\n",
    "plt.plot(fpr, tpr, label=f'AUC = {roc_mean:.2f}')\n",
    "plt.plot([0, 1], [0, 1], linestyle='--', color='gray', label='Random')\n",
    "plt.xlabel('False Positive Rate (FPR)')\n",
    "plt.ylabel('True Positive Rate (TPR)')\n",
    "plt.title('ROC Curve - Mean of both models')\n",
    "plt.legend()\n",
    "plt.show()"
   ]
  },
  {
   "cell_type": "code",
   "execution_count": 43,
   "id": "6f966401",
   "metadata": {
    "execution": {
     "iopub.execute_input": "2024-01-07T06:09:43.911014Z",
     "iopub.status.busy": "2024-01-07T06:09:43.910449Z",
     "iopub.status.idle": "2024-01-07T06:09:43.954691Z",
     "shell.execute_reply": "2024-01-07T06:09:43.953120Z"
    },
    "papermill": {
     "duration": 0.084128,
     "end_time": "2024-01-07T06:09:43.958132",
     "exception": false,
     "start_time": "2024-01-07T06:09:43.874004",
     "status": "completed"
    },
    "tags": []
   },
   "outputs": [
    {
     "data": {
      "text/plain": [
       "0.8700255563195527"
      ]
     },
     "execution_count": 43,
     "metadata": {},
     "output_type": "execute_result"
    }
   ],
   "source": [
    "#weighted mean\n",
    "y_pred_w_mean = (0.9*y_pred_rf + 1.2*y_pred_lgbm)/2\n",
    "roc_w_mean = roc_auc_score(y_test, y_pred_w_mean)\n",
    "fpr,tpr,thresholds = roc_curve(y_test, y_pred_w_mean)\n",
    "roc_w_mean"
   ]
  },
  {
   "cell_type": "markdown",
   "id": "9e864f50",
   "metadata": {
    "papermill": {
     "duration": 0.03929,
     "end_time": "2024-01-07T06:09:44.044579",
     "exception": false,
     "start_time": "2024-01-07T06:09:44.005289",
     "status": "completed"
    },
    "tags": []
   },
   "source": [
    "## Working on test data"
   ]
  },
  {
   "cell_type": "code",
   "execution_count": 44,
   "id": "0af51317",
   "metadata": {
    "execution": {
     "iopub.execute_input": "2024-01-07T06:09:44.109393Z",
     "iopub.status.busy": "2024-01-07T06:09:44.108780Z",
     "iopub.status.idle": "2024-01-07T06:09:44.116118Z",
     "shell.execute_reply": "2024-01-07T06:09:44.114092Z"
    },
    "papermill": {
     "duration": 0.044017,
     "end_time": "2024-01-07T06:09:44.119508",
     "exception": false,
     "start_time": "2024-01-07T06:09:44.075491",
     "status": "completed"
    },
    "tags": []
   },
   "outputs": [],
   "source": [
    "features_dropped = [\"id\", \"CustomerId\", \"Gender\", \"Geography\", \"Surname\"]"
   ]
  },
  {
   "cell_type": "code",
   "execution_count": 45,
   "id": "fc218a0e",
   "metadata": {
    "execution": {
     "iopub.execute_input": "2024-01-07T06:09:44.189443Z",
     "iopub.status.busy": "2024-01-07T06:09:44.188910Z",
     "iopub.status.idle": "2024-01-07T06:09:44.522621Z",
     "shell.execute_reply": "2024-01-07T06:09:44.521361Z"
    },
    "papermill": {
     "duration": 0.371776,
     "end_time": "2024-01-07T06:09:44.526070",
     "exception": false,
     "start_time": "2024-01-07T06:09:44.154294",
     "status": "completed"
    },
    "tags": []
   },
   "outputs": [],
   "source": [
    "df_test = pd.read_csv(\"/kaggle/input/playground-series-s4e1/test.csv\")"
   ]
  },
  {
   "cell_type": "code",
   "execution_count": 46,
   "id": "119bc0a8",
   "metadata": {
    "execution": {
     "iopub.execute_input": "2024-01-07T06:09:44.594544Z",
     "iopub.status.busy": "2024-01-07T06:09:44.594140Z",
     "iopub.status.idle": "2024-01-07T06:09:44.625401Z",
     "shell.execute_reply": "2024-01-07T06:09:44.623871Z"
    },
    "papermill": {
     "duration": 0.069105,
     "end_time": "2024-01-07T06:09:44.628964",
     "exception": false,
     "start_time": "2024-01-07T06:09:44.559859",
     "status": "completed"
    },
    "tags": []
   },
   "outputs": [
    {
     "name": "stdout",
     "output_type": "stream",
     "text": [
      "<class 'pandas.core.frame.DataFrame'>\n",
      "RangeIndex: 110023 entries, 0 to 110022\n",
      "Data columns (total 8 columns):\n",
      " #   Column           Non-Null Count   Dtype  \n",
      "---  ------           --------------   -----  \n",
      " 0   CreditScore      110023 non-null  int64  \n",
      " 1   Age              110023 non-null  float64\n",
      " 2   Tenure           110023 non-null  int64  \n",
      " 3   Balance          110023 non-null  float64\n",
      " 4   NumOfProducts    110023 non-null  int64  \n",
      " 5   HasCrCard        110023 non-null  float64\n",
      " 6   IsActiveMember   110023 non-null  float64\n",
      " 7   EstimatedSalary  110023 non-null  float64\n",
      "dtypes: float64(5), int64(3)\n",
      "memory usage: 6.7 MB\n",
      "None\n"
     ]
    },
    {
     "data": {
      "text/html": [
       "<div>\n",
       "<style scoped>\n",
       "    .dataframe tbody tr th:only-of-type {\n",
       "        vertical-align: middle;\n",
       "    }\n",
       "\n",
       "    .dataframe tbody tr th {\n",
       "        vertical-align: top;\n",
       "    }\n",
       "\n",
       "    .dataframe thead th {\n",
       "        text-align: right;\n",
       "    }\n",
       "</style>\n",
       "<table border=\"1\" class=\"dataframe\">\n",
       "  <thead>\n",
       "    <tr style=\"text-align: right;\">\n",
       "      <th></th>\n",
       "      <th>CreditScore</th>\n",
       "      <th>Age</th>\n",
       "      <th>Tenure</th>\n",
       "      <th>Balance</th>\n",
       "      <th>NumOfProducts</th>\n",
       "      <th>HasCrCard</th>\n",
       "      <th>IsActiveMember</th>\n",
       "      <th>EstimatedSalary</th>\n",
       "    </tr>\n",
       "  </thead>\n",
       "  <tbody>\n",
       "    <tr>\n",
       "      <th>0</th>\n",
       "      <td>586</td>\n",
       "      <td>23.0</td>\n",
       "      <td>2</td>\n",
       "      <td>0.00</td>\n",
       "      <td>2</td>\n",
       "      <td>0.0</td>\n",
       "      <td>1.0</td>\n",
       "      <td>160976.75</td>\n",
       "    </tr>\n",
       "    <tr>\n",
       "      <th>1</th>\n",
       "      <td>683</td>\n",
       "      <td>46.0</td>\n",
       "      <td>2</td>\n",
       "      <td>0.00</td>\n",
       "      <td>1</td>\n",
       "      <td>1.0</td>\n",
       "      <td>0.0</td>\n",
       "      <td>72549.27</td>\n",
       "    </tr>\n",
       "    <tr>\n",
       "      <th>2</th>\n",
       "      <td>656</td>\n",
       "      <td>34.0</td>\n",
       "      <td>7</td>\n",
       "      <td>0.00</td>\n",
       "      <td>2</td>\n",
       "      <td>1.0</td>\n",
       "      <td>0.0</td>\n",
       "      <td>138882.09</td>\n",
       "    </tr>\n",
       "    <tr>\n",
       "      <th>3</th>\n",
       "      <td>681</td>\n",
       "      <td>36.0</td>\n",
       "      <td>8</td>\n",
       "      <td>0.00</td>\n",
       "      <td>1</td>\n",
       "      <td>1.0</td>\n",
       "      <td>0.0</td>\n",
       "      <td>113931.57</td>\n",
       "    </tr>\n",
       "    <tr>\n",
       "      <th>4</th>\n",
       "      <td>752</td>\n",
       "      <td>38.0</td>\n",
       "      <td>10</td>\n",
       "      <td>121263.62</td>\n",
       "      <td>1</td>\n",
       "      <td>1.0</td>\n",
       "      <td>0.0</td>\n",
       "      <td>139431.00</td>\n",
       "    </tr>\n",
       "  </tbody>\n",
       "</table>\n",
       "</div>"
      ],
      "text/plain": [
       "   CreditScore   Age  Tenure    Balance  NumOfProducts  HasCrCard  \\\n",
       "0          586  23.0       2       0.00              2        0.0   \n",
       "1          683  46.0       2       0.00              1        1.0   \n",
       "2          656  34.0       7       0.00              2        1.0   \n",
       "3          681  36.0       8       0.00              1        1.0   \n",
       "4          752  38.0      10  121263.62              1        1.0   \n",
       "\n",
       "   IsActiveMember  EstimatedSalary  \n",
       "0             1.0        160976.75  \n",
       "1             0.0         72549.27  \n",
       "2             0.0        138882.09  \n",
       "3             0.0        113931.57  \n",
       "4             0.0        139431.00  "
      ]
     },
     "execution_count": 46,
     "metadata": {},
     "output_type": "execute_result"
    }
   ],
   "source": [
    "df_id = df_test[\"id\"]\n",
    "df_test.drop(columns = features_dropped, inplace=True)\n",
    "print(df_test.info())\n",
    "df_test.head()"
   ]
  },
  {
   "cell_type": "code",
   "execution_count": 47,
   "id": "9d85e7bb",
   "metadata": {
    "execution": {
     "iopub.execute_input": "2024-01-07T06:09:44.697195Z",
     "iopub.status.busy": "2024-01-07T06:09:44.696658Z",
     "iopub.status.idle": "2024-01-07T06:09:52.024380Z",
     "shell.execute_reply": "2024-01-07T06:09:52.023251Z"
    },
    "papermill": {
     "duration": 7.362921,
     "end_time": "2024-01-07T06:09:52.027117",
     "exception": false,
     "start_time": "2024-01-07T06:09:44.664196",
     "status": "completed"
    },
    "tags": []
   },
   "outputs": [
    {
     "name": "stdout",
     "output_type": "stream",
     "text": [
      "[0, 1, 1, 1, 1]\n"
     ]
    },
    {
     "data": {
      "text/html": [
       "<div>\n",
       "<style scoped>\n",
       "    .dataframe tbody tr th:only-of-type {\n",
       "        vertical-align: middle;\n",
       "    }\n",
       "\n",
       "    .dataframe tbody tr th {\n",
       "        vertical-align: top;\n",
       "    }\n",
       "\n",
       "    .dataframe thead th {\n",
       "        text-align: right;\n",
       "    }\n",
       "</style>\n",
       "<table border=\"1\" class=\"dataframe\">\n",
       "  <thead>\n",
       "    <tr style=\"text-align: right;\">\n",
       "      <th></th>\n",
       "      <th>CreditScore</th>\n",
       "      <th>Age</th>\n",
       "      <th>Tenure</th>\n",
       "      <th>Balance</th>\n",
       "      <th>NumOfProducts</th>\n",
       "      <th>HasCrCard</th>\n",
       "      <th>IsActiveMember</th>\n",
       "      <th>EstimatedSalary</th>\n",
       "    </tr>\n",
       "  </thead>\n",
       "  <tbody>\n",
       "    <tr>\n",
       "      <th>0</th>\n",
       "      <td>586</td>\n",
       "      <td>23.0</td>\n",
       "      <td>2</td>\n",
       "      <td>0.00</td>\n",
       "      <td>2</td>\n",
       "      <td>0.0</td>\n",
       "      <td>1.0</td>\n",
       "      <td>160976.75</td>\n",
       "    </tr>\n",
       "    <tr>\n",
       "      <th>1</th>\n",
       "      <td>683</td>\n",
       "      <td>46.0</td>\n",
       "      <td>2</td>\n",
       "      <td>0.00</td>\n",
       "      <td>1</td>\n",
       "      <td>1.0</td>\n",
       "      <td>0.0</td>\n",
       "      <td>72549.27</td>\n",
       "    </tr>\n",
       "    <tr>\n",
       "      <th>2</th>\n",
       "      <td>656</td>\n",
       "      <td>34.0</td>\n",
       "      <td>7</td>\n",
       "      <td>0.00</td>\n",
       "      <td>2</td>\n",
       "      <td>1.0</td>\n",
       "      <td>0.0</td>\n",
       "      <td>138882.09</td>\n",
       "    </tr>\n",
       "    <tr>\n",
       "      <th>3</th>\n",
       "      <td>681</td>\n",
       "      <td>36.0</td>\n",
       "      <td>8</td>\n",
       "      <td>0.00</td>\n",
       "      <td>1</td>\n",
       "      <td>1.0</td>\n",
       "      <td>0.0</td>\n",
       "      <td>113931.57</td>\n",
       "    </tr>\n",
       "    <tr>\n",
       "      <th>4</th>\n",
       "      <td>752</td>\n",
       "      <td>38.0</td>\n",
       "      <td>10</td>\n",
       "      <td>121263.62</td>\n",
       "      <td>1</td>\n",
       "      <td>1.0</td>\n",
       "      <td>0.0</td>\n",
       "      <td>139431.00</td>\n",
       "    </tr>\n",
       "  </tbody>\n",
       "</table>\n",
       "</div>"
      ],
      "text/plain": [
       "   CreditScore   Age  Tenure    Balance  NumOfProducts  HasCrCard  \\\n",
       "0          586  23.0       2       0.00              2        0.0   \n",
       "1          683  46.0       2       0.00              1        1.0   \n",
       "2          656  34.0       7       0.00              2        1.0   \n",
       "3          681  36.0       8       0.00              1        1.0   \n",
       "4          752  38.0      10  121263.62              1        1.0   \n",
       "\n",
       "   IsActiveMember  EstimatedSalary  \n",
       "0             1.0        160976.75  \n",
       "1             0.0         72549.27  \n",
       "2             0.0        138882.09  \n",
       "3             0.0        113931.57  \n",
       "4             0.0        139431.00  "
      ]
     },
     "execution_count": 47,
     "metadata": {},
     "output_type": "execute_result"
    }
   ],
   "source": [
    "#Making Age Categories\n",
    "age_list = []\n",
    "for i in range (df_test.shape[0]):\n",
    "    if df_test[\"Age\"].iloc[i]>=18 and df_test[\"Age\"].iloc[i]<32:\n",
    "        age_list.append(0)\n",
    "    elif df_test[\"Age\"].iloc[i]>=32 and df_test[\"Age\"].iloc[i]<47:\n",
    "        age_list.append(1)\n",
    "    else:\n",
    "        age_list.append(2)\n",
    "        \n",
    "print(age_list[:5])\n",
    "# df_test[\"Age\"] = age_list\n",
    "df_test.head()"
   ]
  },
  {
   "cell_type": "code",
   "execution_count": 48,
   "id": "d88d33b7",
   "metadata": {
    "execution": {
     "iopub.execute_input": "2024-01-07T06:09:52.089378Z",
     "iopub.status.busy": "2024-01-07T06:09:52.088748Z",
     "iopub.status.idle": "2024-01-07T06:09:52.421391Z",
     "shell.execute_reply": "2024-01-07T06:09:52.420284Z"
    },
    "papermill": {
     "duration": 0.366724,
     "end_time": "2024-01-07T06:09:52.424101",
     "exception": false,
     "start_time": "2024-01-07T06:09:52.057377",
     "status": "completed"
    },
    "tags": []
   },
   "outputs": [],
   "source": [
    "# predictions_lr = model_lr.predict_proba(df_test)[:,1]\n",
    "# predictions_rf = model_rf.predict_proba(df_test)[:,1]\n",
    "# predictions = (predictions_lr + predictions_rf)/2\n",
    "predictions = model_lgbm.predict_proba(df_test)[:,1]"
   ]
  },
  {
   "cell_type": "code",
   "execution_count": 49,
   "id": "d65a2829",
   "metadata": {
    "execution": {
     "iopub.execute_input": "2024-01-07T06:09:52.487460Z",
     "iopub.status.busy": "2024-01-07T06:09:52.486744Z",
     "iopub.status.idle": "2024-01-07T06:09:52.493581Z",
     "shell.execute_reply": "2024-01-07T06:09:52.492539Z"
    },
    "papermill": {
     "duration": 0.041037,
     "end_time": "2024-01-07T06:09:52.495885",
     "exception": false,
     "start_time": "2024-01-07T06:09:52.454848",
     "status": "completed"
    },
    "tags": []
   },
   "outputs": [
    {
     "data": {
      "text/plain": [
       "110023"
      ]
     },
     "execution_count": 49,
     "metadata": {},
     "output_type": "execute_result"
    }
   ],
   "source": [
    "len(predictions)"
   ]
  },
  {
   "cell_type": "code",
   "execution_count": 50,
   "id": "610f5db7",
   "metadata": {
    "execution": {
     "iopub.execute_input": "2024-01-07T06:09:52.558188Z",
     "iopub.status.busy": "2024-01-07T06:09:52.557431Z",
     "iopub.status.idle": "2024-01-07T06:09:52.570687Z",
     "shell.execute_reply": "2024-01-07T06:09:52.569410Z"
    },
    "papermill": {
     "duration": 0.047454,
     "end_time": "2024-01-07T06:09:52.573238",
     "exception": false,
     "start_time": "2024-01-07T06:09:52.525784",
     "status": "completed"
    },
    "tags": []
   },
   "outputs": [
    {
     "data": {
      "text/html": [
       "<div>\n",
       "<style scoped>\n",
       "    .dataframe tbody tr th:only-of-type {\n",
       "        vertical-align: middle;\n",
       "    }\n",
       "\n",
       "    .dataframe tbody tr th {\n",
       "        vertical-align: top;\n",
       "    }\n",
       "\n",
       "    .dataframe thead th {\n",
       "        text-align: right;\n",
       "    }\n",
       "</style>\n",
       "<table border=\"1\" class=\"dataframe\">\n",
       "  <thead>\n",
       "    <tr style=\"text-align: right;\">\n",
       "      <th></th>\n",
       "      <th>0</th>\n",
       "      <th>1</th>\n",
       "    </tr>\n",
       "  </thead>\n",
       "  <tbody>\n",
       "    <tr>\n",
       "      <th>0</th>\n",
       "      <td>165034</td>\n",
       "      <td>0.017587</td>\n",
       "    </tr>\n",
       "    <tr>\n",
       "      <th>1</th>\n",
       "      <td>165035</td>\n",
       "      <td>0.784287</td>\n",
       "    </tr>\n",
       "    <tr>\n",
       "      <th>2</th>\n",
       "      <td>165036</td>\n",
       "      <td>0.017205</td>\n",
       "    </tr>\n",
       "    <tr>\n",
       "      <th>3</th>\n",
       "      <td>165037</td>\n",
       "      <td>0.301271</td>\n",
       "    </tr>\n",
       "    <tr>\n",
       "      <th>4</th>\n",
       "      <td>165038</td>\n",
       "      <td>0.277746</td>\n",
       "    </tr>\n",
       "  </tbody>\n",
       "</table>\n",
       "</div>"
      ],
      "text/plain": [
       "        0         1\n",
       "0  165034  0.017587\n",
       "1  165035  0.784287\n",
       "2  165036  0.017205\n",
       "3  165037  0.301271\n",
       "4  165038  0.277746"
      ]
     },
     "execution_count": 50,
     "metadata": {},
     "output_type": "execute_result"
    }
   ],
   "source": [
    "submission = pd.concat([df_id, pd.DataFrame(predictions)], axis=1,ignore_index=True)\n",
    "submission.head()"
   ]
  },
  {
   "cell_type": "code",
   "execution_count": 51,
   "id": "78930d0b",
   "metadata": {
    "execution": {
     "iopub.execute_input": "2024-01-07T06:09:52.636828Z",
     "iopub.status.busy": "2024-01-07T06:09:52.636091Z",
     "iopub.status.idle": "2024-01-07T06:09:52.641561Z",
     "shell.execute_reply": "2024-01-07T06:09:52.640576Z"
    },
    "papermill": {
     "duration": 0.040479,
     "end_time": "2024-01-07T06:09:52.644040",
     "exception": false,
     "start_time": "2024-01-07T06:09:52.603561",
     "status": "completed"
    },
    "tags": []
   },
   "outputs": [],
   "source": [
    "submission.columns = [\"id\", \"Exited\"]"
   ]
  },
  {
   "cell_type": "code",
   "execution_count": 52,
   "id": "f5fc6da2",
   "metadata": {
    "execution": {
     "iopub.execute_input": "2024-01-07T06:09:52.708312Z",
     "iopub.status.busy": "2024-01-07T06:09:52.707614Z",
     "iopub.status.idle": "2024-01-07T06:09:53.199961Z",
     "shell.execute_reply": "2024-01-07T06:09:53.198661Z"
    },
    "papermill": {
     "duration": 0.527948,
     "end_time": "2024-01-07T06:09:53.202826",
     "exception": false,
     "start_time": "2024-01-07T06:09:52.674878",
     "status": "completed"
    },
    "tags": []
   },
   "outputs": [],
   "source": [
    "submission.to_csv(\"submission.csv\", index=False)"
   ]
  },
  {
   "cell_type": "code",
   "execution_count": null,
   "id": "60dd0e3b",
   "metadata": {
    "papermill": {
     "duration": 0.030583,
     "end_time": "2024-01-07T06:09:53.265363",
     "exception": false,
     "start_time": "2024-01-07T06:09:53.234780",
     "status": "completed"
    },
    "tags": []
   },
   "outputs": [],
   "source": []
  }
 ],
 "metadata": {
  "kaggle": {
   "accelerator": "none",
   "dataSources": [
    {
     "databundleVersionId": 7405009,
     "sourceId": 65711,
     "sourceType": "competition"
    },
    {
     "datasetId": 3191230,
     "sourceId": 5536933,
     "sourceType": "datasetVersion"
    }
   ],
   "dockerImageVersionId": 30626,
   "isGpuEnabled": false,
   "isInternetEnabled": true,
   "language": "python",
   "sourceType": "notebook"
  },
  "kernelspec": {
   "display_name": "Python 3",
   "language": "python",
   "name": "python3"
  },
  "language_info": {
   "codemirror_mode": {
    "name": "ipython",
    "version": 3
   },
   "file_extension": ".py",
   "mimetype": "text/x-python",
   "name": "python",
   "nbconvert_exporter": "python",
   "pygments_lexer": "ipython3",
   "version": "3.10.12"
  },
  "papermill": {
   "default_parameters": {},
   "duration": 191.211839,
   "end_time": "2024-01-07T06:09:54.322874",
   "environment_variables": {},
   "exception": null,
   "input_path": "__notebook__.ipynb",
   "output_path": "__notebook__.ipynb",
   "parameters": {},
   "start_time": "2024-01-07T06:06:43.111035",
   "version": "2.4.0"
  }
 },
 "nbformat": 4,
 "nbformat_minor": 5
}
