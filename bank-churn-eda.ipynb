{
 "cells": [
  {
   "cell_type": "code",
   "execution_count": 1,
   "id": "9618f20c",
   "metadata": {
    "_cell_guid": "b1076dfc-b9ad-4769-8c92-a6c4dae69d19",
    "_uuid": "8f2839f25d086af736a60e9eeb907d3b93b6e0e5",
    "execution": {
     "iopub.execute_input": "2024-01-07T00:39:46.667336Z",
     "iopub.status.busy": "2024-01-07T00:39:46.666958Z",
     "iopub.status.idle": "2024-01-07T00:39:46.972521Z",
     "shell.execute_reply": "2024-01-07T00:39:46.970583Z"
    },
    "papermill": {
     "duration": 0.319759,
     "end_time": "2024-01-07T00:39:46.974377",
     "exception": false,
     "start_time": "2024-01-07T00:39:46.654618",
     "status": "completed"
    },
    "tags": []
   },
   "outputs": [
    {
     "name": "stdout",
     "output_type": "stream",
     "text": [
      "/kaggle/input/bank-customer-churn-prediction/Churn_Modelling.csv\n",
      "/kaggle/input/playground-series-s4e1/sample_submission.csv\n",
      "/kaggle/input/playground-series-s4e1/train.csv\n",
      "/kaggle/input/playground-series-s4e1/test.csv\n"
     ]
    }
   ],
   "source": [
    "# This Python 3 environment comes with many helpful analytics libraries installed\n",
    "# It is defined by the kaggle/python Docker image: https://github.com/kaggle/docker-python\n",
    "# For example, here's several helpful packages to load\n",
    "\n",
    "import numpy as np # linear algebra\n",
    "import pandas as pd # data processing, CSV file I/O (e.g. pd.read_csv)\n",
    "\n",
    "# Input data files are available in the read-only \"../input/\" directory\n",
    "# For example, running this (by clicking run or pressing Shift+Enter) will list all files under the input directory\n",
    "\n",
    "import os\n",
    "for dirname, _, filenames in os.walk('/kaggle/input'):\n",
    "    for filename in filenames:\n",
    "        print(os.path.join(dirname, filename))\n",
    "\n",
    "# You can write up to 20GB to the current directory (/kaggle/working/) that gets preserved as output when you create a version using \"Save & Run All\" \n",
    "# You can also write temporary files to /kaggle/temp/, but they won't be saved outside of the current session"
   ]
  },
  {
   "cell_type": "markdown",
   "id": "785d306c",
   "metadata": {
    "papermill": {
     "duration": 0.009295,
     "end_time": "2024-01-07T00:39:46.993867",
     "exception": false,
     "start_time": "2024-01-07T00:39:46.984572",
     "status": "completed"
    },
    "tags": []
   },
   "source": [
    "## Importing libraries"
   ]
  },
  {
   "cell_type": "code",
   "execution_count": 2,
   "id": "bab48a0e",
   "metadata": {
    "execution": {
     "iopub.execute_input": "2024-01-07T00:39:47.015290Z",
     "iopub.status.busy": "2024-01-07T00:39:47.014594Z",
     "iopub.status.idle": "2024-01-07T00:39:48.320059Z",
     "shell.execute_reply": "2024-01-07T00:39:48.319313Z"
    },
    "papermill": {
     "duration": 1.319006,
     "end_time": "2024-01-07T00:39:48.322382",
     "exception": false,
     "start_time": "2024-01-07T00:39:47.003376",
     "status": "completed"
    },
    "tags": []
   },
   "outputs": [],
   "source": [
    "import seaborn as sns\n",
    "from sklearn.model_selection import train_test_split \n",
    "from sklearn.metrics import roc_auc_score, roc_curve\n",
    "from sklearn.linear_model import LogisticRegression\n",
    "from sklearn.pipeline import make_pipeline\n",
    "from sklearn.preprocessing import StandardScaler\n",
    "import matplotlib.pyplot as plt"
   ]
  },
  {
   "cell_type": "code",
   "execution_count": 3,
   "id": "bf999dc5",
   "metadata": {
    "execution": {
     "iopub.execute_input": "2024-01-07T00:39:48.344581Z",
     "iopub.status.busy": "2024-01-07T00:39:48.343998Z",
     "iopub.status.idle": "2024-01-07T00:39:48.645545Z",
     "shell.execute_reply": "2024-01-07T00:39:48.644564Z"
    },
    "papermill": {
     "duration": 0.315003,
     "end_time": "2024-01-07T00:39:48.647936",
     "exception": false,
     "start_time": "2024-01-07T00:39:48.332933",
     "status": "completed"
    },
    "tags": []
   },
   "outputs": [],
   "source": [
    "df_train = pd.read_csv(\"/kaggle/input/playground-series-s4e1/train.csv\")\n",
    "df_org = pd.read_csv(\"/kaggle/input/bank-customer-churn-prediction/Churn_Modelling.csv\")"
   ]
  },
  {
   "cell_type": "code",
   "execution_count": 4,
   "id": "aa770d3b",
   "metadata": {
    "execution": {
     "iopub.execute_input": "2024-01-07T00:39:48.669670Z",
     "iopub.status.busy": "2024-01-07T00:39:48.669358Z",
     "iopub.status.idle": "2024-01-07T00:39:48.724024Z",
     "shell.execute_reply": "2024-01-07T00:39:48.723196Z"
    },
    "papermill": {
     "duration": 0.067397,
     "end_time": "2024-01-07T00:39:48.725790",
     "exception": false,
     "start_time": "2024-01-07T00:39:48.658393",
     "status": "completed"
    },
    "tags": []
   },
   "outputs": [
    {
     "name": "stdout",
     "output_type": "stream",
     "text": [
      "<class 'pandas.core.frame.DataFrame'>\n",
      "RangeIndex: 165034 entries, 0 to 165033\n",
      "Data columns (total 14 columns):\n",
      " #   Column           Non-Null Count   Dtype  \n",
      "---  ------           --------------   -----  \n",
      " 0   id               165034 non-null  int64  \n",
      " 1   CustomerId       165034 non-null  int64  \n",
      " 2   Surname          165034 non-null  object \n",
      " 3   CreditScore      165034 non-null  int64  \n",
      " 4   Geography        165034 non-null  object \n",
      " 5   Gender           165034 non-null  object \n",
      " 6   Age              165034 non-null  float64\n",
      " 7   Tenure           165034 non-null  int64  \n",
      " 8   Balance          165034 non-null  float64\n",
      " 9   NumOfProducts    165034 non-null  int64  \n",
      " 10  HasCrCard        165034 non-null  float64\n",
      " 11  IsActiveMember   165034 non-null  float64\n",
      " 12  EstimatedSalary  165034 non-null  float64\n",
      " 13  Exited           165034 non-null  int64  \n",
      "dtypes: float64(5), int64(6), object(3)\n",
      "memory usage: 17.6+ MB\n",
      "None\n"
     ]
    },
    {
     "data": {
      "text/html": [
       "<div>\n",
       "<style scoped>\n",
       "    .dataframe tbody tr th:only-of-type {\n",
       "        vertical-align: middle;\n",
       "    }\n",
       "\n",
       "    .dataframe tbody tr th {\n",
       "        vertical-align: top;\n",
       "    }\n",
       "\n",
       "    .dataframe thead th {\n",
       "        text-align: right;\n",
       "    }\n",
       "</style>\n",
       "<table border=\"1\" class=\"dataframe\">\n",
       "  <thead>\n",
       "    <tr style=\"text-align: right;\">\n",
       "      <th></th>\n",
       "      <th>id</th>\n",
       "      <th>CustomerId</th>\n",
       "      <th>Surname</th>\n",
       "      <th>CreditScore</th>\n",
       "      <th>Geography</th>\n",
       "      <th>Gender</th>\n",
       "      <th>Age</th>\n",
       "      <th>Tenure</th>\n",
       "      <th>Balance</th>\n",
       "      <th>NumOfProducts</th>\n",
       "      <th>HasCrCard</th>\n",
       "      <th>IsActiveMember</th>\n",
       "      <th>EstimatedSalary</th>\n",
       "      <th>Exited</th>\n",
       "    </tr>\n",
       "  </thead>\n",
       "  <tbody>\n",
       "    <tr>\n",
       "      <th>0</th>\n",
       "      <td>0</td>\n",
       "      <td>15674932</td>\n",
       "      <td>Okwudilichukwu</td>\n",
       "      <td>668</td>\n",
       "      <td>France</td>\n",
       "      <td>Male</td>\n",
       "      <td>33.0</td>\n",
       "      <td>3</td>\n",
       "      <td>0.00</td>\n",
       "      <td>2</td>\n",
       "      <td>1.0</td>\n",
       "      <td>0.0</td>\n",
       "      <td>181449.97</td>\n",
       "      <td>0</td>\n",
       "    </tr>\n",
       "    <tr>\n",
       "      <th>1</th>\n",
       "      <td>1</td>\n",
       "      <td>15749177</td>\n",
       "      <td>Okwudiliolisa</td>\n",
       "      <td>627</td>\n",
       "      <td>France</td>\n",
       "      <td>Male</td>\n",
       "      <td>33.0</td>\n",
       "      <td>1</td>\n",
       "      <td>0.00</td>\n",
       "      <td>2</td>\n",
       "      <td>1.0</td>\n",
       "      <td>1.0</td>\n",
       "      <td>49503.50</td>\n",
       "      <td>0</td>\n",
       "    </tr>\n",
       "    <tr>\n",
       "      <th>2</th>\n",
       "      <td>2</td>\n",
       "      <td>15694510</td>\n",
       "      <td>Hsueh</td>\n",
       "      <td>678</td>\n",
       "      <td>France</td>\n",
       "      <td>Male</td>\n",
       "      <td>40.0</td>\n",
       "      <td>10</td>\n",
       "      <td>0.00</td>\n",
       "      <td>2</td>\n",
       "      <td>1.0</td>\n",
       "      <td>0.0</td>\n",
       "      <td>184866.69</td>\n",
       "      <td>0</td>\n",
       "    </tr>\n",
       "    <tr>\n",
       "      <th>3</th>\n",
       "      <td>3</td>\n",
       "      <td>15741417</td>\n",
       "      <td>Kao</td>\n",
       "      <td>581</td>\n",
       "      <td>France</td>\n",
       "      <td>Male</td>\n",
       "      <td>34.0</td>\n",
       "      <td>2</td>\n",
       "      <td>148882.54</td>\n",
       "      <td>1</td>\n",
       "      <td>1.0</td>\n",
       "      <td>1.0</td>\n",
       "      <td>84560.88</td>\n",
       "      <td>0</td>\n",
       "    </tr>\n",
       "    <tr>\n",
       "      <th>4</th>\n",
       "      <td>4</td>\n",
       "      <td>15766172</td>\n",
       "      <td>Chiemenam</td>\n",
       "      <td>716</td>\n",
       "      <td>Spain</td>\n",
       "      <td>Male</td>\n",
       "      <td>33.0</td>\n",
       "      <td>5</td>\n",
       "      <td>0.00</td>\n",
       "      <td>2</td>\n",
       "      <td>1.0</td>\n",
       "      <td>1.0</td>\n",
       "      <td>15068.83</td>\n",
       "      <td>0</td>\n",
       "    </tr>\n",
       "  </tbody>\n",
       "</table>\n",
       "</div>"
      ],
      "text/plain": [
       "   id  CustomerId         Surname  CreditScore Geography Gender   Age  Tenure  \\\n",
       "0   0    15674932  Okwudilichukwu          668    France   Male  33.0       3   \n",
       "1   1    15749177   Okwudiliolisa          627    France   Male  33.0       1   \n",
       "2   2    15694510           Hsueh          678    France   Male  40.0      10   \n",
       "3   3    15741417             Kao          581    France   Male  34.0       2   \n",
       "4   4    15766172       Chiemenam          716     Spain   Male  33.0       5   \n",
       "\n",
       "     Balance  NumOfProducts  HasCrCard  IsActiveMember  EstimatedSalary  \\\n",
       "0       0.00              2        1.0             0.0        181449.97   \n",
       "1       0.00              2        1.0             1.0         49503.50   \n",
       "2       0.00              2        1.0             0.0        184866.69   \n",
       "3  148882.54              1        1.0             1.0         84560.88   \n",
       "4       0.00              2        1.0             1.0         15068.83   \n",
       "\n",
       "   Exited  \n",
       "0       0  \n",
       "1       0  \n",
       "2       0  \n",
       "3       0  \n",
       "4       0  "
      ]
     },
     "execution_count": 4,
     "metadata": {},
     "output_type": "execute_result"
    }
   ],
   "source": [
    "print(df_train.info())\n",
    "df_train.head()"
   ]
  },
  {
   "cell_type": "code",
   "execution_count": 5,
   "id": "2b2845ff",
   "metadata": {
    "execution": {
     "iopub.execute_input": "2024-01-07T00:39:48.747722Z",
     "iopub.status.busy": "2024-01-07T00:39:48.747431Z",
     "iopub.status.idle": "2024-01-07T00:39:48.767486Z",
     "shell.execute_reply": "2024-01-07T00:39:48.766657Z"
    },
    "papermill": {
     "duration": 0.032988,
     "end_time": "2024-01-07T00:39:48.769117",
     "exception": false,
     "start_time": "2024-01-07T00:39:48.736129",
     "status": "completed"
    },
    "tags": []
   },
   "outputs": [
    {
     "name": "stdout",
     "output_type": "stream",
     "text": [
      "<class 'pandas.core.frame.DataFrame'>\n",
      "RangeIndex: 10002 entries, 0 to 10001\n",
      "Data columns (total 14 columns):\n",
      " #   Column           Non-Null Count  Dtype  \n",
      "---  ------           --------------  -----  \n",
      " 0   RowNumber        10002 non-null  int64  \n",
      " 1   CustomerId       10002 non-null  int64  \n",
      " 2   Surname          10002 non-null  object \n",
      " 3   CreditScore      10002 non-null  int64  \n",
      " 4   Geography        10001 non-null  object \n",
      " 5   Gender           10002 non-null  object \n",
      " 6   Age              10001 non-null  float64\n",
      " 7   Tenure           10002 non-null  int64  \n",
      " 8   Balance          10002 non-null  float64\n",
      " 9   NumOfProducts    10002 non-null  int64  \n",
      " 10  HasCrCard        10001 non-null  float64\n",
      " 11  IsActiveMember   10001 non-null  float64\n",
      " 12  EstimatedSalary  10002 non-null  float64\n",
      " 13  Exited           10002 non-null  int64  \n",
      "dtypes: float64(5), int64(6), object(3)\n",
      "memory usage: 1.1+ MB\n",
      "None\n"
     ]
    },
    {
     "data": {
      "text/html": [
       "<div>\n",
       "<style scoped>\n",
       "    .dataframe tbody tr th:only-of-type {\n",
       "        vertical-align: middle;\n",
       "    }\n",
       "\n",
       "    .dataframe tbody tr th {\n",
       "        vertical-align: top;\n",
       "    }\n",
       "\n",
       "    .dataframe thead th {\n",
       "        text-align: right;\n",
       "    }\n",
       "</style>\n",
       "<table border=\"1\" class=\"dataframe\">\n",
       "  <thead>\n",
       "    <tr style=\"text-align: right;\">\n",
       "      <th></th>\n",
       "      <th>RowNumber</th>\n",
       "      <th>CustomerId</th>\n",
       "      <th>Surname</th>\n",
       "      <th>CreditScore</th>\n",
       "      <th>Geography</th>\n",
       "      <th>Gender</th>\n",
       "      <th>Age</th>\n",
       "      <th>Tenure</th>\n",
       "      <th>Balance</th>\n",
       "      <th>NumOfProducts</th>\n",
       "      <th>HasCrCard</th>\n",
       "      <th>IsActiveMember</th>\n",
       "      <th>EstimatedSalary</th>\n",
       "      <th>Exited</th>\n",
       "    </tr>\n",
       "  </thead>\n",
       "  <tbody>\n",
       "    <tr>\n",
       "      <th>0</th>\n",
       "      <td>1</td>\n",
       "      <td>15634602</td>\n",
       "      <td>Hargrave</td>\n",
       "      <td>619</td>\n",
       "      <td>France</td>\n",
       "      <td>Female</td>\n",
       "      <td>42.0</td>\n",
       "      <td>2</td>\n",
       "      <td>0.00</td>\n",
       "      <td>1</td>\n",
       "      <td>1.0</td>\n",
       "      <td>1.0</td>\n",
       "      <td>101348.88</td>\n",
       "      <td>1</td>\n",
       "    </tr>\n",
       "    <tr>\n",
       "      <th>1</th>\n",
       "      <td>2</td>\n",
       "      <td>15647311</td>\n",
       "      <td>Hill</td>\n",
       "      <td>608</td>\n",
       "      <td>Spain</td>\n",
       "      <td>Female</td>\n",
       "      <td>41.0</td>\n",
       "      <td>1</td>\n",
       "      <td>83807.86</td>\n",
       "      <td>1</td>\n",
       "      <td>0.0</td>\n",
       "      <td>1.0</td>\n",
       "      <td>112542.58</td>\n",
       "      <td>0</td>\n",
       "    </tr>\n",
       "    <tr>\n",
       "      <th>2</th>\n",
       "      <td>3</td>\n",
       "      <td>15619304</td>\n",
       "      <td>Onio</td>\n",
       "      <td>502</td>\n",
       "      <td>France</td>\n",
       "      <td>Female</td>\n",
       "      <td>42.0</td>\n",
       "      <td>8</td>\n",
       "      <td>159660.80</td>\n",
       "      <td>3</td>\n",
       "      <td>1.0</td>\n",
       "      <td>0.0</td>\n",
       "      <td>113931.57</td>\n",
       "      <td>1</td>\n",
       "    </tr>\n",
       "    <tr>\n",
       "      <th>3</th>\n",
       "      <td>4</td>\n",
       "      <td>15701354</td>\n",
       "      <td>Boni</td>\n",
       "      <td>699</td>\n",
       "      <td>France</td>\n",
       "      <td>Female</td>\n",
       "      <td>39.0</td>\n",
       "      <td>1</td>\n",
       "      <td>0.00</td>\n",
       "      <td>2</td>\n",
       "      <td>0.0</td>\n",
       "      <td>0.0</td>\n",
       "      <td>93826.63</td>\n",
       "      <td>0</td>\n",
       "    </tr>\n",
       "    <tr>\n",
       "      <th>4</th>\n",
       "      <td>5</td>\n",
       "      <td>15737888</td>\n",
       "      <td>Mitchell</td>\n",
       "      <td>850</td>\n",
       "      <td>Spain</td>\n",
       "      <td>Female</td>\n",
       "      <td>43.0</td>\n",
       "      <td>2</td>\n",
       "      <td>125510.82</td>\n",
       "      <td>1</td>\n",
       "      <td>NaN</td>\n",
       "      <td>1.0</td>\n",
       "      <td>79084.10</td>\n",
       "      <td>0</td>\n",
       "    </tr>\n",
       "  </tbody>\n",
       "</table>\n",
       "</div>"
      ],
      "text/plain": [
       "   RowNumber  CustomerId   Surname  CreditScore Geography  Gender   Age  \\\n",
       "0          1    15634602  Hargrave          619    France  Female  42.0   \n",
       "1          2    15647311      Hill          608     Spain  Female  41.0   \n",
       "2          3    15619304      Onio          502    France  Female  42.0   \n",
       "3          4    15701354      Boni          699    France  Female  39.0   \n",
       "4          5    15737888  Mitchell          850     Spain  Female  43.0   \n",
       "\n",
       "   Tenure    Balance  NumOfProducts  HasCrCard  IsActiveMember  \\\n",
       "0       2       0.00              1        1.0             1.0   \n",
       "1       1   83807.86              1        0.0             1.0   \n",
       "2       8  159660.80              3        1.0             0.0   \n",
       "3       1       0.00              2        0.0             0.0   \n",
       "4       2  125510.82              1        NaN             1.0   \n",
       "\n",
       "   EstimatedSalary  Exited  \n",
       "0        101348.88       1  \n",
       "1        112542.58       0  \n",
       "2        113931.57       1  \n",
       "3         93826.63       0  \n",
       "4         79084.10       0  "
      ]
     },
     "execution_count": 5,
     "metadata": {},
     "output_type": "execute_result"
    }
   ],
   "source": [
    "print(df_org.info())\n",
    "df_org.head()"
   ]
  },
  {
   "cell_type": "code",
   "execution_count": 6,
   "id": "9c7f9cf0",
   "metadata": {
    "execution": {
     "iopub.execute_input": "2024-01-07T00:39:48.791534Z",
     "iopub.status.busy": "2024-01-07T00:39:48.791231Z",
     "iopub.status.idle": "2024-01-07T00:39:48.804295Z",
     "shell.execute_reply": "2024-01-07T00:39:48.803574Z"
    },
    "papermill": {
     "duration": 0.026976,
     "end_time": "2024-01-07T00:39:48.806814",
     "exception": false,
     "start_time": "2024-01-07T00:39:48.779838",
     "status": "completed"
    },
    "tags": []
   },
   "outputs": [],
   "source": [
    "df_org.drop(columns=[\"RowNumber\"], inplace=True)\n",
    "df_train.drop(columns=[\"id\"], inplace=True)"
   ]
  },
  {
   "cell_type": "markdown",
   "id": "b15feafc",
   "metadata": {
    "papermill": {
     "duration": 0.010089,
     "end_time": "2024-01-07T00:39:48.828401",
     "exception": false,
     "start_time": "2024-01-07T00:39:48.818312",
     "status": "completed"
    },
    "tags": []
   },
   "source": [
    "#### Filling the Null value present in \"HasCrCard\""
   ]
  },
  {
   "cell_type": "code",
   "execution_count": 7,
   "id": "28014796",
   "metadata": {
    "execution": {
     "iopub.execute_input": "2024-01-07T00:39:48.850643Z",
     "iopub.status.busy": "2024-01-07T00:39:48.850209Z",
     "iopub.status.idle": "2024-01-07T00:39:48.863552Z",
     "shell.execute_reply": "2024-01-07T00:39:48.862429Z"
    },
    "papermill": {
     "duration": 0.02691,
     "end_time": "2024-01-07T00:39:48.865512",
     "exception": false,
     "start_time": "2024-01-07T00:39:48.838602",
     "status": "completed"
    },
    "tags": []
   },
   "outputs": [
    {
     "name": "stdout",
     "output_type": "stream",
     "text": [
      "Peope who exited and DONT own a credit card 0.292817679558011\n",
      "Peope who exited and OWN a credit card 0.7070567553992968\n"
     ]
    }
   ],
   "source": [
    "print(\"Peope who exited and DONT own a credit card\",(df_org[(df_org[\"Exited\"]==0) & (df_org[\"HasCrCard\"]==0)].shape[0] / df_org[df_org[\"Exited\"]==0].shape[0]))\n",
    "print(\"Peope who exited and OWN a credit card\",(df_org[(df_org[\"Exited\"]==0) & (df_org[\"HasCrCard\"]==1)].shape[0] / df_org[df_org[\"Exited\"]==0].shape[0]))"
   ]
  },
  {
   "cell_type": "code",
   "execution_count": 8,
   "id": "103afa14",
   "metadata": {
    "execution": {
     "iopub.execute_input": "2024-01-07T00:39:48.888829Z",
     "iopub.status.busy": "2024-01-07T00:39:48.888514Z",
     "iopub.status.idle": "2024-01-07T00:39:48.898289Z",
     "shell.execute_reply": "2024-01-07T00:39:48.897297Z"
    },
    "papermill": {
     "duration": 0.02293,
     "end_time": "2024-01-07T00:39:48.900024",
     "exception": false,
     "start_time": "2024-01-07T00:39:48.877094",
     "status": "completed"
    },
    "tags": []
   },
   "outputs": [
    {
     "data": {
      "text/plain": [
       "0        1.0\n",
       "1        0.0\n",
       "2        1.0\n",
       "3        0.0\n",
       "4        1.0\n",
       "        ... \n",
       "9997     0.0\n",
       "9998     1.0\n",
       "9999     1.0\n",
       "10000    1.0\n",
       "10001    1.0\n",
       "Name: HasCrCard, Length: 10002, dtype: float64"
      ]
     },
     "execution_count": 8,
     "metadata": {},
     "output_type": "execute_result"
    }
   ],
   "source": [
    "df_org[\"HasCrCard\"].fillna(1.0)"
   ]
  },
  {
   "cell_type": "code",
   "execution_count": 9,
   "id": "98612f4c",
   "metadata": {
    "execution": {
     "iopub.execute_input": "2024-01-07T00:39:48.925148Z",
     "iopub.status.busy": "2024-01-07T00:39:48.924761Z",
     "iopub.status.idle": "2024-01-07T00:39:48.938848Z",
     "shell.execute_reply": "2024-01-07T00:39:48.937707Z"
    },
    "papermill": {
     "duration": 0.029996,
     "end_time": "2024-01-07T00:39:48.940740",
     "exception": false,
     "start_time": "2024-01-07T00:39:48.910744",
     "status": "completed"
    },
    "tags": []
   },
   "outputs": [
    {
     "name": "stdout",
     "output_type": "stream",
     "text": [
      "<class 'pandas.core.frame.DataFrame'>\n",
      "Index: 9998 entries, 0 to 10001\n",
      "Data columns (total 13 columns):\n",
      " #   Column           Non-Null Count  Dtype  \n",
      "---  ------           --------------  -----  \n",
      " 0   CustomerId       9998 non-null   int64  \n",
      " 1   Surname          9998 non-null   object \n",
      " 2   CreditScore      9998 non-null   int64  \n",
      " 3   Geography        9998 non-null   object \n",
      " 4   Gender           9998 non-null   object \n",
      " 5   Age              9998 non-null   float64\n",
      " 6   Tenure           9998 non-null   int64  \n",
      " 7   Balance          9998 non-null   float64\n",
      " 8   NumOfProducts    9998 non-null   int64  \n",
      " 9   HasCrCard        9998 non-null   float64\n",
      " 10  IsActiveMember   9998 non-null   float64\n",
      " 11  EstimatedSalary  9998 non-null   float64\n",
      " 12  Exited           9998 non-null   int64  \n",
      "dtypes: float64(5), int64(5), object(3)\n",
      "memory usage: 1.1+ MB\n"
     ]
    }
   ],
   "source": [
    "df_org.dropna(inplace=True)\n",
    "df_org.info()"
   ]
  },
  {
   "cell_type": "code",
   "execution_count": 10,
   "id": "d4c64af4",
   "metadata": {
    "execution": {
     "iopub.execute_input": "2024-01-07T00:39:49.031687Z",
     "iopub.status.busy": "2024-01-07T00:39:49.031293Z",
     "iopub.status.idle": "2024-01-07T00:39:49.054329Z",
     "shell.execute_reply": "2024-01-07T00:39:49.052992Z"
    },
    "papermill": {
     "duration": 0.037062,
     "end_time": "2024-01-07T00:39:49.056259",
     "exception": false,
     "start_time": "2024-01-07T00:39:49.019197",
     "status": "completed"
    },
    "tags": []
   },
   "outputs": [
    {
     "data": {
      "text/plain": [
       "(175032, 13)"
      ]
     },
     "execution_count": 10,
     "metadata": {},
     "output_type": "execute_result"
    }
   ],
   "source": [
    "#clean original data\n",
    "#concatenate the datasets\n",
    "df = pd.concat([df_train, df_org], ignore_index=False)\n",
    "df.shape"
   ]
  },
  {
   "cell_type": "code",
   "execution_count": 11,
   "id": "c8ff28b5",
   "metadata": {
    "execution": {
     "iopub.execute_input": "2024-01-07T00:39:49.080102Z",
     "iopub.status.busy": "2024-01-07T00:39:49.079644Z",
     "iopub.status.idle": "2024-01-07T00:39:49.094634Z",
     "shell.execute_reply": "2024-01-07T00:39:49.093889Z"
    },
    "papermill": {
     "duration": 0.028581,
     "end_time": "2024-01-07T00:39:49.096282",
     "exception": false,
     "start_time": "2024-01-07T00:39:49.067701",
     "status": "completed"
    },
    "tags": []
   },
   "outputs": [
    {
     "data": {
      "text/html": [
       "<div>\n",
       "<style scoped>\n",
       "    .dataframe tbody tr th:only-of-type {\n",
       "        vertical-align: middle;\n",
       "    }\n",
       "\n",
       "    .dataframe tbody tr th {\n",
       "        vertical-align: top;\n",
       "    }\n",
       "\n",
       "    .dataframe thead th {\n",
       "        text-align: right;\n",
       "    }\n",
       "</style>\n",
       "<table border=\"1\" class=\"dataframe\">\n",
       "  <thead>\n",
       "    <tr style=\"text-align: right;\">\n",
       "      <th></th>\n",
       "      <th>CustomerId</th>\n",
       "      <th>Surname</th>\n",
       "      <th>CreditScore</th>\n",
       "      <th>Geography</th>\n",
       "      <th>Gender</th>\n",
       "      <th>Age</th>\n",
       "      <th>Tenure</th>\n",
       "      <th>Balance</th>\n",
       "      <th>NumOfProducts</th>\n",
       "      <th>HasCrCard</th>\n",
       "      <th>IsActiveMember</th>\n",
       "      <th>EstimatedSalary</th>\n",
       "      <th>Exited</th>\n",
       "    </tr>\n",
       "  </thead>\n",
       "  <tbody>\n",
       "    <tr>\n",
       "      <th>0</th>\n",
       "      <td>15674932</td>\n",
       "      <td>Okwudilichukwu</td>\n",
       "      <td>668</td>\n",
       "      <td>France</td>\n",
       "      <td>Male</td>\n",
       "      <td>33.0</td>\n",
       "      <td>3</td>\n",
       "      <td>0.00</td>\n",
       "      <td>2</td>\n",
       "      <td>1.0</td>\n",
       "      <td>0.0</td>\n",
       "      <td>181449.97</td>\n",
       "      <td>0</td>\n",
       "    </tr>\n",
       "    <tr>\n",
       "      <th>1</th>\n",
       "      <td>15749177</td>\n",
       "      <td>Okwudiliolisa</td>\n",
       "      <td>627</td>\n",
       "      <td>France</td>\n",
       "      <td>Male</td>\n",
       "      <td>33.0</td>\n",
       "      <td>1</td>\n",
       "      <td>0.00</td>\n",
       "      <td>2</td>\n",
       "      <td>1.0</td>\n",
       "      <td>1.0</td>\n",
       "      <td>49503.50</td>\n",
       "      <td>0</td>\n",
       "    </tr>\n",
       "    <tr>\n",
       "      <th>2</th>\n",
       "      <td>15694510</td>\n",
       "      <td>Hsueh</td>\n",
       "      <td>678</td>\n",
       "      <td>France</td>\n",
       "      <td>Male</td>\n",
       "      <td>40.0</td>\n",
       "      <td>10</td>\n",
       "      <td>0.00</td>\n",
       "      <td>2</td>\n",
       "      <td>1.0</td>\n",
       "      <td>0.0</td>\n",
       "      <td>184866.69</td>\n",
       "      <td>0</td>\n",
       "    </tr>\n",
       "    <tr>\n",
       "      <th>3</th>\n",
       "      <td>15741417</td>\n",
       "      <td>Kao</td>\n",
       "      <td>581</td>\n",
       "      <td>France</td>\n",
       "      <td>Male</td>\n",
       "      <td>34.0</td>\n",
       "      <td>2</td>\n",
       "      <td>148882.54</td>\n",
       "      <td>1</td>\n",
       "      <td>1.0</td>\n",
       "      <td>1.0</td>\n",
       "      <td>84560.88</td>\n",
       "      <td>0</td>\n",
       "    </tr>\n",
       "    <tr>\n",
       "      <th>4</th>\n",
       "      <td>15766172</td>\n",
       "      <td>Chiemenam</td>\n",
       "      <td>716</td>\n",
       "      <td>Spain</td>\n",
       "      <td>Male</td>\n",
       "      <td>33.0</td>\n",
       "      <td>5</td>\n",
       "      <td>0.00</td>\n",
       "      <td>2</td>\n",
       "      <td>1.0</td>\n",
       "      <td>1.0</td>\n",
       "      <td>15068.83</td>\n",
       "      <td>0</td>\n",
       "    </tr>\n",
       "  </tbody>\n",
       "</table>\n",
       "</div>"
      ],
      "text/plain": [
       "   CustomerId         Surname  CreditScore Geography Gender   Age  Tenure  \\\n",
       "0    15674932  Okwudilichukwu          668    France   Male  33.0       3   \n",
       "1    15749177   Okwudiliolisa          627    France   Male  33.0       1   \n",
       "2    15694510           Hsueh          678    France   Male  40.0      10   \n",
       "3    15741417             Kao          581    France   Male  34.0       2   \n",
       "4    15766172       Chiemenam          716     Spain   Male  33.0       5   \n",
       "\n",
       "     Balance  NumOfProducts  HasCrCard  IsActiveMember  EstimatedSalary  \\\n",
       "0       0.00              2        1.0             0.0        181449.97   \n",
       "1       0.00              2        1.0             1.0         49503.50   \n",
       "2       0.00              2        1.0             0.0        184866.69   \n",
       "3  148882.54              1        1.0             1.0         84560.88   \n",
       "4       0.00              2        1.0             1.0         15068.83   \n",
       "\n",
       "   Exited  \n",
       "0       0  \n",
       "1       0  \n",
       "2       0  \n",
       "3       0  \n",
       "4       0  "
      ]
     },
     "execution_count": 11,
     "metadata": {},
     "output_type": "execute_result"
    }
   ],
   "source": [
    "df.head()"
   ]
  },
  {
   "cell_type": "code",
   "execution_count": 12,
   "id": "5d34f3ea",
   "metadata": {
    "execution": {
     "iopub.execute_input": "2024-01-07T00:39:49.118664Z",
     "iopub.status.busy": "2024-01-07T00:39:49.118455Z",
     "iopub.status.idle": "2024-01-07T00:39:49.170645Z",
     "shell.execute_reply": "2024-01-07T00:39:49.169861Z"
    },
    "papermill": {
     "duration": 0.065149,
     "end_time": "2024-01-07T00:39:49.172127",
     "exception": false,
     "start_time": "2024-01-07T00:39:49.106978",
     "status": "completed"
    },
    "tags": []
   },
   "outputs": [
    {
     "data": {
      "text/plain": [
       "Surname      2932\n",
       "Geography       3\n",
       "Gender          2\n",
       "dtype: int64"
      ]
     },
     "execution_count": 12,
     "metadata": {},
     "output_type": "execute_result"
    }
   ],
   "source": [
    "df.select_dtypes(\"object\").nunique()"
   ]
  },
  {
   "cell_type": "markdown",
   "id": "8752f242",
   "metadata": {
    "papermill": {
     "duration": 0.010656,
     "end_time": "2024-01-07T00:39:49.194322",
     "exception": false,
     "start_time": "2024-01-07T00:39:49.183666",
     "status": "completed"
    },
    "tags": []
   },
   "source": [
    "### EDA on gender"
   ]
  },
  {
   "cell_type": "code",
   "execution_count": 13,
   "id": "ea485930",
   "metadata": {
    "execution": {
     "iopub.execute_input": "2024-01-07T00:39:49.217810Z",
     "iopub.status.busy": "2024-01-07T00:39:49.217415Z",
     "iopub.status.idle": "2024-01-07T00:39:49.264721Z",
     "shell.execute_reply": "2024-01-07T00:39:49.263981Z"
    },
    "papermill": {
     "duration": 0.061162,
     "end_time": "2024-01-07T00:39:49.266423",
     "exception": false,
     "start_time": "2024-01-07T00:39:49.205261",
     "status": "completed"
    },
    "tags": []
   },
   "outputs": [
    {
     "name": "stdout",
     "output_type": "stream",
     "text": [
      "Percentage of females :  43.66458704693999\n",
      "Percentage of males :  56.335412953060015\n"
     ]
    }
   ],
   "source": [
    "females = (df[df[\"Gender\"] == \"Female\"].shape[0]/df.shape[0])*100\n",
    "print(\"Percentage of females : \", females)\n",
    "males = (df[df[\"Gender\"] == \"Male\"].shape[0]/df.shape[0])*100\n",
    "print(\"Percentage of males : \", males)"
   ]
  },
  {
   "cell_type": "code",
   "execution_count": 14,
   "id": "4ee5e5ae",
   "metadata": {
    "execution": {
     "iopub.execute_input": "2024-01-07T00:39:49.290680Z",
     "iopub.status.busy": "2024-01-07T00:39:49.290316Z",
     "iopub.status.idle": "2024-01-07T00:39:49.335127Z",
     "shell.execute_reply": "2024-01-07T00:39:49.334119Z"
    },
    "papermill": {
     "duration": 0.059481,
     "end_time": "2024-01-07T00:39:49.336980",
     "exception": false,
     "start_time": "2024-01-07T00:39:49.277499",
     "status": "completed"
    },
    "tags": []
   },
   "outputs": [
    {
     "name": "stdout",
     "output_type": "stream",
     "text": [
      "76427\n",
      "98605\n"
     ]
    }
   ],
   "source": [
    "print(df[df[\"Gender\"]==\"Female\"].shape[0])\n",
    "print(df[df[\"Gender\"]==\"Male\"].shape[0])"
   ]
  },
  {
   "cell_type": "code",
   "execution_count": 15,
   "id": "017cde7d",
   "metadata": {
    "execution": {
     "iopub.execute_input": "2024-01-07T00:39:49.360735Z",
     "iopub.status.busy": "2024-01-07T00:39:49.359765Z",
     "iopub.status.idle": "2024-01-07T00:39:49.437320Z",
     "shell.execute_reply": "2024-01-07T00:39:49.436513Z"
    },
    "papermill": {
     "duration": 0.091251,
     "end_time": "2024-01-07T00:39:49.439201",
     "exception": false,
     "start_time": "2024-01-07T00:39:49.347950",
     "status": "completed"
    },
    "tags": []
   },
   "outputs": [
    {
     "name": "stdout",
     "output_type": "stream",
     "text": [
      "27.79645936645426\n",
      "15.937325693423254\n"
     ]
    }
   ],
   "source": [
    "print((df[(df[\"Gender\"]==\"Female\") & (df[\"Exited\"]==1)].shape[0] / (df[df[\"Gender\"]==\"Female\"].shape[0]))*100)\n",
    "print((df[(df[\"Gender\"]==\"Male\") & (df[\"Exited\"]==1)].shape[0] / (df[df[\"Gender\"]==\"Male\"].shape[0]))*100)"
   ]
  },
  {
   "cell_type": "markdown",
   "id": "7119bdc8",
   "metadata": {
    "papermill": {
     "duration": 0.010757,
     "end_time": "2024-01-07T00:39:49.461744",
     "exception": false,
     "start_time": "2024-01-07T00:39:49.450987",
     "status": "completed"
    },
    "tags": []
   },
   "source": [
    "### EDA on geography"
   ]
  },
  {
   "cell_type": "code",
   "execution_count": 16,
   "id": "1f92fa6c",
   "metadata": {
    "execution": {
     "iopub.execute_input": "2024-01-07T00:39:49.485928Z",
     "iopub.status.busy": "2024-01-07T00:39:49.485506Z",
     "iopub.status.idle": "2024-01-07T00:39:49.501711Z",
     "shell.execute_reply": "2024-01-07T00:39:49.500828Z"
    },
    "papermill": {
     "duration": 0.030714,
     "end_time": "2024-01-07T00:39:49.503443",
     "exception": false,
     "start_time": "2024-01-07T00:39:49.472729",
     "status": "completed"
    },
    "tags": []
   },
   "outputs": [
    {
     "data": {
      "text/plain": [
       "array(['France', 'Spain', 'Germany'], dtype=object)"
      ]
     },
     "execution_count": 16,
     "metadata": {},
     "output_type": "execute_result"
    }
   ],
   "source": [
    "df[\"Geography\"].unique()"
   ]
  },
  {
   "cell_type": "code",
   "execution_count": 17,
   "id": "e8ed94b5",
   "metadata": {
    "execution": {
     "iopub.execute_input": "2024-01-07T00:39:49.528678Z",
     "iopub.status.busy": "2024-01-07T00:39:49.528425Z",
     "iopub.status.idle": "2024-01-07T00:39:49.559131Z",
     "shell.execute_reply": "2024-01-07T00:39:49.558180Z"
    },
    "papermill": {
     "duration": 0.045119,
     "end_time": "2024-01-07T00:39:49.560822",
     "exception": false,
     "start_time": "2024-01-07T00:39:49.515703",
     "status": "completed"
    },
    "tags": []
   },
   "outputs": [
    {
     "name": "stdout",
     "output_type": "stream",
     "text": [
      "France_people:  99227\n",
      "France_people exited:  16382\n",
      "Percentage of France_people exited:  16.509619357634513\n"
     ]
    }
   ],
   "source": [
    "# Total people in france and how many exited\n",
    "france = df[\"Geography\"] == \"France\"\n",
    "exit = df[\"Exited\"] == 1\n",
    "\n",
    "France_people = df[france].shape[0]\n",
    "France_people_exited = df[france & exit].shape[0]\n",
    "\n",
    "print(\"France_people: \",France_people)\n",
    "print(\"France_people exited: \",France_people_exited)\n",
    "print(\"Percentage of France_people exited: \", (France_people_exited/France_people)*100)"
   ]
  },
  {
   "cell_type": "code",
   "execution_count": 18,
   "id": "1d7b4b19",
   "metadata": {
    "execution": {
     "iopub.execute_input": "2024-01-07T00:39:49.586911Z",
     "iopub.status.busy": "2024-01-07T00:39:49.586498Z",
     "iopub.status.idle": "2024-01-07T00:39:49.615956Z",
     "shell.execute_reply": "2024-01-07T00:39:49.615035Z"
    },
    "papermill": {
     "duration": 0.04487,
     "end_time": "2024-01-07T00:39:49.618167",
     "exception": false,
     "start_time": "2024-01-07T00:39:49.573297",
     "status": "completed"
    },
    "tags": []
   },
   "outputs": [
    {
     "name": "stdout",
     "output_type": "stream",
     "text": [
      "spain_people:  38689\n",
      "spain_people exited:  6648\n",
      "Percentage of spain_people exited:  17.183178681278914\n"
     ]
    }
   ],
   "source": [
    "# Total people in Spain and how many exited\n",
    "spain = df[\"Geography\"] == \"Spain\"\n",
    "exit = df[\"Exited\"] == 1\n",
    "\n",
    "spain_people = df[spain].shape[0]\n",
    "spain_people_exited = df[spain & exit].shape[0]\n",
    "\n",
    "print(\"spain_people: \",spain_people)\n",
    "print(\"spain_people exited: \",spain_people_exited)\n",
    "print(\"Percentage of spain_people exited: \", (spain_people_exited/spain_people)*100)"
   ]
  },
  {
   "cell_type": "code",
   "execution_count": 19,
   "id": "221f861e",
   "metadata": {
    "execution": {
     "iopub.execute_input": "2024-01-07T00:39:49.643401Z",
     "iopub.status.busy": "2024-01-07T00:39:49.642989Z",
     "iopub.status.idle": "2024-01-07T00:39:49.669765Z",
     "shell.execute_reply": "2024-01-07T00:39:49.668608Z"
    },
    "papermill": {
     "duration": 0.041233,
     "end_time": "2024-01-07T00:39:49.671528",
     "exception": false,
     "start_time": "2024-01-07T00:39:49.630295",
     "status": "completed"
    },
    "tags": []
   },
   "outputs": [
    {
     "name": "stdout",
     "output_type": "stream",
     "text": [
      "Germany_people:  37116\n",
      "Germany_people exited:  13929\n",
      "Percentage of Germany_people exited:  37.528289686388625\n"
     ]
    }
   ],
   "source": [
    "# Total people in Spain and how many exited\n",
    "Germany = df[\"Geography\"] == \"Germany\"\n",
    "exit = df[\"Exited\"] == 1\n",
    "\n",
    "Germany_people = df[Germany].shape[0]\n",
    "Germany_people_exited = df[Germany & exit].shape[0]\n",
    "\n",
    "print(\"Germany_people: \",Germany_people)\n",
    "print(\"Germany_people exited: \",Germany_people_exited)\n",
    "print(\"Percentage of Germany_people exited: \", (Germany_people_exited/Germany_people)*100)"
   ]
  },
  {
   "cell_type": "markdown",
   "id": "3b56f13a",
   "metadata": {
    "papermill": {
     "duration": 0.011516,
     "end_time": "2024-01-07T00:39:49.695293",
     "exception": false,
     "start_time": "2024-01-07T00:39:49.683777",
     "status": "completed"
    },
    "tags": []
   },
   "source": [
    "### Not a very significant feature so we will drop it as well"
   ]
  },
  {
   "cell_type": "code",
   "execution_count": 20,
   "id": "e8eb71c4",
   "metadata": {
    "execution": {
     "iopub.execute_input": "2024-01-07T00:39:49.720903Z",
     "iopub.status.busy": "2024-01-07T00:39:49.719963Z",
     "iopub.status.idle": "2024-01-07T00:39:49.723857Z",
     "shell.execute_reply": "2024-01-07T00:39:49.723301Z"
    },
    "papermill": {
     "duration": 0.01839,
     "end_time": "2024-01-07T00:39:49.725278",
     "exception": false,
     "start_time": "2024-01-07T00:39:49.706888",
     "status": "completed"
    },
    "tags": []
   },
   "outputs": [],
   "source": [
    "## features to drop\n",
    "features_to_drop = [\"Surname\", \"CustomerId\", \"Gender\", \"Geography\"]"
   ]
  },
  {
   "cell_type": "code",
   "execution_count": 21,
   "id": "28bf0b09",
   "metadata": {
    "execution": {
     "iopub.execute_input": "2024-01-07T00:39:49.750460Z",
     "iopub.status.busy": "2024-01-07T00:39:49.749579Z",
     "iopub.status.idle": "2024-01-07T00:39:49.766252Z",
     "shell.execute_reply": "2024-01-07T00:39:49.765423Z"
    },
    "papermill": {
     "duration": 0.030893,
     "end_time": "2024-01-07T00:39:49.767950",
     "exception": false,
     "start_time": "2024-01-07T00:39:49.737057",
     "status": "completed"
    },
    "tags": []
   },
   "outputs": [
    {
     "data": {
      "text/html": [
       "<div>\n",
       "<style scoped>\n",
       "    .dataframe tbody tr th:only-of-type {\n",
       "        vertical-align: middle;\n",
       "    }\n",
       "\n",
       "    .dataframe tbody tr th {\n",
       "        vertical-align: top;\n",
       "    }\n",
       "\n",
       "    .dataframe thead th {\n",
       "        text-align: right;\n",
       "    }\n",
       "</style>\n",
       "<table border=\"1\" class=\"dataframe\">\n",
       "  <thead>\n",
       "    <tr style=\"text-align: right;\">\n",
       "      <th></th>\n",
       "      <th>CreditScore</th>\n",
       "      <th>Age</th>\n",
       "      <th>Tenure</th>\n",
       "      <th>Balance</th>\n",
       "      <th>NumOfProducts</th>\n",
       "      <th>HasCrCard</th>\n",
       "      <th>IsActiveMember</th>\n",
       "      <th>EstimatedSalary</th>\n",
       "      <th>Exited</th>\n",
       "    </tr>\n",
       "  </thead>\n",
       "  <tbody>\n",
       "    <tr>\n",
       "      <th>0</th>\n",
       "      <td>668</td>\n",
       "      <td>33.0</td>\n",
       "      <td>3</td>\n",
       "      <td>0.00</td>\n",
       "      <td>2</td>\n",
       "      <td>1.0</td>\n",
       "      <td>0.0</td>\n",
       "      <td>181449.97</td>\n",
       "      <td>0</td>\n",
       "    </tr>\n",
       "    <tr>\n",
       "      <th>1</th>\n",
       "      <td>627</td>\n",
       "      <td>33.0</td>\n",
       "      <td>1</td>\n",
       "      <td>0.00</td>\n",
       "      <td>2</td>\n",
       "      <td>1.0</td>\n",
       "      <td>1.0</td>\n",
       "      <td>49503.50</td>\n",
       "      <td>0</td>\n",
       "    </tr>\n",
       "    <tr>\n",
       "      <th>2</th>\n",
       "      <td>678</td>\n",
       "      <td>40.0</td>\n",
       "      <td>10</td>\n",
       "      <td>0.00</td>\n",
       "      <td>2</td>\n",
       "      <td>1.0</td>\n",
       "      <td>0.0</td>\n",
       "      <td>184866.69</td>\n",
       "      <td>0</td>\n",
       "    </tr>\n",
       "    <tr>\n",
       "      <th>3</th>\n",
       "      <td>581</td>\n",
       "      <td>34.0</td>\n",
       "      <td>2</td>\n",
       "      <td>148882.54</td>\n",
       "      <td>1</td>\n",
       "      <td>1.0</td>\n",
       "      <td>1.0</td>\n",
       "      <td>84560.88</td>\n",
       "      <td>0</td>\n",
       "    </tr>\n",
       "    <tr>\n",
       "      <th>4</th>\n",
       "      <td>716</td>\n",
       "      <td>33.0</td>\n",
       "      <td>5</td>\n",
       "      <td>0.00</td>\n",
       "      <td>2</td>\n",
       "      <td>1.0</td>\n",
       "      <td>1.0</td>\n",
       "      <td>15068.83</td>\n",
       "      <td>0</td>\n",
       "    </tr>\n",
       "  </tbody>\n",
       "</table>\n",
       "</div>"
      ],
      "text/plain": [
       "   CreditScore   Age  Tenure    Balance  NumOfProducts  HasCrCard  \\\n",
       "0          668  33.0       3       0.00              2        1.0   \n",
       "1          627  33.0       1       0.00              2        1.0   \n",
       "2          678  40.0      10       0.00              2        1.0   \n",
       "3          581  34.0       2  148882.54              1        1.0   \n",
       "4          716  33.0       5       0.00              2        1.0   \n",
       "\n",
       "   IsActiveMember  EstimatedSalary  Exited  \n",
       "0             0.0        181449.97       0  \n",
       "1             1.0         49503.50       0  \n",
       "2             0.0        184866.69       0  \n",
       "3             1.0         84560.88       0  \n",
       "4             1.0         15068.83       0  "
      ]
     },
     "execution_count": 21,
     "metadata": {},
     "output_type": "execute_result"
    }
   ],
   "source": [
    "df.drop(columns = features_to_drop, inplace=True)\n",
    "df.head()"
   ]
  },
  {
   "cell_type": "markdown",
   "id": "fa06a28b",
   "metadata": {
    "papermill": {
     "duration": 0.011611,
     "end_time": "2024-01-07T00:39:49.792045",
     "exception": false,
     "start_time": "2024-01-07T00:39:49.780434",
     "status": "completed"
    },
    "tags": []
   },
   "source": [
    "#### EDA on AGE"
   ]
  },
  {
   "cell_type": "code",
   "execution_count": 22,
   "id": "5333def3",
   "metadata": {
    "execution": {
     "iopub.execute_input": "2024-01-07T00:39:49.817823Z",
     "iopub.status.busy": "2024-01-07T00:39:49.817092Z",
     "iopub.status.idle": "2024-01-07T00:39:49.836763Z",
     "shell.execute_reply": "2024-01-07T00:39:49.835849Z"
    },
    "papermill": {
     "duration": 0.03463,
     "end_time": "2024-01-07T00:39:49.838480",
     "exception": false,
     "start_time": "2024-01-07T00:39:49.803850",
     "status": "completed"
    },
    "tags": []
   },
   "outputs": [
    {
     "data": {
      "text/plain": [
       "count    175032.000000\n",
       "mean         38.171265\n",
       "std           8.969537\n",
       "min          18.000000\n",
       "25%          32.000000\n",
       "50%          37.000000\n",
       "75%          42.000000\n",
       "max          92.000000\n",
       "Name: Age, dtype: float64"
      ]
     },
     "execution_count": 22,
     "metadata": {},
     "output_type": "execute_result"
    }
   ],
   "source": [
    "df[\"Age\"].describe()"
   ]
  },
  {
   "cell_type": "code",
   "execution_count": 23,
   "id": "842332f4",
   "metadata": {
    "execution": {
     "iopub.execute_input": "2024-01-07T00:39:49.864488Z",
     "iopub.status.busy": "2024-01-07T00:39:49.863963Z",
     "iopub.status.idle": "2024-01-07T00:39:49.874947Z",
     "shell.execute_reply": "2024-01-07T00:39:49.874312Z"
    },
    "papermill": {
     "duration": 0.025731,
     "end_time": "2024-01-07T00:39:49.876776",
     "exception": false,
     "start_time": "2024-01-07T00:39:49.851045",
     "status": "completed"
    },
    "tags": []
   },
   "outputs": [
    {
     "name": "stdout",
     "output_type": "stream",
     "text": [
      "Youngsters:  46463\n",
      "Youngsters exited:  3783\n",
      "Percentage of youngsters exited:  8.1419624217119\n"
     ]
    }
   ],
   "source": [
    "young = df[\"Age\"].between(18, 32)\n",
    "exit = df[\"Exited\"] == 1\n",
    "\n",
    "youngsters = df[young].shape[0]\n",
    "youngsters_exited = df[young & exit].shape[0]\n",
    "\n",
    "print(\"Youngsters: \",youngsters)\n",
    "print(\"Youngsters exited: \",youngsters_exited)\n",
    "print(\"Percentage of youngsters exited: \", (youngsters_exited/youngsters)*100)"
   ]
  },
  {
   "cell_type": "code",
   "execution_count": 24,
   "id": "286fd167",
   "metadata": {
    "execution": {
     "iopub.execute_input": "2024-01-07T00:39:49.903881Z",
     "iopub.status.busy": "2024-01-07T00:39:49.903503Z",
     "iopub.status.idle": "2024-01-07T00:39:49.919072Z",
     "shell.execute_reply": "2024-01-07T00:39:49.918374Z"
    },
    "papermill": {
     "duration": 0.031276,
     "end_time": "2024-01-07T00:39:49.920964",
     "exception": false,
     "start_time": "2024-01-07T00:39:49.889688",
     "status": "completed"
    },
    "tags": []
   },
   "outputs": [
    {
     "name": "stdout",
     "output_type": "stream",
     "text": [
      "adults:  113403\n",
      "adults exited:  21261\n",
      "Percentage of adults exited:  18.7481812650459\n"
     ]
    }
   ],
   "source": [
    "adult = df[\"Age\"].between(32, 47)\n",
    "exit = df[\"Exited\"] == 1\n",
    "\n",
    "adults = df[adult].shape[0]\n",
    "adults_exited = df[adult & exit].shape[0]\n",
    "\n",
    "print(\"adults: \",adults)\n",
    "print(\"adults exited: \",adults_exited)\n",
    "print(\"Percentage of adults exited: \", (adults_exited/adults)*100)"
   ]
  },
  {
   "cell_type": "code",
   "execution_count": 25,
   "id": "281e555b",
   "metadata": {
    "execution": {
     "iopub.execute_input": "2024-01-07T00:39:49.948470Z",
     "iopub.status.busy": "2024-01-07T00:39:49.948053Z",
     "iopub.status.idle": "2024-01-07T00:39:49.960627Z",
     "shell.execute_reply": "2024-01-07T00:39:49.959499Z"
    },
    "papermill": {
     "duration": 0.028232,
     "end_time": "2024-01-07T00:39:49.962366",
     "exception": false,
     "start_time": "2024-01-07T00:39:49.934134",
     "status": "completed"
    },
    "tags": []
   },
   "outputs": [
    {
     "name": "stdout",
     "output_type": "stream",
     "text": [
      "Olders:  26204\n",
      "Olders exited:  13993\n",
      "Percentage of Olders exited:  53.40024423752099\n"
     ]
    }
   ],
   "source": [
    "Older = df[\"Age\"].between(47, 100)\n",
    "exit = df[\"Exited\"] == 1\n",
    "\n",
    "Olders = df[Older].shape[0]\n",
    "Olders_exited = df[Older & exit].shape[0]\n",
    "\n",
    "print(\"Olders: \",Olders)\n",
    "print(\"Olders exited: \",Olders_exited)\n",
    "print(\"Percentage of Olders exited: \", (Olders_exited/Olders)*100)"
   ]
  },
  {
   "cell_type": "markdown",
   "id": "2657a923",
   "metadata": {
    "papermill": {
     "duration": 0.012054,
     "end_time": "2024-01-07T00:39:49.987588",
     "exception": false,
     "start_time": "2024-01-07T00:39:49.975534",
     "status": "completed"
    },
    "tags": []
   },
   "source": [
    "Age seems to be an interesting feature as the younger people hardly exited the bank, so we can make 3 different categories in a new columns and drop the age feature, that way our model may learn the pattern better"
   ]
  },
  {
   "cell_type": "code",
   "execution_count": 26,
   "id": "53bcdf47",
   "metadata": {
    "execution": {
     "iopub.execute_input": "2024-01-07T00:39:50.014564Z",
     "iopub.status.busy": "2024-01-07T00:39:50.013528Z",
     "iopub.status.idle": "2024-01-07T00:39:56.214540Z",
     "shell.execute_reply": "2024-01-07T00:39:56.213615Z"
    },
    "papermill": {
     "duration": 6.216786,
     "end_time": "2024-01-07T00:39:56.216633",
     "exception": false,
     "start_time": "2024-01-07T00:39:49.999847",
     "status": "completed"
    },
    "tags": []
   },
   "outputs": [
    {
     "data": {
      "text/plain": [
       "[1, 1, 1, 1, 1]"
      ]
     },
     "execution_count": 26,
     "metadata": {},
     "output_type": "execute_result"
    }
   ],
   "source": [
    "#replace age with categories, young=0, adult=1, old = 2\n",
    "age_list = []\n",
    "for i in range (df.shape[0]):\n",
    "    if df[\"Age\"].iloc[i]>=18 and df[\"Age\"].iloc[i]<32:\n",
    "        age_list.append(0)\n",
    "    elif df[\"Age\"].iloc[i]>=32 and df[\"Age\"].iloc[i]<47:\n",
    "        age_list.append(1)\n",
    "    else:\n",
    "        age_list.append(2)\n",
    "        \n",
    "age_list[:5]"
   ]
  },
  {
   "cell_type": "code",
   "execution_count": 27,
   "id": "a5b84287",
   "metadata": {
    "execution": {
     "iopub.execute_input": "2024-01-07T00:39:56.245490Z",
     "iopub.status.busy": "2024-01-07T00:39:56.245044Z",
     "iopub.status.idle": "2024-01-07T00:39:56.289352Z",
     "shell.execute_reply": "2024-01-07T00:39:56.288492Z"
    },
    "papermill": {
     "duration": 0.060732,
     "end_time": "2024-01-07T00:39:56.291047",
     "exception": false,
     "start_time": "2024-01-07T00:39:56.230315",
     "status": "completed"
    },
    "tags": []
   },
   "outputs": [
    {
     "data": {
      "text/html": [
       "<div>\n",
       "<style scoped>\n",
       "    .dataframe tbody tr th:only-of-type {\n",
       "        vertical-align: middle;\n",
       "    }\n",
       "\n",
       "    .dataframe tbody tr th {\n",
       "        vertical-align: top;\n",
       "    }\n",
       "\n",
       "    .dataframe thead th {\n",
       "        text-align: right;\n",
       "    }\n",
       "</style>\n",
       "<table border=\"1\" class=\"dataframe\">\n",
       "  <thead>\n",
       "    <tr style=\"text-align: right;\">\n",
       "      <th></th>\n",
       "      <th>CreditScore</th>\n",
       "      <th>Age</th>\n",
       "      <th>Tenure</th>\n",
       "      <th>Balance</th>\n",
       "      <th>NumOfProducts</th>\n",
       "      <th>HasCrCard</th>\n",
       "      <th>IsActiveMember</th>\n",
       "      <th>EstimatedSalary</th>\n",
       "      <th>Exited</th>\n",
       "    </tr>\n",
       "  </thead>\n",
       "  <tbody>\n",
       "    <tr>\n",
       "      <th>0</th>\n",
       "      <td>668</td>\n",
       "      <td>1</td>\n",
       "      <td>3</td>\n",
       "      <td>0.00</td>\n",
       "      <td>2</td>\n",
       "      <td>1.0</td>\n",
       "      <td>0.0</td>\n",
       "      <td>181449.97</td>\n",
       "      <td>0</td>\n",
       "    </tr>\n",
       "    <tr>\n",
       "      <th>1</th>\n",
       "      <td>627</td>\n",
       "      <td>1</td>\n",
       "      <td>1</td>\n",
       "      <td>0.00</td>\n",
       "      <td>2</td>\n",
       "      <td>1.0</td>\n",
       "      <td>1.0</td>\n",
       "      <td>49503.50</td>\n",
       "      <td>0</td>\n",
       "    </tr>\n",
       "    <tr>\n",
       "      <th>2</th>\n",
       "      <td>678</td>\n",
       "      <td>1</td>\n",
       "      <td>10</td>\n",
       "      <td>0.00</td>\n",
       "      <td>2</td>\n",
       "      <td>1.0</td>\n",
       "      <td>0.0</td>\n",
       "      <td>184866.69</td>\n",
       "      <td>0</td>\n",
       "    </tr>\n",
       "    <tr>\n",
       "      <th>3</th>\n",
       "      <td>581</td>\n",
       "      <td>1</td>\n",
       "      <td>2</td>\n",
       "      <td>148882.54</td>\n",
       "      <td>1</td>\n",
       "      <td>1.0</td>\n",
       "      <td>1.0</td>\n",
       "      <td>84560.88</td>\n",
       "      <td>0</td>\n",
       "    </tr>\n",
       "    <tr>\n",
       "      <th>4</th>\n",
       "      <td>716</td>\n",
       "      <td>1</td>\n",
       "      <td>5</td>\n",
       "      <td>0.00</td>\n",
       "      <td>2</td>\n",
       "      <td>1.0</td>\n",
       "      <td>1.0</td>\n",
       "      <td>15068.83</td>\n",
       "      <td>0</td>\n",
       "    </tr>\n",
       "  </tbody>\n",
       "</table>\n",
       "</div>"
      ],
      "text/plain": [
       "   CreditScore  Age  Tenure    Balance  NumOfProducts  HasCrCard  \\\n",
       "0          668    1       3       0.00              2        1.0   \n",
       "1          627    1       1       0.00              2        1.0   \n",
       "2          678    1      10       0.00              2        1.0   \n",
       "3          581    1       2  148882.54              1        1.0   \n",
       "4          716    1       5       0.00              2        1.0   \n",
       "\n",
       "   IsActiveMember  EstimatedSalary  Exited  \n",
       "0             0.0        181449.97       0  \n",
       "1             1.0         49503.50       0  \n",
       "2             0.0        184866.69       0  \n",
       "3             1.0         84560.88       0  \n",
       "4             1.0         15068.83       0  "
      ]
     },
     "execution_count": 27,
     "metadata": {},
     "output_type": "execute_result"
    }
   ],
   "source": [
    "df[\"Age\"] = age_list\n",
    "df.head()"
   ]
  },
  {
   "cell_type": "markdown",
   "id": "6e2b13d5",
   "metadata": {
    "papermill": {
     "duration": 0.012094,
     "end_time": "2024-01-07T00:39:56.316144",
     "exception": false,
     "start_time": "2024-01-07T00:39:56.304050",
     "status": "completed"
    },
    "tags": []
   },
   "source": [
    "### Checking correlation"
   ]
  },
  {
   "cell_type": "code",
   "execution_count": 28,
   "id": "fb70d355",
   "metadata": {
    "execution": {
     "iopub.execute_input": "2024-01-07T00:39:56.343529Z",
     "iopub.status.busy": "2024-01-07T00:39:56.343132Z",
     "iopub.status.idle": "2024-01-07T00:39:56.698296Z",
     "shell.execute_reply": "2024-01-07T00:39:56.697390Z"
    },
    "papermill": {
     "duration": 0.37153,
     "end_time": "2024-01-07T00:39:56.700040",
     "exception": false,
     "start_time": "2024-01-07T00:39:56.328510",
     "status": "completed"
    },
    "tags": []
   },
   "outputs": [
    {
     "data": {
      "text/plain": [
       "<Axes: >"
      ]
     },
     "execution_count": 28,
     "metadata": {},
     "output_type": "execute_result"
    },
    {
     "data": {
      "image/png": "[encoded data removed]",
      "text/plain": [
       "<Figure size 640x480 with 2 Axes>"
      ]
     },
     "metadata": {},
     "output_type": "display_data"
    }
   ],
   "source": [
    "#checking heatmap\n",
    "corr = df.drop(columns=[\"Exited\"]).corr()\n",
    "sns.heatmap(corr)"
   ]
  },
  {
   "cell_type": "markdown",
   "id": "a5efecf3",
   "metadata": {
    "papermill": {
     "duration": 0.012614,
     "end_time": "2024-01-07T00:39:56.726134",
     "exception": false,
     "start_time": "2024-01-07T00:39:56.713520",
     "status": "completed"
    },
    "tags": []
   },
   "source": [
    "## Split"
   ]
  },
  {
   "cell_type": "code",
   "execution_count": 29,
   "id": "df4b787c",
   "metadata": {
    "execution": {
     "iopub.execute_input": "2024-01-07T00:39:56.754993Z",
     "iopub.status.busy": "2024-01-07T00:39:56.754543Z",
     "iopub.status.idle": "2024-01-07T00:39:56.763329Z",
     "shell.execute_reply": "2024-01-07T00:39:56.762416Z"
    },
    "papermill": {
     "duration": 0.025738,
     "end_time": "2024-01-07T00:39:56.765149",
     "exception": false,
     "start_time": "2024-01-07T00:39:56.739411",
     "status": "completed"
    },
    "tags": []
   },
   "outputs": [],
   "source": [
    "target = \"Exited\"\n",
    "y = df[target]\n",
    "X = df.drop(columns = [target])"
   ]
  },
  {
   "cell_type": "code",
   "execution_count": 30,
   "id": "3b460fd7",
   "metadata": {
    "execution": {
     "iopub.execute_input": "2024-01-07T00:39:56.794285Z",
     "iopub.status.busy": "2024-01-07T00:39:56.793864Z",
     "iopub.status.idle": "2024-01-07T00:39:56.836811Z",
     "shell.execute_reply": "2024-01-07T00:39:56.835623Z"
    },
    "papermill": {
     "duration": 0.059327,
     "end_time": "2024-01-07T00:39:56.838630",
     "exception": false,
     "start_time": "2024-01-07T00:39:56.779303",
     "status": "completed"
    },
    "tags": []
   },
   "outputs": [
    {
     "name": "stdout",
     "output_type": "stream",
     "text": [
      "(140025, 8)\n",
      "(35007, 8)\n",
      "(140025,)\n",
      "(35007,)\n"
     ]
    }
   ],
   "source": [
    "X_train, X_test, y_train, y_test = train_test_split(X,y,test_size=0.2, random_state=42)\n",
    "\n",
    "print(X_train.shape)\n",
    "print(X_test.shape)\n",
    "print(y_train.shape)\n",
    "print(y_test.shape)"
   ]
  },
  {
   "cell_type": "code",
   "execution_count": 31,
   "id": "9c9fd3d4",
   "metadata": {
    "execution": {
     "iopub.execute_input": "2024-01-07T00:39:56.867580Z",
     "iopub.status.busy": "2024-01-07T00:39:56.867188Z",
     "iopub.status.idle": "2024-01-07T00:39:56.871679Z",
     "shell.execute_reply": "2024-01-07T00:39:56.870996Z"
    },
    "papermill": {
     "duration": 0.020835,
     "end_time": "2024-01-07T00:39:56.873288",
     "exception": false,
     "start_time": "2024-01-07T00:39:56.852453",
     "status": "completed"
    },
    "tags": []
   },
   "outputs": [],
   "source": [
    "#Make pipeline\n",
    "model = make_pipeline(\n",
    "    StandardScaler(),\n",
    "    LogisticRegression()\n",
    ")"
   ]
  },
  {
   "cell_type": "markdown",
   "id": "41fa813f",
   "metadata": {
    "papermill": {
     "duration": 0.012813,
     "end_time": "2024-01-07T00:39:56.899734",
     "exception": false,
     "start_time": "2024-01-07T00:39:56.886921",
     "status": "completed"
    },
    "tags": []
   },
   "source": [
    "## Logistic model"
   ]
  },
  {
   "cell_type": "code",
   "execution_count": 32,
   "id": "53ac2392",
   "metadata": {
    "execution": {
     "iopub.execute_input": "2024-01-07T00:39:56.929521Z",
     "iopub.status.busy": "2024-01-07T00:39:56.928412Z",
     "iopub.status.idle": "2024-01-07T00:39:57.037394Z",
     "shell.execute_reply": "2024-01-07T00:39:57.036617Z"
    },
    "papermill": {
     "duration": 0.126272,
     "end_time": "2024-01-07T00:39:57.039528",
     "exception": false,
     "start_time": "2024-01-07T00:39:56.913256",
     "status": "completed"
    },
    "tags": []
   },
   "outputs": [
    {
     "data": {
      "text/html": [
       "<style>#sk-container-id-1 {color: black;background-color: white;}#sk-container-id-1 pre{padding: 0;}#sk-container-id-1 div.sk-toggleable {background-color: white;}#sk-container-id-1 label.sk-toggleable__label {cursor: pointer;display: block;width: 100%;margin-bottom: 0;padding: 0.3em;box-sizing: border-box;text-align: center;}#sk-container-id-1 label.sk-toggleable__label-arrow:before {content: \"▸\";float: left;margin-right: 0.25em;color: #696969;}#sk-container-id-1 label.sk-toggleable__label-arrow:hover:before {color: black;}#sk-container-id-1 div.sk-estimator:hover label.sk-toggleable__label-arrow:before {color: black;}#sk-container-id-1 div.sk-toggleable__content {max-height: 0;max-width: 0;overflow: hidden;text-align: left;background-color: #f0f8ff;}#sk-container-id-1 div.sk-toggleable__content pre {margin: 0.2em;color: black;border-radius: 0.25em;background-color: #f0f8ff;}#sk-container-id-1 input.sk-toggleable__control:checked~div.sk-toggleable__content {max-height: 200px;max-width: 100%;overflow: auto;}#sk-container-id-1 input.sk-toggleable__control:checked~label.sk-toggleable__label-arrow:before {content: \"▾\";}#sk-container-id-1 div.sk-estimator input.sk-toggleable__control:checked~label.sk-toggleable__label {background-color: #d4ebff;}#sk-container-id-1 div.sk-label input.sk-toggleable__control:checked~label.sk-toggleable__label {background-color: #d4ebff;}#sk-container-id-1 input.sk-hidden--visually {border: 0;clip: rect(1px 1px 1px 1px);clip: rect(1px, 1px, 1px, 1px);height: 1px;margin: -1px;overflow: hidden;padding: 0;position: absolute;width: 1px;}#sk-container-id-1 div.sk-estimator {font-family: monospace;background-color: #f0f8ff;border: 1px dotted black;border-radius: 0.25em;box-sizing: border-box;margin-bottom: 0.5em;}#sk-container-id-1 div.sk-estimator:hover {background-color: #d4ebff;}#sk-container-id-1 div.sk-parallel-item::after {content: \"\";width: 100%;border-bottom: 1px solid gray;flex-grow: 1;}#sk-container-id-1 div.sk-label:hover label.sk-toggleable__label {background-color: #d4ebff;}#sk-container-id-1 div.sk-serial::before {content: \"\";position: absolute;border-left: 1px solid gray;box-sizing: border-box;top: 0;bottom: 0;left: 50%;z-index: 0;}#sk-container-id-1 div.sk-serial {display: flex;flex-direction: column;align-items: center;background-color: white;padding-right: 0.2em;padding-left: 0.2em;position: relative;}#sk-container-id-1 div.sk-item {position: relative;z-index: 1;}#sk-container-id-1 div.sk-parallel {display: flex;align-items: stretch;justify-content: center;background-color: white;position: relative;}#sk-container-id-1 div.sk-item::before, #sk-container-id-1 div.sk-parallel-item::before {content: \"\";position: absolute;border-left: 1px solid gray;box-sizing: border-box;top: 0;bottom: 0;left: 50%;z-index: -1;}#sk-container-id-1 div.sk-parallel-item {display: flex;flex-direction: column;z-index: 1;position: relative;background-color: white;}#sk-container-id-1 div.sk-parallel-item:first-child::after {align-self: flex-end;width: 50%;}#sk-container-id-1 div.sk-parallel-item:last-child::after {align-self: flex-start;width: 50%;}#sk-container-id-1 div.sk-parallel-item:only-child::after {width: 0;}#sk-container-id-1 div.sk-dashed-wrapped {border: 1px dashed gray;margin: 0 0.4em 0.5em 0.4em;box-sizing: border-box;padding-bottom: 0.4em;background-color: white;}#sk-container-id-1 div.sk-label label {font-family: monospace;font-weight: bold;display: inline-block;line-height: 1.2em;}#sk-container-id-1 div.sk-label-container {text-align: center;}#sk-container-id-1 div.sk-container {/* jupyter's `normalize.less` sets `[hidden] { display: none; }` but bootstrap.min.css set `[hidden] { display: none !important; }` so we also need the `!important` here to be able to override the default hidden behavior on the sphinx rendered scikit-learn.org. See: https://github.com/scikit-learn/scikit-learn/issues/21755 */display: inline-block !important;position: relative;}#sk-container-id-1 div.sk-text-repr-fallback {display: none;}</style><div id=\"sk-container-id-1\" class=\"sk-top-container\"><div class=\"sk-text-repr-fallback\"><pre>Pipeline(steps=[(&#x27;standardscaler&#x27;, StandardScaler()),\n",
       "                (&#x27;logisticregression&#x27;, LogisticRegression())])</pre><b>In a Jupyter environment, please rerun this cell to show the HTML representation or trust the notebook. <br />On GitHub, the HTML representation is unable to render, please try loading this page with nbviewer.org.</b></div><div class=\"sk-container\" hidden><div class=\"sk-item sk-dashed-wrapped\"><div class=\"sk-label-container\"><div class=\"sk-label sk-toggleable\"><input class=\"sk-toggleable__control sk-hidden--visually\" id=\"sk-estimator-id-1\" type=\"checkbox\" ><label for=\"sk-estimator-id-1\" class=\"sk-toggleable__label sk-toggleable__label-arrow\">Pipeline</label><div class=\"sk-toggleable__content\"><pre>Pipeline(steps=[(&#x27;standardscaler&#x27;, StandardScaler()),\n",
       "                (&#x27;logisticregression&#x27;, LogisticRegression())])</pre></div></div></div><div class=\"sk-serial\"><div class=\"sk-item\"><div class=\"sk-estimator sk-toggleable\"><input class=\"sk-toggleable__control sk-hidden--visually\" id=\"sk-estimator-id-2\" type=\"checkbox\" ><label for=\"sk-estimator-id-2\" class=\"sk-toggleable__label sk-toggleable__label-arrow\">StandardScaler</label><div class=\"sk-toggleable__content\"><pre>StandardScaler()</pre></div></div></div><div class=\"sk-item\"><div class=\"sk-estimator sk-toggleable\"><input class=\"sk-toggleable__control sk-hidden--visually\" id=\"sk-estimator-id-3\" type=\"checkbox\" ><label for=\"sk-estimator-id-3\" class=\"sk-toggleable__label sk-toggleable__label-arrow\">LogisticRegression</label><div class=\"sk-toggleable__content\"><pre>LogisticRegression()</pre></div></div></div></div></div></div></div>"
      ],
      "text/plain": [
       "Pipeline(steps=[('standardscaler', StandardScaler()),\n",
       "                ('logisticregression', LogisticRegression())])"
      ]
     },
     "execution_count": 32,
     "metadata": {},
     "output_type": "execute_result"
    }
   ],
   "source": [
    "model.fit(X_train, y_train)"
   ]
  },
  {
   "cell_type": "code",
   "execution_count": 33,
   "id": "6ce52235",
   "metadata": {
    "execution": {
     "iopub.execute_input": "2024-01-07T00:39:57.077668Z",
     "iopub.status.busy": "2024-01-07T00:39:57.077268Z",
     "iopub.status.idle": "2024-01-07T00:39:57.090764Z",
     "shell.execute_reply": "2024-01-07T00:39:57.090021Z"
    },
    "papermill": {
     "duration": 0.034407,
     "end_time": "2024-01-07T00:39:57.092739",
     "exception": false,
     "start_time": "2024-01-07T00:39:57.058332",
     "status": "completed"
    },
    "tags": []
   },
   "outputs": [
    {
     "data": {
      "text/plain": [
       "array([0.18809165, 0.36233187, 0.17669798, 0.44021713, 0.3277707 ])"
      ]
     },
     "execution_count": 33,
     "metadata": {},
     "output_type": "execute_result"
    }
   ],
   "source": [
    "y_pred_lr = model.predict_proba(X_test)[:,1]\n",
    "y_pred_lr[:5]"
   ]
  },
  {
   "cell_type": "code",
   "execution_count": 34,
   "id": "3f0ec27b",
   "metadata": {
    "execution": {
     "iopub.execute_input": "2024-01-07T00:39:57.131420Z",
     "iopub.status.busy": "2024-01-07T00:39:57.131000Z",
     "iopub.status.idle": "2024-01-07T00:39:57.153601Z",
     "shell.execute_reply": "2024-01-07T00:39:57.152863Z"
    },
    "papermill": {
     "duration": 0.044245,
     "end_time": "2024-01-07T00:39:57.155651",
     "exception": false,
     "start_time": "2024-01-07T00:39:57.111406",
     "status": "completed"
    },
    "tags": []
   },
   "outputs": [
    {
     "data": {
      "text/plain": [
       "0.7692957227229063"
      ]
     },
     "execution_count": 34,
     "metadata": {},
     "output_type": "execute_result"
    }
   ],
   "source": [
    "roc = roc_auc_score(y_test, y_pred_lr)\n",
    "roc"
   ]
  },
  {
   "cell_type": "markdown",
   "id": "2de6c477",
   "metadata": {
    "papermill": {
     "duration": 0.017549,
     "end_time": "2024-01-07T00:39:57.192526",
     "exception": false,
     "start_time": "2024-01-07T00:39:57.174977",
     "status": "completed"
    },
    "tags": []
   },
   "source": [
    "## Plot the curve"
   ]
  },
  {
   "cell_type": "code",
   "execution_count": 35,
   "id": "1a212e77",
   "metadata": {
    "execution": {
     "iopub.execute_input": "2024-01-07T00:39:57.224210Z",
     "iopub.status.busy": "2024-01-07T00:39:57.223827Z",
     "iopub.status.idle": "2024-01-07T00:39:57.234739Z",
     "shell.execute_reply": "2024-01-07T00:39:57.234091Z"
    },
    "papermill": {
     "duration": 0.027748,
     "end_time": "2024-01-07T00:39:57.236583",
     "exception": false,
     "start_time": "2024-01-07T00:39:57.208835",
     "status": "completed"
    },
    "tags": []
   },
   "outputs": [],
   "source": [
    "fpr,tpr,thresholds = roc_curve(y_test, y_pred_lr)"
   ]
  },
  {
   "cell_type": "code",
   "execution_count": 36,
   "id": "24286737",
   "metadata": {
    "execution": {
     "iopub.execute_input": "2024-01-07T00:39:57.266574Z",
     "iopub.status.busy": "2024-01-07T00:39:57.265906Z",
     "iopub.status.idle": "2024-01-07T00:39:57.479883Z",
     "shell.execute_reply": "2024-01-07T00:39:57.479039Z"
    },
    "papermill": {
     "duration": 0.2308,
     "end_time": "2024-01-07T00:39:57.481805",
     "exception": false,
     "start_time": "2024-01-07T00:39:57.251005",
     "status": "completed"
    },
    "tags": []
   },
   "outputs": [
    {
     "data": {
      "image/png": "[encoded data removed]",
      "text/plain": [
       "<Figure size 500x500 with 1 Axes>"
      ]
     },
     "metadata": {},
     "output_type": "display_data"
    }
   ],
   "source": [
    "plt.figure(figsize=(5, 5))\n",
    "plt.plot(fpr, tpr, label=f'AUC = {roc:.2f}')\n",
    "plt.plot([0, 1], [0, 1], linestyle='--', color='gray', label='Random')\n",
    "plt.xlabel('False Positive Rate (FPR)')\n",
    "plt.ylabel('True Positive Rate (TPR)')\n",
    "plt.title('Receiver Operating Characteristic (ROC) Curve')\n",
    "plt.legend()\n",
    "plt.show()"
   ]
  },
  {
   "cell_type": "code",
   "execution_count": 37,
   "id": "d3cb3164",
   "metadata": {
    "execution": {
     "iopub.execute_input": "2024-01-07T00:39:57.514943Z",
     "iopub.status.busy": "2024-01-07T00:39:57.514508Z",
     "iopub.status.idle": "2024-01-07T00:39:57.519957Z",
     "shell.execute_reply": "2024-01-07T00:39:57.518716Z"
    },
    "papermill": {
     "duration": 0.023775,
     "end_time": "2024-01-07T00:39:57.522142",
     "exception": false,
     "start_time": "2024-01-07T00:39:57.498367",
     "status": "completed"
    },
    "tags": []
   },
   "outputs": [],
   "source": [
    "features_dropped = [\"id\", \"CustomerId\", \"Gender\", \"Geography\", \"Surname\"]"
   ]
  },
  {
   "cell_type": "code",
   "execution_count": 38,
   "id": "3a24f531",
   "metadata": {
    "execution": {
     "iopub.execute_input": "2024-01-07T00:39:57.552733Z",
     "iopub.status.busy": "2024-01-07T00:39:57.552356Z",
     "iopub.status.idle": "2024-01-07T00:39:57.728341Z",
     "shell.execute_reply": "2024-01-07T00:39:57.727466Z"
    },
    "papermill": {
     "duration": 0.194282,
     "end_time": "2024-01-07T00:39:57.730950",
     "exception": false,
     "start_time": "2024-01-07T00:39:57.536668",
     "status": "completed"
    },
    "tags": []
   },
   "outputs": [],
   "source": [
    "df_test = pd.read_csv(\"/kaggle/input/playground-series-s4e1/test.csv\")"
   ]
  },
  {
   "cell_type": "code",
   "execution_count": 39,
   "id": "a0af564d",
   "metadata": {
    "execution": {
     "iopub.execute_input": "2024-01-07T00:39:57.762629Z",
     "iopub.status.busy": "2024-01-07T00:39:57.761880Z",
     "iopub.status.idle": "2024-01-07T00:39:57.784701Z",
     "shell.execute_reply": "2024-01-07T00:39:57.783695Z"
    },
    "papermill": {
     "duration": 0.040363,
     "end_time": "2024-01-07T00:39:57.786677",
     "exception": false,
     "start_time": "2024-01-07T00:39:57.746314",
     "status": "completed"
    },
    "tags": []
   },
   "outputs": [
    {
     "name": "stdout",
     "output_type": "stream",
     "text": [
      "<class 'pandas.core.frame.DataFrame'>\n",
      "RangeIndex: 110023 entries, 0 to 110022\n",
      "Data columns (total 8 columns):\n",
      " #   Column           Non-Null Count   Dtype  \n",
      "---  ------           --------------   -----  \n",
      " 0   CreditScore      110023 non-null  int64  \n",
      " 1   Age              110023 non-null  float64\n",
      " 2   Tenure           110023 non-null  int64  \n",
      " 3   Balance          110023 non-null  float64\n",
      " 4   NumOfProducts    110023 non-null  int64  \n",
      " 5   HasCrCard        110023 non-null  float64\n",
      " 6   IsActiveMember   110023 non-null  float64\n",
      " 7   EstimatedSalary  110023 non-null  float64\n",
      "dtypes: float64(5), int64(3)\n",
      "memory usage: 6.7 MB\n",
      "None\n"
     ]
    },
    {
     "data": {
      "text/html": [
       "<div>\n",
       "<style scoped>\n",
       "    .dataframe tbody tr th:only-of-type {\n",
       "        vertical-align: middle;\n",
       "    }\n",
       "\n",
       "    .dataframe tbody tr th {\n",
       "        vertical-align: top;\n",
       "    }\n",
       "\n",
       "    .dataframe thead th {\n",
       "        text-align: right;\n",
       "    }\n",
       "</style>\n",
       "<table border=\"1\" class=\"dataframe\">\n",
       "  <thead>\n",
       "    <tr style=\"text-align: right;\">\n",
       "      <th></th>\n",
       "      <th>CreditScore</th>\n",
       "      <th>Age</th>\n",
       "      <th>Tenure</th>\n",
       "      <th>Balance</th>\n",
       "      <th>NumOfProducts</th>\n",
       "      <th>HasCrCard</th>\n",
       "      <th>IsActiveMember</th>\n",
       "      <th>EstimatedSalary</th>\n",
       "    </tr>\n",
       "  </thead>\n",
       "  <tbody>\n",
       "    <tr>\n",
       "      <th>0</th>\n",
       "      <td>586</td>\n",
       "      <td>23.0</td>\n",
       "      <td>2</td>\n",
       "      <td>0.00</td>\n",
       "      <td>2</td>\n",
       "      <td>0.0</td>\n",
       "      <td>1.0</td>\n",
       "      <td>160976.75</td>\n",
       "    </tr>\n",
       "    <tr>\n",
       "      <th>1</th>\n",
       "      <td>683</td>\n",
       "      <td>46.0</td>\n",
       "      <td>2</td>\n",
       "      <td>0.00</td>\n",
       "      <td>1</td>\n",
       "      <td>1.0</td>\n",
       "      <td>0.0</td>\n",
       "      <td>72549.27</td>\n",
       "    </tr>\n",
       "    <tr>\n",
       "      <th>2</th>\n",
       "      <td>656</td>\n",
       "      <td>34.0</td>\n",
       "      <td>7</td>\n",
       "      <td>0.00</td>\n",
       "      <td>2</td>\n",
       "      <td>1.0</td>\n",
       "      <td>0.0</td>\n",
       "      <td>138882.09</td>\n",
       "    </tr>\n",
       "    <tr>\n",
       "      <th>3</th>\n",
       "      <td>681</td>\n",
       "      <td>36.0</td>\n",
       "      <td>8</td>\n",
       "      <td>0.00</td>\n",
       "      <td>1</td>\n",
       "      <td>1.0</td>\n",
       "      <td>0.0</td>\n",
       "      <td>113931.57</td>\n",
       "    </tr>\n",
       "    <tr>\n",
       "      <th>4</th>\n",
       "      <td>752</td>\n",
       "      <td>38.0</td>\n",
       "      <td>10</td>\n",
       "      <td>121263.62</td>\n",
       "      <td>1</td>\n",
       "      <td>1.0</td>\n",
       "      <td>0.0</td>\n",
       "      <td>139431.00</td>\n",
       "    </tr>\n",
       "  </tbody>\n",
       "</table>\n",
       "</div>"
      ],
      "text/plain": [
       "   CreditScore   Age  Tenure    Balance  NumOfProducts  HasCrCard  \\\n",
       "0          586  23.0       2       0.00              2        0.0   \n",
       "1          683  46.0       2       0.00              1        1.0   \n",
       "2          656  34.0       7       0.00              2        1.0   \n",
       "3          681  36.0       8       0.00              1        1.0   \n",
       "4          752  38.0      10  121263.62              1        1.0   \n",
       "\n",
       "   IsActiveMember  EstimatedSalary  \n",
       "0             1.0        160976.75  \n",
       "1             0.0         72549.27  \n",
       "2             0.0        138882.09  \n",
       "3             0.0        113931.57  \n",
       "4             0.0        139431.00  "
      ]
     },
     "execution_count": 39,
     "metadata": {},
     "output_type": "execute_result"
    }
   ],
   "source": [
    "df_id = df_test[\"id\"]\n",
    "df_test.drop(columns = features_dropped, inplace=True)\n",
    "print(df_test.info())\n",
    "df_test.head()"
   ]
  },
  {
   "cell_type": "code",
   "execution_count": 40,
   "id": "17691b92",
   "metadata": {
    "execution": {
     "iopub.execute_input": "2024-01-07T00:39:57.818830Z",
     "iopub.status.busy": "2024-01-07T00:39:57.818451Z",
     "iopub.status.idle": "2024-01-07T00:40:01.758665Z",
     "shell.execute_reply": "2024-01-07T00:40:01.757462Z"
    },
    "papermill": {
     "duration": 3.958464,
     "end_time": "2024-01-07T00:40:01.760589",
     "exception": false,
     "start_time": "2024-01-07T00:39:57.802125",
     "status": "completed"
    },
    "tags": []
   },
   "outputs": [
    {
     "name": "stdout",
     "output_type": "stream",
     "text": [
      "[0, 1, 1, 1, 1]\n"
     ]
    },
    {
     "data": {
      "text/html": [
       "<div>\n",
       "<style scoped>\n",
       "    .dataframe tbody tr th:only-of-type {\n",
       "        vertical-align: middle;\n",
       "    }\n",
       "\n",
       "    .dataframe tbody tr th {\n",
       "        vertical-align: top;\n",
       "    }\n",
       "\n",
       "    .dataframe thead th {\n",
       "        text-align: right;\n",
       "    }\n",
       "</style>\n",
       "<table border=\"1\" class=\"dataframe\">\n",
       "  <thead>\n",
       "    <tr style=\"text-align: right;\">\n",
       "      <th></th>\n",
       "      <th>CreditScore</th>\n",
       "      <th>Age</th>\n",
       "      <th>Tenure</th>\n",
       "      <th>Balance</th>\n",
       "      <th>NumOfProducts</th>\n",
       "      <th>HasCrCard</th>\n",
       "      <th>IsActiveMember</th>\n",
       "      <th>EstimatedSalary</th>\n",
       "    </tr>\n",
       "  </thead>\n",
       "  <tbody>\n",
       "    <tr>\n",
       "      <th>0</th>\n",
       "      <td>586</td>\n",
       "      <td>0</td>\n",
       "      <td>2</td>\n",
       "      <td>0.00</td>\n",
       "      <td>2</td>\n",
       "      <td>0.0</td>\n",
       "      <td>1.0</td>\n",
       "      <td>160976.75</td>\n",
       "    </tr>\n",
       "    <tr>\n",
       "      <th>1</th>\n",
       "      <td>683</td>\n",
       "      <td>1</td>\n",
       "      <td>2</td>\n",
       "      <td>0.00</td>\n",
       "      <td>1</td>\n",
       "      <td>1.0</td>\n",
       "      <td>0.0</td>\n",
       "      <td>72549.27</td>\n",
       "    </tr>\n",
       "    <tr>\n",
       "      <th>2</th>\n",
       "      <td>656</td>\n",
       "      <td>1</td>\n",
       "      <td>7</td>\n",
       "      <td>0.00</td>\n",
       "      <td>2</td>\n",
       "      <td>1.0</td>\n",
       "      <td>0.0</td>\n",
       "      <td>138882.09</td>\n",
       "    </tr>\n",
       "    <tr>\n",
       "      <th>3</th>\n",
       "      <td>681</td>\n",
       "      <td>1</td>\n",
       "      <td>8</td>\n",
       "      <td>0.00</td>\n",
       "      <td>1</td>\n",
       "      <td>1.0</td>\n",
       "      <td>0.0</td>\n",
       "      <td>113931.57</td>\n",
       "    </tr>\n",
       "    <tr>\n",
       "      <th>4</th>\n",
       "      <td>752</td>\n",
       "      <td>1</td>\n",
       "      <td>10</td>\n",
       "      <td>121263.62</td>\n",
       "      <td>1</td>\n",
       "      <td>1.0</td>\n",
       "      <td>0.0</td>\n",
       "      <td>139431.00</td>\n",
       "    </tr>\n",
       "  </tbody>\n",
       "</table>\n",
       "</div>"
      ],
      "text/plain": [
       "   CreditScore  Age  Tenure    Balance  NumOfProducts  HasCrCard  \\\n",
       "0          586    0       2       0.00              2        0.0   \n",
       "1          683    1       2       0.00              1        1.0   \n",
       "2          656    1       7       0.00              2        1.0   \n",
       "3          681    1       8       0.00              1        1.0   \n",
       "4          752    1      10  121263.62              1        1.0   \n",
       "\n",
       "   IsActiveMember  EstimatedSalary  \n",
       "0             1.0        160976.75  \n",
       "1             0.0         72549.27  \n",
       "2             0.0        138882.09  \n",
       "3             0.0        113931.57  \n",
       "4             0.0        139431.00  "
      ]
     },
     "execution_count": 40,
     "metadata": {},
     "output_type": "execute_result"
    }
   ],
   "source": [
    "#Making Age Categories\n",
    "age_list = []\n",
    "for i in range (df_test.shape[0]):\n",
    "    if df_test[\"Age\"].iloc[i]>=18 and df_test[\"Age\"].iloc[i]<32:\n",
    "        age_list.append(0)\n",
    "    elif df_test[\"Age\"].iloc[i]>=32 and df_test[\"Age\"].iloc[i]<47:\n",
    "        age_list.append(1)\n",
    "    else:\n",
    "        age_list.append(2)\n",
    "        \n",
    "print(age_list[:5])\n",
    "df_test[\"Age\"] = age_list\n",
    "df_test.head()"
   ]
  },
  {
   "cell_type": "code",
   "execution_count": 41,
   "id": "3e2e42e8",
   "metadata": {
    "execution": {
     "iopub.execute_input": "2024-01-07T00:40:01.792472Z",
     "iopub.status.busy": "2024-01-07T00:40:01.791556Z",
     "iopub.status.idle": "2024-01-07T00:40:01.813586Z",
     "shell.execute_reply": "2024-01-07T00:40:01.812535Z"
    },
    "papermill": {
     "duration": 0.040048,
     "end_time": "2024-01-07T00:40:01.815674",
     "exception": false,
     "start_time": "2024-01-07T00:40:01.775626",
     "status": "completed"
    },
    "tags": []
   },
   "outputs": [
    {
     "data": {
      "text/plain": [
       "array([0.02028433, 0.32222252, 0.18082201, 0.31140045, 0.36615815])"
      ]
     },
     "execution_count": 41,
     "metadata": {},
     "output_type": "execute_result"
    }
   ],
   "source": [
    "predictions = model.predict_proba(df_test)[:,1]\n",
    "predictions[:5]"
   ]
  },
  {
   "cell_type": "code",
   "execution_count": 42,
   "id": "f1a12184",
   "metadata": {
    "execution": {
     "iopub.execute_input": "2024-01-07T00:40:01.857555Z",
     "iopub.status.busy": "2024-01-07T00:40:01.856521Z",
     "iopub.status.idle": "2024-01-07T00:40:01.863605Z",
     "shell.execute_reply": "2024-01-07T00:40:01.862497Z"
    },
    "papermill": {
     "duration": 0.031264,
     "end_time": "2024-01-07T00:40:01.867247",
     "exception": false,
     "start_time": "2024-01-07T00:40:01.835983",
     "status": "completed"
    },
    "tags": []
   },
   "outputs": [
    {
     "data": {
      "text/plain": [
       "110023"
      ]
     },
     "execution_count": 42,
     "metadata": {},
     "output_type": "execute_result"
    }
   ],
   "source": [
    "len(predictions)"
   ]
  },
  {
   "cell_type": "code",
   "execution_count": 43,
   "id": "eb0e6327",
   "metadata": {
    "execution": {
     "iopub.execute_input": "2024-01-07T00:40:01.910794Z",
     "iopub.status.busy": "2024-01-07T00:40:01.910019Z",
     "iopub.status.idle": "2024-01-07T00:40:01.922028Z",
     "shell.execute_reply": "2024-01-07T00:40:01.921185Z"
    },
    "papermill": {
     "duration": 0.035574,
     "end_time": "2024-01-07T00:40:01.923771",
     "exception": false,
     "start_time": "2024-01-07T00:40:01.888197",
     "status": "completed"
    },
    "tags": []
   },
   "outputs": [
    {
     "data": {
      "text/html": [
       "<div>\n",
       "<style scoped>\n",
       "    .dataframe tbody tr th:only-of-type {\n",
       "        vertical-align: middle;\n",
       "    }\n",
       "\n",
       "    .dataframe tbody tr th {\n",
       "        vertical-align: top;\n",
       "    }\n",
       "\n",
       "    .dataframe thead th {\n",
       "        text-align: right;\n",
       "    }\n",
       "</style>\n",
       "<table border=\"1\" class=\"dataframe\">\n",
       "  <thead>\n",
       "    <tr style=\"text-align: right;\">\n",
       "      <th></th>\n",
       "      <th>0</th>\n",
       "      <th>1</th>\n",
       "    </tr>\n",
       "  </thead>\n",
       "  <tbody>\n",
       "    <tr>\n",
       "      <th>0</th>\n",
       "      <td>165034</td>\n",
       "      <td>0.020284</td>\n",
       "    </tr>\n",
       "    <tr>\n",
       "      <th>1</th>\n",
       "      <td>165035</td>\n",
       "      <td>0.322223</td>\n",
       "    </tr>\n",
       "    <tr>\n",
       "      <th>2</th>\n",
       "      <td>165036</td>\n",
       "      <td>0.180822</td>\n",
       "    </tr>\n",
       "    <tr>\n",
       "      <th>3</th>\n",
       "      <td>165037</td>\n",
       "      <td>0.311400</td>\n",
       "    </tr>\n",
       "    <tr>\n",
       "      <th>4</th>\n",
       "      <td>165038</td>\n",
       "      <td>0.366158</td>\n",
       "    </tr>\n",
       "  </tbody>\n",
       "</table>\n",
       "</div>"
      ],
      "text/plain": [
       "        0         1\n",
       "0  165034  0.020284\n",
       "1  165035  0.322223\n",
       "2  165036  0.180822\n",
       "3  165037  0.311400\n",
       "4  165038  0.366158"
      ]
     },
     "execution_count": 43,
     "metadata": {},
     "output_type": "execute_result"
    }
   ],
   "source": [
    "submission = pd.concat([df_id, pd.DataFrame(predictions)], axis=1,ignore_index=True)\n",
    "submission.head()"
   ]
  },
  {
   "cell_type": "code",
   "execution_count": 44,
   "id": "a72035cb",
   "metadata": {
    "execution": {
     "iopub.execute_input": "2024-01-07T00:40:01.956090Z",
     "iopub.status.busy": "2024-01-07T00:40:01.955707Z",
     "iopub.status.idle": "2024-01-07T00:40:01.960355Z",
     "shell.execute_reply": "2024-01-07T00:40:01.959603Z"
    },
    "papermill": {
     "duration": 0.022619,
     "end_time": "2024-01-07T00:40:01.961868",
     "exception": false,
     "start_time": "2024-01-07T00:40:01.939249",
     "status": "completed"
    },
    "tags": []
   },
   "outputs": [],
   "source": [
    "submission.columns = [\"id\", \"Exited\"]"
   ]
  },
  {
   "cell_type": "code",
   "execution_count": 45,
   "id": "486f205a",
   "metadata": {
    "execution": {
     "iopub.execute_input": "2024-01-07T00:40:01.996736Z",
     "iopub.status.busy": "2024-01-07T00:40:01.995516Z",
     "iopub.status.idle": "2024-01-07T00:40:02.196740Z",
     "shell.execute_reply": "2024-01-07T00:40:02.195694Z"
    },
    "papermill": {
     "duration": 0.221701,
     "end_time": "2024-01-07T00:40:02.199416",
     "exception": false,
     "start_time": "2024-01-07T00:40:01.977715",
     "status": "completed"
    },
    "tags": []
   },
   "outputs": [],
   "source": [
    "submission.to_csv(\"submission.csv\", index=False)"
   ]
  },
  {
   "cell_type": "code",
   "execution_count": null,
   "id": "0cf9d599",
   "metadata": {
    "papermill": {
     "duration": 0.014006,
     "end_time": "2024-01-07T00:40:02.229267",
     "exception": false,
     "start_time": "2024-01-07T00:40:02.215261",
     "status": "completed"
    },
    "tags": []
   },
   "outputs": [],
   "source": []
  }
 ],
 "metadata": {
  "kaggle": {
   "accelerator": "none",
   "dataSources": [
    {
     "databundleVersionId": 7405009,
     "sourceId": 65711,
     "sourceType": "competition"
    },
    {
     "datasetId": 3191230,
     "sourceId": 5536933,
     "sourceType": "datasetVersion"
    }
   ],
   "dockerImageVersionId": 30626,
   "isGpuEnabled": false,
   "isInternetEnabled": true,
   "language": "python",
   "sourceType": "notebook"
  },
  "kernelspec": {
   "display_name": "Python 3",
   "language": "python",
   "name": "python3"
  },
  "language_info": {
   "codemirror_mode": {
    "name": "ipython",
    "version": 3
   },
   "file_extension": ".py",
   "mimetype": "text/x-python",
   "name": "python",
   "nbconvert_exporter": "python",
   "pygments_lexer": "ipython3",
   "version": "3.10.12"
  },
  "papermill": {
   "default_parameters": {},
   "duration": 18.724406,
   "end_time": "2024-01-07T00:40:02.964245",
   "environment_variables": {},
   "exception": null,
   "input_path": "__notebook__.ipynb",
   "output_path": "__notebook__.ipynb",
   "parameters": {},
   "start_time": "2024-01-07T00:39:44.239839",
   "version": "2.4.0"
  }
 },
 "nbformat": 4,
 "nbformat_minor": 5
}
